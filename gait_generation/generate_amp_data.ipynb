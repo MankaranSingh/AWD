{
 "cells": [
  {
   "cell_type": "code",
   "execution_count": 12,
   "metadata": {},
   "outputs": [],
   "source": [
    "import json \n",
    "import os\n",
    "import subprocess\n",
    "import numpy as np"
   ]
  },
  {
   "cell_type": "code",
   "execution_count": 13,
   "metadata": {},
   "outputs": [],
   "source": [
    "# go bdx\n",
    "slow = 0.221\n",
    "medium = 0.336\n",
    "fast = 0.568\n",
    "\n",
    "# mini bdx\n",
    "slow = 0.05\n",
    "medium = 0.1\n",
    "fast = 0.15\n"
   ]
  },
  {
   "cell_type": "code",
   "execution_count": 14,
   "metadata": {},
   "outputs": [
    {
     "name": "stderr",
     "output_type": "stream",
     "text": [
      "<frozen importlib._bootstrap>:219: RuntimeWarning: to-Python converter for std::vector<std::__cxx11::basic_string<char, std::char_traits<char>, std::allocator<char> >, std::allocator<std::__cxx11::basic_string<char, std::char_traits<char>, std::allocator<char> > > > already registered; second conversion method ignored.\n",
      "<frozen importlib._bootstrap>:219: RuntimeWarning: to-Python converter for std::vector<double, std::allocator<double> > already registered; second conversion method ignored.\n",
      "<frozen importlib._bootstrap>:219: RuntimeWarning: to-Python converter for std::vector<int, std::allocator<int> > already registered; second conversion method ignored.\n"
     ]
    },
    {
     "name": "stdout",
     "output_type": "stream",
     "text": [
      "gait_parameters {'dx': -0.05, 'dy': 0.03, 'dtheta': -0.24, 'duration': 8, 'hardware': True, 'double_support_ratio': 0.5, 'startend_double_support_ratio': 1.0, 'planned_timesteps': 48, 'replan_timesteps': 10, 'walk_com_height': 0.19, 'walk_foot_height': 0.03, 'walk_trunk_pitch': -3, 'walk_foot_rise_ratio': 0.02, 'single_support_duration': 0.22, 'single_support_timesteps': 10, 'foot_length': 0.06, 'feet_spacing': 0.16, 'zmp_margin': 0.0, 'foot_zmp_target_x': 0.0, 'foot_zmp_target_y': -0.03, 'walk_max_dtheta': 1.0, 'walk_max_dy': 0.1, 'walk_max_dx_forward': 0.08, 'walk_max_dx_backward': 0.03, 'joints': ['left_hip_yaw', 'left_hip_roll', 'left_hip_pitch', 'left_knee', 'left_ankle', 'neck_pitch', 'head_pitch', 'head_yaw', 'head_roll', 'left_antenna', 'right_antenna', 'right_hip_yaw', 'right_hip_roll', 'right_hip_pitch', 'right_knee', 'right_ankle'], 'joint_angles': {'neck_pitch': 0, 'head_pitch': 0, 'head_yaw': 0, 'head_roll': 0, 'left_antenna': 0, 'right_antenna': 0}}\n"
     ]
    },
    {
     "name": "stderr",
     "output_type": "stream",
     "text": [
      "WARNING: Robot has the following self collisions in neutral position:\n",
      "  -head_assembly_5 collides with left_antenna_holder_1\n",
      "  -head_assembly_6 collides with right_antenna_holder_0\n",
      "WARNING: Can't find head frames in the model, camera_look_at won't work\n"
     ]
    },
    {
     "name": "stdout",
     "output_type": "stream",
     "text": [
      "Placing the robot in the initial position...\n",
      "Initial position reached\n",
      "{'left_hip_yaw': 0.04384448495867586, 'left_hip_roll': 0.08227996528371245, 'left_hip_pitch': -0.4319707158813395, 'left_knee': 0.8340599878238436, 'left_ankle': -0.45531071231336245, 'neck_pitch': -5.040117786021889e-05, 'head_pitch': -4.725233687447016e-05, 'head_yaw': 3.2485822468381597e-06, 'head_roll': 2.1419222210315492e-06, 'left_antenna': 1.8133491084059128e-07, 'right_antenna': -1.8591539899450453e-07, 'right_hip_yaw': 0.038234121045090934, 'right_hip_roll': -0.022202701579960495, 'right_hip_pitch': 0.5520527357704211, 'right_knee': 1.1206501538861333, 'right_ankle': -0.6216497736939007}\n",
      "## period: 0.6599999999999999\n",
      "center_y_pos: -0.08\n",
      "recorded 300 frames\n",
      "avg lin_vel_x 0.0821\n",
      "avg lin_vel_y -0.0631\n",
      "avg yaw -0.0069\n",
      "DONE, saving 0.json\n"
     ]
    },
    {
     "name": "stderr",
     "output_type": "stream",
     "text": [
      "<frozen importlib._bootstrap>:219: RuntimeWarning: to-Python converter for std::vector<std::__cxx11::basic_string<char, std::char_traits<char>, std::allocator<char> >, std::allocator<std::__cxx11::basic_string<char, std::char_traits<char>, std::allocator<char> > > > already registered; second conversion method ignored.\n",
      "<frozen importlib._bootstrap>:219: RuntimeWarning: to-Python converter for std::vector<double, std::allocator<double> > already registered; second conversion method ignored.\n",
      "<frozen importlib._bootstrap>:219: RuntimeWarning: to-Python converter for std::vector<int, std::allocator<int> > already registered; second conversion method ignored.\n"
     ]
    },
    {
     "name": "stdout",
     "output_type": "stream",
     "text": [
      "gait_parameters {'dx': -0.04, 'dy': -0.05, 'dtheta': -0.13, 'duration': 8, 'hardware': True, 'double_support_ratio': 0.5, 'startend_double_support_ratio': 1.0, 'planned_timesteps': 48, 'replan_timesteps': 10, 'walk_com_height': 0.19, 'walk_foot_height': 0.03, 'walk_trunk_pitch': -3, 'walk_foot_rise_ratio': 0.02, 'single_support_duration': 0.22, 'single_support_timesteps': 10, 'foot_length': 0.06, 'feet_spacing': 0.16, 'zmp_margin': 0.0, 'foot_zmp_target_x': 0.0, 'foot_zmp_target_y': -0.03, 'walk_max_dtheta': 1.0, 'walk_max_dy': 0.1, 'walk_max_dx_forward': 0.08, 'walk_max_dx_backward': 0.03, 'joints': ['left_hip_yaw', 'left_hip_roll', 'left_hip_pitch', 'left_knee', 'left_ankle', 'neck_pitch', 'head_pitch', 'head_yaw', 'head_roll', 'left_antenna', 'right_antenna', 'right_hip_yaw', 'right_hip_roll', 'right_hip_pitch', 'right_knee', 'right_ankle'], 'joint_angles': {'neck_pitch': 0, 'head_pitch': 0, 'head_yaw': 0, 'head_roll': 0, 'left_antenna': 0, 'right_antenna': 0}}\n"
     ]
    },
    {
     "name": "stderr",
     "output_type": "stream",
     "text": [
      "WARNING: Robot has the following self collisions in neutral position:\n",
      "  -head_assembly_5 collides with left_antenna_holder_1\n",
      "  -head_assembly_6 collides with right_antenna_holder_0\n",
      "WARNING: Can't find head frames in the model, camera_look_at won't work\n"
     ]
    },
    {
     "name": "stdout",
     "output_type": "stream",
     "text": [
      "Placing the robot in the initial position...\n",
      "Initial position reached\n",
      "{'left_hip_yaw': 0.04384448495867586, 'left_hip_roll': 0.08227996528371245, 'left_hip_pitch': -0.4319707158813395, 'left_knee': 0.8340599878238436, 'left_ankle': -0.45531071231336245, 'neck_pitch': -5.040117786021889e-05, 'head_pitch': -4.725233687447016e-05, 'head_yaw': 3.2485822468381597e-06, 'head_roll': 2.1419222210315492e-06, 'left_antenna': 1.8133491084059128e-07, 'right_antenna': -1.8591539899450453e-07, 'right_hip_yaw': 0.038234121045090934, 'right_hip_roll': -0.022202701579960495, 'right_hip_pitch': 0.5520527357704211, 'right_knee': 1.1206501538861333, 'right_ankle': -0.6216497736939007}\n",
      "## period: 0.6599999999999999\n",
      "center_y_pos: -0.08\n",
      "recorded 300 frames\n",
      "avg lin_vel_x -0.0472\n",
      "avg lin_vel_y 0.1389\n",
      "avg yaw -0.0027\n",
      "DONE, saving 1.json\n"
     ]
    },
    {
     "name": "stderr",
     "output_type": "stream",
     "text": [
      "<frozen importlib._bootstrap>:219: RuntimeWarning: to-Python converter for std::vector<std::__cxx11::basic_string<char, std::char_traits<char>, std::allocator<char> >, std::allocator<std::__cxx11::basic_string<char, std::char_traits<char>, std::allocator<char> > > > already registered; second conversion method ignored.\n",
      "<frozen importlib._bootstrap>:219: RuntimeWarning: to-Python converter for std::vector<double, std::allocator<double> > already registered; second conversion method ignored.\n",
      "<frozen importlib._bootstrap>:219: RuntimeWarning: to-Python converter for std::vector<int, std::allocator<int> > already registered; second conversion method ignored.\n"
     ]
    },
    {
     "name": "stdout",
     "output_type": "stream",
     "text": [
      "gait_parameters {'dx': 0.01, 'dy': -0.01, 'dtheta': -0.24, 'duration': 8, 'hardware': True, 'double_support_ratio': 0.5, 'startend_double_support_ratio': 1.0, 'planned_timesteps': 48, 'replan_timesteps': 10, 'walk_com_height': 0.19, 'walk_foot_height': 0.03, 'walk_trunk_pitch': -3, 'walk_foot_rise_ratio': 0.02, 'single_support_duration': 0.22, 'single_support_timesteps': 10, 'foot_length': 0.06, 'feet_spacing': 0.16, 'zmp_margin': 0.0, 'foot_zmp_target_x': 0.0, 'foot_zmp_target_y': -0.03, 'walk_max_dtheta': 1.0, 'walk_max_dy': 0.1, 'walk_max_dx_forward': 0.08, 'walk_max_dx_backward': 0.03, 'joints': ['left_hip_yaw', 'left_hip_roll', 'left_hip_pitch', 'left_knee', 'left_ankle', 'neck_pitch', 'head_pitch', 'head_yaw', 'head_roll', 'left_antenna', 'right_antenna', 'right_hip_yaw', 'right_hip_roll', 'right_hip_pitch', 'right_knee', 'right_ankle'], 'joint_angles': {'neck_pitch': 0, 'head_pitch': 0, 'head_yaw': 0, 'head_roll': 0, 'left_antenna': 0, 'right_antenna': 0}}\n"
     ]
    },
    {
     "name": "stderr",
     "output_type": "stream",
     "text": [
      "WARNING: Robot has the following self collisions in neutral position:\n",
      "  -head_assembly_5 collides with left_antenna_holder_1\n",
      "  -head_assembly_6 collides with right_antenna_holder_0\n",
      "WARNING: Can't find head frames in the model, camera_look_at won't work\n"
     ]
    },
    {
     "name": "stdout",
     "output_type": "stream",
     "text": [
      "Placing the robot in the initial position...\n",
      "Initial position reached\n",
      "{'left_hip_yaw': 0.04384448495867586, 'left_hip_roll': 0.08227996528371245, 'left_hip_pitch': -0.4319707158813395, 'left_knee': 0.8340599878238436, 'left_ankle': -0.45531071231336245, 'neck_pitch': -5.040117786021889e-05, 'head_pitch': -4.725233687447016e-05, 'head_yaw': 3.2485822468381597e-06, 'head_roll': 2.1419222210315492e-06, 'left_antenna': 1.8133491084059128e-07, 'right_antenna': -1.8591539899450453e-07, 'right_hip_yaw': 0.038234121045090934, 'right_hip_roll': -0.022202701579960495, 'right_hip_pitch': 0.5520527357704211, 'right_knee': 1.1206501538861333, 'right_ankle': -0.6216497736939007}\n",
      "## period: 0.6599999999999999\n",
      "center_y_pos: -0.08\n",
      "recorded 300 frames\n",
      "avg lin_vel_x 0.0291\n",
      "avg lin_vel_y -0.0431\n",
      "avg yaw -0.0201\n",
      "DONE, saving 2.json\n"
     ]
    },
    {
     "name": "stderr",
     "output_type": "stream",
     "text": [
      "<frozen importlib._bootstrap>:219: RuntimeWarning: to-Python converter for std::vector<std::__cxx11::basic_string<char, std::char_traits<char>, std::allocator<char> >, std::allocator<std::__cxx11::basic_string<char, std::char_traits<char>, std::allocator<char> > > > already registered; second conversion method ignored.\n",
      "<frozen importlib._bootstrap>:219: RuntimeWarning: to-Python converter for std::vector<double, std::allocator<double> > already registered; second conversion method ignored.\n",
      "<frozen importlib._bootstrap>:219: RuntimeWarning: to-Python converter for std::vector<int, std::allocator<int> > already registered; second conversion method ignored.\n"
     ]
    },
    {
     "name": "stdout",
     "output_type": "stream",
     "text": [
      "gait_parameters {'dx': 0.04, 'dy': -0.04, 'dtheta': 0.23, 'duration': 8, 'hardware': True, 'double_support_ratio': 0.5, 'startend_double_support_ratio': 1.0, 'planned_timesteps': 48, 'replan_timesteps': 10, 'walk_com_height': 0.19, 'walk_foot_height': 0.03, 'walk_trunk_pitch': -3, 'walk_foot_rise_ratio': 0.02, 'single_support_duration': 0.22, 'single_support_timesteps': 10, 'foot_length': 0.06, 'feet_spacing': 0.16, 'zmp_margin': 0.0, 'foot_zmp_target_x': 0.0, 'foot_zmp_target_y': -0.03, 'walk_max_dtheta': 1.0, 'walk_max_dy': 0.1, 'walk_max_dx_forward': 0.08, 'walk_max_dx_backward': 0.03, 'joints': ['left_hip_yaw', 'left_hip_roll', 'left_hip_pitch', 'left_knee', 'left_ankle', 'neck_pitch', 'head_pitch', 'head_yaw', 'head_roll', 'left_antenna', 'right_antenna', 'right_hip_yaw', 'right_hip_roll', 'right_hip_pitch', 'right_knee', 'right_ankle'], 'joint_angles': {'neck_pitch': 0, 'head_pitch': 0, 'head_yaw': 0, 'head_roll': 0, 'left_antenna': 0, 'right_antenna': 0}}\n"
     ]
    },
    {
     "name": "stderr",
     "output_type": "stream",
     "text": [
      "WARNING: Robot has the following self collisions in neutral position:\n",
      "  -head_assembly_5 collides with left_antenna_holder_1\n",
      "  -head_assembly_6 collides with right_antenna_holder_0\n",
      "WARNING: Can't find head frames in the model, camera_look_at won't work\n"
     ]
    },
    {
     "name": "stdout",
     "output_type": "stream",
     "text": [
      "Placing the robot in the initial position...\n",
      "Initial position reached\n",
      "{'left_hip_yaw': 0.04384448495867586, 'left_hip_roll': 0.08227996528371245, 'left_hip_pitch': -0.4319707158813395, 'left_knee': 0.8340599878238436, 'left_ankle': -0.45531071231336245, 'neck_pitch': -5.040117786021889e-05, 'head_pitch': -4.725233687447016e-05, 'head_yaw': 3.2485822468381597e-06, 'head_roll': 2.1419222210315492e-06, 'left_antenna': 1.8133491084059128e-07, 'right_antenna': -1.8591539899450453e-07, 'right_hip_yaw': 0.038234121045090934, 'right_hip_roll': -0.022202701579960495, 'right_hip_pitch': 0.5520527357704211, 'right_knee': 1.1206501538861333, 'right_ankle': -0.6216497736939007}\n",
      "## period: 0.6599999999999999\n",
      "center_y_pos: -0.08\n",
      "recorded 300 frames\n",
      "avg lin_vel_x 0.1093\n",
      "avg lin_vel_y -0.1128\n",
      "avg yaw 0.0217\n",
      "DONE, saving 3.json\n"
     ]
    },
    {
     "name": "stderr",
     "output_type": "stream",
     "text": [
      "<frozen importlib._bootstrap>:219: RuntimeWarning: to-Python converter for std::vector<std::__cxx11::basic_string<char, std::char_traits<char>, std::allocator<char> >, std::allocator<std::__cxx11::basic_string<char, std::char_traits<char>, std::allocator<char> > > > already registered; second conversion method ignored.\n",
      "<frozen importlib._bootstrap>:219: RuntimeWarning: to-Python converter for std::vector<double, std::allocator<double> > already registered; second conversion method ignored.\n",
      "<frozen importlib._bootstrap>:219: RuntimeWarning: to-Python converter for std::vector<int, std::allocator<int> > already registered; second conversion method ignored.\n"
     ]
    },
    {
     "name": "stdout",
     "output_type": "stream",
     "text": [
      "gait_parameters {'dx': -0.0, 'dy': 0.01, 'dtheta': -0.11, 'duration': 8, 'hardware': True, 'double_support_ratio': 0.5, 'startend_double_support_ratio': 1.0, 'planned_timesteps': 48, 'replan_timesteps': 10, 'walk_com_height': 0.19, 'walk_foot_height': 0.03, 'walk_trunk_pitch': 5, 'walk_foot_rise_ratio': 0.02, 'single_support_duration': 0.18, 'single_support_timesteps': 10, 'foot_length': 0.06, 'feet_spacing': 0.16, 'zmp_margin': 0.0, 'foot_zmp_target_x': 0.0, 'foot_zmp_target_y': -0.03, 'walk_max_dtheta': 1.0, 'walk_max_dy': 0.1, 'walk_max_dx_forward': 0.08, 'walk_max_dx_backward': 0.03, 'joints': ['left_hip_yaw', 'left_hip_roll', 'left_hip_pitch', 'left_knee', 'left_ankle', 'neck_pitch', 'head_pitch', 'head_yaw', 'head_roll', 'left_antenna', 'right_antenna', 'right_hip_yaw', 'right_hip_roll', 'right_hip_pitch', 'right_knee', 'right_ankle'], 'joint_angles': {'neck_pitch': 0, 'head_pitch': 0, 'head_yaw': 0, 'head_roll': 0, 'left_antenna': 0, 'right_antenna': 0}}\n"
     ]
    },
    {
     "name": "stderr",
     "output_type": "stream",
     "text": [
      "WARNING: Robot has the following self collisions in neutral position:\n",
      "  -head_assembly_5 collides with left_antenna_holder_1\n",
      "  -head_assembly_6 collides with right_antenna_holder_0\n",
      "WARNING: Can't find head frames in the model, camera_look_at won't work\n"
     ]
    },
    {
     "name": "stdout",
     "output_type": "stream",
     "text": [
      "Placing the robot in the initial position...\n",
      "Initial position reached\n",
      "{'left_hip_yaw': 0.03856073916697742, 'left_hip_roll': 0.07691234231316556, 'left_hip_pitch': -0.1508004296650294, 'left_knee': 0.737914879554754, 'left_ankle': -0.5002092270122876, 'neck_pitch': -0.00014650529827118036, 'head_pitch': -8.113406909632949e-05, 'head_yaw': 5.24007316640369e-06, 'head_roll': 3.1548197389333287e-06, 'left_antenna': 1.0947757521027012e-07, 'right_antenna': -1.1587403430728602e-07, 'right_hip_yaw': 0.047723089820247096, 'right_hip_roll': -0.029051215821507007, 'right_hip_pitch': 0.2964067682733741, 'right_knee': 1.0861277494285748, 'right_ankle': -0.7030056538707278}\n",
      "## period: 0.54\n",
      "center_y_pos: -0.08\n",
      "recorded 300 frames\n",
      "avg lin_vel_x -0.0056\n",
      "avg lin_vel_y -0.0344\n",
      "avg yaw -0.0055\n",
      "DONE, saving 4.json\n"
     ]
    },
    {
     "name": "stderr",
     "output_type": "stream",
     "text": [
      "<frozen importlib._bootstrap>:219: RuntimeWarning: to-Python converter for std::vector<std::__cxx11::basic_string<char, std::char_traits<char>, std::allocator<char> >, std::allocator<std::__cxx11::basic_string<char, std::char_traits<char>, std::allocator<char> > > > already registered; second conversion method ignored.\n",
      "<frozen importlib._bootstrap>:219: RuntimeWarning: to-Python converter for std::vector<double, std::allocator<double> > already registered; second conversion method ignored.\n",
      "<frozen importlib._bootstrap>:219: RuntimeWarning: to-Python converter for std::vector<int, std::allocator<int> > already registered; second conversion method ignored.\n"
     ]
    },
    {
     "name": "stdout",
     "output_type": "stream",
     "text": [
      "gait_parameters {'dx': 0.02, 'dy': -0.03, 'dtheta': 0.21, 'duration': 8, 'hardware': True, 'double_support_ratio': 0.5, 'startend_double_support_ratio': 1.0, 'planned_timesteps': 48, 'replan_timesteps': 10, 'walk_com_height': 0.19, 'walk_foot_height': 0.03, 'walk_trunk_pitch': 5, 'walk_foot_rise_ratio': 0.02, 'single_support_duration': 0.18, 'single_support_timesteps': 10, 'foot_length': 0.06, 'feet_spacing': 0.16, 'zmp_margin': 0.0, 'foot_zmp_target_x': 0.0, 'foot_zmp_target_y': -0.03, 'walk_max_dtheta': 1.0, 'walk_max_dy': 0.1, 'walk_max_dx_forward': 0.08, 'walk_max_dx_backward': 0.03, 'joints': ['left_hip_yaw', 'left_hip_roll', 'left_hip_pitch', 'left_knee', 'left_ankle', 'neck_pitch', 'head_pitch', 'head_yaw', 'head_roll', 'left_antenna', 'right_antenna', 'right_hip_yaw', 'right_hip_roll', 'right_hip_pitch', 'right_knee', 'right_ankle'], 'joint_angles': {'neck_pitch': 0, 'head_pitch': 0, 'head_yaw': 0, 'head_roll': 0, 'left_antenna': 0, 'right_antenna': 0}}\n"
     ]
    },
    {
     "name": "stderr",
     "output_type": "stream",
     "text": [
      "WARNING: Robot has the following self collisions in neutral position:\n",
      "  -head_assembly_5 collides with left_antenna_holder_1\n",
      "  -head_assembly_6 collides with right_antenna_holder_0\n",
      "WARNING: Can't find head frames in the model, camera_look_at won't work\n"
     ]
    },
    {
     "name": "stdout",
     "output_type": "stream",
     "text": [
      "Placing the robot in the initial position...\n",
      "Initial position reached\n",
      "{'left_hip_yaw': 0.03856073916697742, 'left_hip_roll': 0.07691234231316556, 'left_hip_pitch': -0.1508004296650294, 'left_knee': 0.737914879554754, 'left_ankle': -0.5002092270122876, 'neck_pitch': -0.00014650529827118036, 'head_pitch': -8.113406909632949e-05, 'head_yaw': 5.24007316640369e-06, 'head_roll': 3.1548197389333287e-06, 'left_antenna': 1.0947757521027012e-07, 'right_antenna': -1.1587403430728602e-07, 'right_hip_yaw': 0.047723089820247096, 'right_hip_roll': -0.029051215821507007, 'right_hip_pitch': 0.2964067682733741, 'right_knee': 1.0861277494285748, 'right_ankle': -0.7030056538707278}\n",
      "## period: 0.54\n",
      "center_y_pos: -0.08\n",
      "recorded 300 frames\n",
      "avg lin_vel_x 0.0938\n",
      "avg lin_vel_y -0.0282\n",
      "avg yaw 0.0261\n",
      "DONE, saving 5.json\n"
     ]
    },
    {
     "name": "stderr",
     "output_type": "stream",
     "text": [
      "<frozen importlib._bootstrap>:219: RuntimeWarning: to-Python converter for std::vector<std::__cxx11::basic_string<char, std::char_traits<char>, std::allocator<char> >, std::allocator<std::__cxx11::basic_string<char, std::char_traits<char>, std::allocator<char> > > > already registered; second conversion method ignored.\n",
      "<frozen importlib._bootstrap>:219: RuntimeWarning: to-Python converter for std::vector<double, std::allocator<double> > already registered; second conversion method ignored.\n",
      "<frozen importlib._bootstrap>:219: RuntimeWarning: to-Python converter for std::vector<int, std::allocator<int> > already registered; second conversion method ignored.\n"
     ]
    },
    {
     "name": "stdout",
     "output_type": "stream",
     "text": [
      "gait_parameters {'dx': -0.0, 'dy': 0.05, 'dtheta': -0.06, 'duration': 8, 'hardware': True, 'double_support_ratio': 0.5, 'startend_double_support_ratio': 1.0, 'planned_timesteps': 48, 'replan_timesteps': 10, 'walk_com_height': 0.19, 'walk_foot_height': 0.03, 'walk_trunk_pitch': -3, 'walk_foot_rise_ratio': 0.02, 'single_support_duration': 0.22, 'single_support_timesteps': 10, 'foot_length': 0.06, 'feet_spacing': 0.16, 'zmp_margin': 0.0, 'foot_zmp_target_x': 0.0, 'foot_zmp_target_y': -0.03, 'walk_max_dtheta': 1.0, 'walk_max_dy': 0.1, 'walk_max_dx_forward': 0.08, 'walk_max_dx_backward': 0.03, 'joints': ['left_hip_yaw', 'left_hip_roll', 'left_hip_pitch', 'left_knee', 'left_ankle', 'neck_pitch', 'head_pitch', 'head_yaw', 'head_roll', 'left_antenna', 'right_antenna', 'right_hip_yaw', 'right_hip_roll', 'right_hip_pitch', 'right_knee', 'right_ankle'], 'joint_angles': {'neck_pitch': 0, 'head_pitch': 0, 'head_yaw': 0, 'head_roll': 0, 'left_antenna': 0, 'right_antenna': 0}}\n"
     ]
    },
    {
     "name": "stderr",
     "output_type": "stream",
     "text": [
      "WARNING: Robot has the following self collisions in neutral position:\n",
      "  -head_assembly_5 collides with left_antenna_holder_1\n",
      "  -head_assembly_6 collides with right_antenna_holder_0\n",
      "WARNING: Can't find head frames in the model, camera_look_at won't work\n"
     ]
    },
    {
     "name": "stdout",
     "output_type": "stream",
     "text": [
      "Placing the robot in the initial position...\n",
      "Initial position reached\n",
      "{'left_hip_yaw': 0.04384448495867586, 'left_hip_roll': 0.08227996528371245, 'left_hip_pitch': -0.4319707158813395, 'left_knee': 0.8340599878238436, 'left_ankle': -0.45531071231336245, 'neck_pitch': -5.040117786021889e-05, 'head_pitch': -4.725233687447016e-05, 'head_yaw': 3.2485822468381597e-06, 'head_roll': 2.1419222210315492e-06, 'left_antenna': 1.8133491084059128e-07, 'right_antenna': -1.8591539899450453e-07, 'right_hip_yaw': 0.038234121045090934, 'right_hip_roll': -0.022202701579960495, 'right_hip_pitch': 0.5520527357704211, 'right_knee': 1.1206501538861333, 'right_ankle': -0.6216497736939007}\n",
      "## period: 0.6599999999999999\n",
      "center_y_pos: -0.08\n",
      "recorded 300 frames\n",
      "avg lin_vel_x 0.1117\n",
      "avg lin_vel_y 0.0616\n",
      "avg yaw -0.0007\n",
      "DONE, saving 6.json\n"
     ]
    },
    {
     "name": "stderr",
     "output_type": "stream",
     "text": [
      "<frozen importlib._bootstrap>:219: RuntimeWarning: to-Python converter for std::vector<std::__cxx11::basic_string<char, std::char_traits<char>, std::allocator<char> >, std::allocator<std::__cxx11::basic_string<char, std::char_traits<char>, std::allocator<char> > > > already registered; second conversion method ignored.\n",
      "<frozen importlib._bootstrap>:219: RuntimeWarning: to-Python converter for std::vector<double, std::allocator<double> > already registered; second conversion method ignored.\n",
      "<frozen importlib._bootstrap>:219: RuntimeWarning: to-Python converter for std::vector<int, std::allocator<int> > already registered; second conversion method ignored.\n"
     ]
    },
    {
     "name": "stdout",
     "output_type": "stream",
     "text": [
      "gait_parameters {'dx': 0.03, 'dy': -0.01, 'dtheta': 0.17, 'duration': 8, 'hardware': True, 'double_support_ratio': 0.5, 'startend_double_support_ratio': 1.0, 'planned_timesteps': 48, 'replan_timesteps': 10, 'walk_com_height': 0.19, 'walk_foot_height': 0.03, 'walk_trunk_pitch': 5, 'walk_foot_rise_ratio': 0.02, 'single_support_duration': 0.18, 'single_support_timesteps': 10, 'foot_length': 0.06, 'feet_spacing': 0.16, 'zmp_margin': 0.0, 'foot_zmp_target_x': 0.0, 'foot_zmp_target_y': -0.03, 'walk_max_dtheta': 1.0, 'walk_max_dy': 0.1, 'walk_max_dx_forward': 0.08, 'walk_max_dx_backward': 0.03, 'joints': ['left_hip_yaw', 'left_hip_roll', 'left_hip_pitch', 'left_knee', 'left_ankle', 'neck_pitch', 'head_pitch', 'head_yaw', 'head_roll', 'left_antenna', 'right_antenna', 'right_hip_yaw', 'right_hip_roll', 'right_hip_pitch', 'right_knee', 'right_ankle'], 'joint_angles': {'neck_pitch': 0, 'head_pitch': 0, 'head_yaw': 0, 'head_roll': 0, 'left_antenna': 0, 'right_antenna': 0}}\n"
     ]
    },
    {
     "name": "stderr",
     "output_type": "stream",
     "text": [
      "WARNING: Robot has the following self collisions in neutral position:\n",
      "  -head_assembly_5 collides with left_antenna_holder_1\n",
      "  -head_assembly_6 collides with right_antenna_holder_0\n",
      "WARNING: Can't find head frames in the model, camera_look_at won't work\n"
     ]
    },
    {
     "name": "stdout",
     "output_type": "stream",
     "text": [
      "Placing the robot in the initial position...\n",
      "Initial position reached\n",
      "{'left_hip_yaw': 0.03856073916697742, 'left_hip_roll': 0.07691234231316556, 'left_hip_pitch': -0.1508004296650294, 'left_knee': 0.737914879554754, 'left_ankle': -0.5002092270122876, 'neck_pitch': -0.00014650529827118036, 'head_pitch': -8.113406909632949e-05, 'head_yaw': 5.24007316640369e-06, 'head_roll': 3.1548197389333287e-06, 'left_antenna': 1.0947757521027012e-07, 'right_antenna': -1.1587403430728602e-07, 'right_hip_yaw': 0.047723089820247096, 'right_hip_roll': -0.029051215821507007, 'right_hip_pitch': 0.2964067682733741, 'right_knee': 1.0861277494285748, 'right_ankle': -0.7030056538707278}\n",
      "## period: 0.54\n",
      "center_y_pos: -0.08\n",
      "recorded 300 frames\n",
      "avg lin_vel_x 0.07\n",
      "avg lin_vel_y -0.0686\n",
      "avg yaw 0.0175\n",
      "DONE, saving 7.json\n"
     ]
    },
    {
     "name": "stderr",
     "output_type": "stream",
     "text": [
      "<frozen importlib._bootstrap>:219: RuntimeWarning: to-Python converter for std::vector<std::__cxx11::basic_string<char, std::char_traits<char>, std::allocator<char> >, std::allocator<std::__cxx11::basic_string<char, std::char_traits<char>, std::allocator<char> > > > already registered; second conversion method ignored.\n",
      "<frozen importlib._bootstrap>:219: RuntimeWarning: to-Python converter for std::vector<double, std::allocator<double> > already registered; second conversion method ignored.\n",
      "<frozen importlib._bootstrap>:219: RuntimeWarning: to-Python converter for std::vector<int, std::allocator<int> > already registered; second conversion method ignored.\n"
     ]
    },
    {
     "name": "stdout",
     "output_type": "stream",
     "text": [
      "gait_parameters {'dx': 0.04, 'dy': -0.04, 'dtheta': -0.17, 'duration': 8, 'hardware': True, 'double_support_ratio': 0.5, 'startend_double_support_ratio': 1.0, 'planned_timesteps': 48, 'replan_timesteps': 10, 'walk_com_height': 0.19, 'walk_foot_height': 0.03, 'walk_trunk_pitch': -3, 'walk_foot_rise_ratio': 0.02, 'single_support_duration': 0.22, 'single_support_timesteps': 10, 'foot_length': 0.06, 'feet_spacing': 0.16, 'zmp_margin': 0.0, 'foot_zmp_target_x': 0.0, 'foot_zmp_target_y': -0.03, 'walk_max_dtheta': 1.0, 'walk_max_dy': 0.1, 'walk_max_dx_forward': 0.08, 'walk_max_dx_backward': 0.03, 'joints': ['left_hip_yaw', 'left_hip_roll', 'left_hip_pitch', 'left_knee', 'left_ankle', 'neck_pitch', 'head_pitch', 'head_yaw', 'head_roll', 'left_antenna', 'right_antenna', 'right_hip_yaw', 'right_hip_roll', 'right_hip_pitch', 'right_knee', 'right_ankle'], 'joint_angles': {'neck_pitch': 0, 'head_pitch': 0, 'head_yaw': 0, 'head_roll': 0, 'left_antenna': 0, 'right_antenna': 0}}\n"
     ]
    },
    {
     "name": "stderr",
     "output_type": "stream",
     "text": [
      "WARNING: Robot has the following self collisions in neutral position:\n",
      "  -head_assembly_5 collides with left_antenna_holder_1\n",
      "  -head_assembly_6 collides with right_antenna_holder_0\n",
      "WARNING: Can't find head frames in the model, camera_look_at won't work\n"
     ]
    },
    {
     "name": "stdout",
     "output_type": "stream",
     "text": [
      "Placing the robot in the initial position...\n",
      "Initial position reached\n",
      "{'left_hip_yaw': 0.04384448495867586, 'left_hip_roll': 0.08227996528371245, 'left_hip_pitch': -0.4319707158813395, 'left_knee': 0.8340599878238436, 'left_ankle': -0.45531071231336245, 'neck_pitch': -5.040117786021889e-05, 'head_pitch': -4.725233687447016e-05, 'head_yaw': 3.2485822468381597e-06, 'head_roll': 2.1419222210315492e-06, 'left_antenna': 1.8133491084059128e-07, 'right_antenna': -1.8591539899450453e-07, 'right_hip_yaw': 0.038234121045090934, 'right_hip_roll': -0.022202701579960495, 'right_hip_pitch': 0.5520527357704211, 'right_knee': 1.1206501538861333, 'right_ankle': -0.6216497736939007}\n",
      "## period: 0.6599999999999999\n",
      "center_y_pos: -0.08\n",
      "recorded 300 frames\n",
      "avg lin_vel_x 0.0477\n",
      "avg lin_vel_y 0.1633\n",
      "avg yaw -0.0098\n",
      "DONE, saving 8.json\n"
     ]
    },
    {
     "name": "stderr",
     "output_type": "stream",
     "text": [
      "<frozen importlib._bootstrap>:219: RuntimeWarning: to-Python converter for std::vector<std::__cxx11::basic_string<char, std::char_traits<char>, std::allocator<char> >, std::allocator<std::__cxx11::basic_string<char, std::char_traits<char>, std::allocator<char> > > > already registered; second conversion method ignored.\n",
      "<frozen importlib._bootstrap>:219: RuntimeWarning: to-Python converter for std::vector<double, std::allocator<double> > already registered; second conversion method ignored.\n",
      "<frozen importlib._bootstrap>:219: RuntimeWarning: to-Python converter for std::vector<int, std::allocator<int> > already registered; second conversion method ignored.\n"
     ]
    },
    {
     "name": "stdout",
     "output_type": "stream",
     "text": [
      "gait_parameters {'dx': 0.01, 'dy': 0.03, 'dtheta': 0.07, 'duration': 8, 'hardware': True, 'double_support_ratio': 0.5, 'startend_double_support_ratio': 1.0, 'planned_timesteps': 48, 'replan_timesteps': 10, 'walk_com_height': 0.19, 'walk_foot_height': 0.03, 'walk_trunk_pitch': 5, 'walk_foot_rise_ratio': 0.02, 'single_support_duration': 0.18, 'single_support_timesteps': 10, 'foot_length': 0.06, 'feet_spacing': 0.16, 'zmp_margin': 0.0, 'foot_zmp_target_x': 0.0, 'foot_zmp_target_y': -0.03, 'walk_max_dtheta': 1.0, 'walk_max_dy': 0.1, 'walk_max_dx_forward': 0.08, 'walk_max_dx_backward': 0.03, 'joints': ['left_hip_yaw', 'left_hip_roll', 'left_hip_pitch', 'left_knee', 'left_ankle', 'neck_pitch', 'head_pitch', 'head_yaw', 'head_roll', 'left_antenna', 'right_antenna', 'right_hip_yaw', 'right_hip_roll', 'right_hip_pitch', 'right_knee', 'right_ankle'], 'joint_angles': {'neck_pitch': 0, 'head_pitch': 0, 'head_yaw': 0, 'head_roll': 0, 'left_antenna': 0, 'right_antenna': 0}}\n"
     ]
    },
    {
     "name": "stderr",
     "output_type": "stream",
     "text": [
      "WARNING: Robot has the following self collisions in neutral position:\n",
      "  -head_assembly_5 collides with left_antenna_holder_1\n",
      "  -head_assembly_6 collides with right_antenna_holder_0\n",
      "WARNING: Can't find head frames in the model, camera_look_at won't work\n"
     ]
    },
    {
     "name": "stdout",
     "output_type": "stream",
     "text": [
      "Placing the robot in the initial position...\n",
      "Initial position reached\n",
      "{'left_hip_yaw': 0.03856073916697742, 'left_hip_roll': 0.07691234231316556, 'left_hip_pitch': -0.1508004296650294, 'left_knee': 0.737914879554754, 'left_ankle': -0.5002092270122876, 'neck_pitch': -0.00014650529827118036, 'head_pitch': -8.113406909632949e-05, 'head_yaw': 5.24007316640369e-06, 'head_roll': 3.1548197389333287e-06, 'left_antenna': 1.0947757521027012e-07, 'right_antenna': -1.1587403430728602e-07, 'right_hip_yaw': 0.047723089820247096, 'right_hip_roll': -0.029051215821507007, 'right_hip_pitch': 0.2964067682733741, 'right_knee': 1.0861277494285748, 'right_ankle': -0.7030056538707278}\n",
      "## period: 0.54\n",
      "center_y_pos: -0.08\n",
      "recorded 300 frames\n",
      "avg lin_vel_x -0.0999\n",
      "avg lin_vel_y -0.0803\n",
      "avg yaw 0.0034\n",
      "DONE, saving 9.json\n"
     ]
    },
    {
     "name": "stderr",
     "output_type": "stream",
     "text": [
      "<frozen importlib._bootstrap>:219: RuntimeWarning: to-Python converter for std::vector<std::__cxx11::basic_string<char, std::char_traits<char>, std::allocator<char> >, std::allocator<std::__cxx11::basic_string<char, std::char_traits<char>, std::allocator<char> > > > already registered; second conversion method ignored.\n",
      "<frozen importlib._bootstrap>:219: RuntimeWarning: to-Python converter for std::vector<double, std::allocator<double> > already registered; second conversion method ignored.\n",
      "<frozen importlib._bootstrap>:219: RuntimeWarning: to-Python converter for std::vector<int, std::allocator<int> > already registered; second conversion method ignored.\n"
     ]
    },
    {
     "name": "stdout",
     "output_type": "stream",
     "text": [
      "gait_parameters {'dx': 0.01, 'dy': 0.05, 'dtheta': 0.0, 'duration': 8, 'hardware': True, 'double_support_ratio': 0.5, 'startend_double_support_ratio': 1.0, 'planned_timesteps': 48, 'replan_timesteps': 10, 'walk_com_height': 0.19, 'walk_foot_height': 0.03, 'walk_trunk_pitch': -3, 'walk_foot_rise_ratio': 0.02, 'single_support_duration': 0.22, 'single_support_timesteps': 10, 'foot_length': 0.06, 'feet_spacing': 0.16, 'zmp_margin': 0.0, 'foot_zmp_target_x': 0.0, 'foot_zmp_target_y': -0.03, 'walk_max_dtheta': 1.0, 'walk_max_dy': 0.1, 'walk_max_dx_forward': 0.08, 'walk_max_dx_backward': 0.03, 'joints': ['left_hip_yaw', 'left_hip_roll', 'left_hip_pitch', 'left_knee', 'left_ankle', 'neck_pitch', 'head_pitch', 'head_yaw', 'head_roll', 'left_antenna', 'right_antenna', 'right_hip_yaw', 'right_hip_roll', 'right_hip_pitch', 'right_knee', 'right_ankle'], 'joint_angles': {'neck_pitch': 0, 'head_pitch': 0, 'head_yaw': 0, 'head_roll': 0, 'left_antenna': 0, 'right_antenna': 0}}\n"
     ]
    },
    {
     "name": "stderr",
     "output_type": "stream",
     "text": [
      "WARNING: Robot has the following self collisions in neutral position:\n",
      "  -head_assembly_5 collides with left_antenna_holder_1\n",
      "  -head_assembly_6 collides with right_antenna_holder_0\n",
      "WARNING: Can't find head frames in the model, camera_look_at won't work\n"
     ]
    },
    {
     "name": "stdout",
     "output_type": "stream",
     "text": [
      "Placing the robot in the initial position...\n",
      "Initial position reached\n",
      "{'left_hip_yaw': 0.04384448495867586, 'left_hip_roll': 0.08227996528371245, 'left_hip_pitch': -0.4319707158813395, 'left_knee': 0.8340599878238436, 'left_ankle': -0.45531071231336245, 'neck_pitch': -5.040117786021889e-05, 'head_pitch': -4.725233687447016e-05, 'head_yaw': 3.2485822468381597e-06, 'head_roll': 2.1419222210315492e-06, 'left_antenna': 1.8133491084059128e-07, 'right_antenna': -1.8591539899450453e-07, 'right_hip_yaw': 0.038234121045090934, 'right_hip_roll': -0.022202701579960495, 'right_hip_pitch': 0.5520527357704211, 'right_knee': 1.1206501538861333, 'right_ankle': -0.6216497736939007}\n",
      "## period: 0.6599999999999999\n",
      "center_y_pos: -0.08\n",
      "recorded 300 frames\n",
      "avg lin_vel_x -0.0007\n",
      "avg lin_vel_y 0.1351\n",
      "avg yaw 0.0\n",
      "DONE, saving 10.json\n"
     ]
    },
    {
     "name": "stderr",
     "output_type": "stream",
     "text": [
      "<frozen importlib._bootstrap>:219: RuntimeWarning: to-Python converter for std::vector<std::__cxx11::basic_string<char, std::char_traits<char>, std::allocator<char> >, std::allocator<std::__cxx11::basic_string<char, std::char_traits<char>, std::allocator<char> > > > already registered; second conversion method ignored.\n",
      "<frozen importlib._bootstrap>:219: RuntimeWarning: to-Python converter for std::vector<double, std::allocator<double> > already registered; second conversion method ignored.\n",
      "<frozen importlib._bootstrap>:219: RuntimeWarning: to-Python converter for std::vector<int, std::allocator<int> > already registered; second conversion method ignored.\n"
     ]
    },
    {
     "name": "stdout",
     "output_type": "stream",
     "text": [
      "gait_parameters {'dx': 0.05, 'dy': -0.01, 'dtheta': -0.21, 'duration': 8, 'hardware': True, 'double_support_ratio': 0.5, 'startend_double_support_ratio': 1.0, 'planned_timesteps': 48, 'replan_timesteps': 10, 'walk_com_height': 0.19, 'walk_foot_height': 0.03, 'walk_trunk_pitch': -3, 'walk_foot_rise_ratio': 0.02, 'single_support_duration': 0.22, 'single_support_timesteps': 10, 'foot_length': 0.06, 'feet_spacing': 0.16, 'zmp_margin': 0.0, 'foot_zmp_target_x': 0.0, 'foot_zmp_target_y': -0.03, 'walk_max_dtheta': 1.0, 'walk_max_dy': 0.1, 'walk_max_dx_forward': 0.08, 'walk_max_dx_backward': 0.03, 'joints': ['left_hip_yaw', 'left_hip_roll', 'left_hip_pitch', 'left_knee', 'left_ankle', 'neck_pitch', 'head_pitch', 'head_yaw', 'head_roll', 'left_antenna', 'right_antenna', 'right_hip_yaw', 'right_hip_roll', 'right_hip_pitch', 'right_knee', 'right_ankle'], 'joint_angles': {'neck_pitch': 0, 'head_pitch': 0, 'head_yaw': 0, 'head_roll': 0, 'left_antenna': 0, 'right_antenna': 0}}\n"
     ]
    },
    {
     "name": "stderr",
     "output_type": "stream",
     "text": [
      "WARNING: Robot has the following self collisions in neutral position:\n",
      "  -head_assembly_5 collides with left_antenna_holder_1\n",
      "  -head_assembly_6 collides with right_antenna_holder_0\n",
      "WARNING: Can't find head frames in the model, camera_look_at won't work\n"
     ]
    },
    {
     "name": "stdout",
     "output_type": "stream",
     "text": [
      "Placing the robot in the initial position...\n",
      "Initial position reached\n",
      "{'left_hip_yaw': 0.04384448495867586, 'left_hip_roll': 0.08227996528371245, 'left_hip_pitch': -0.4319707158813395, 'left_knee': 0.8340599878238436, 'left_ankle': -0.45531071231336245, 'neck_pitch': -5.040117786021889e-05, 'head_pitch': -4.725233687447016e-05, 'head_yaw': 3.2485822468381597e-06, 'head_roll': 2.1419222210315492e-06, 'left_antenna': 1.8133491084059128e-07, 'right_antenna': -1.8591539899450453e-07, 'right_hip_yaw': 0.038234121045090934, 'right_hip_roll': -0.022202701579960495, 'right_hip_pitch': 0.5520527357704211, 'right_knee': 1.1206501538861333, 'right_ankle': -0.6216497736939007}\n",
      "## period: 0.6599999999999999\n",
      "center_y_pos: -0.08\n",
      "recorded 300 frames\n",
      "avg lin_vel_x 0.0942\n",
      "avg lin_vel_y 0.098\n",
      "avg yaw -0.0152\n",
      "DONE, saving 11.json\n"
     ]
    },
    {
     "name": "stderr",
     "output_type": "stream",
     "text": [
      "<frozen importlib._bootstrap>:219: RuntimeWarning: to-Python converter for std::vector<std::__cxx11::basic_string<char, std::char_traits<char>, std::allocator<char> >, std::allocator<std::__cxx11::basic_string<char, std::char_traits<char>, std::allocator<char> > > > already registered; second conversion method ignored.\n",
      "<frozen importlib._bootstrap>:219: RuntimeWarning: to-Python converter for std::vector<double, std::allocator<double> > already registered; second conversion method ignored.\n",
      "<frozen importlib._bootstrap>:219: RuntimeWarning: to-Python converter for std::vector<int, std::allocator<int> > already registered; second conversion method ignored.\n"
     ]
    },
    {
     "name": "stdout",
     "output_type": "stream",
     "text": [
      "gait_parameters {'dx': -0.04, 'dy': -0.02, 'dtheta': -0.22, 'duration': 8, 'hardware': True, 'double_support_ratio': 0.5, 'startend_double_support_ratio': 1.0, 'planned_timesteps': 48, 'replan_timesteps': 10, 'walk_com_height': 0.19, 'walk_foot_height': 0.03, 'walk_trunk_pitch': -3, 'walk_foot_rise_ratio': 0.02, 'single_support_duration': 0.22, 'single_support_timesteps': 10, 'foot_length': 0.06, 'feet_spacing': 0.16, 'zmp_margin': 0.0, 'foot_zmp_target_x': 0.0, 'foot_zmp_target_y': -0.03, 'walk_max_dtheta': 1.0, 'walk_max_dy': 0.1, 'walk_max_dx_forward': 0.08, 'walk_max_dx_backward': 0.03, 'joints': ['left_hip_yaw', 'left_hip_roll', 'left_hip_pitch', 'left_knee', 'left_ankle', 'neck_pitch', 'head_pitch', 'head_yaw', 'head_roll', 'left_antenna', 'right_antenna', 'right_hip_yaw', 'right_hip_roll', 'right_hip_pitch', 'right_knee', 'right_ankle'], 'joint_angles': {'neck_pitch': 0, 'head_pitch': 0, 'head_yaw': 0, 'head_roll': 0, 'left_antenna': 0, 'right_antenna': 0}}\n"
     ]
    },
    {
     "name": "stderr",
     "output_type": "stream",
     "text": [
      "WARNING: Robot has the following self collisions in neutral position:\n",
      "  -head_assembly_5 collides with left_antenna_holder_1\n",
      "  -head_assembly_6 collides with right_antenna_holder_0\n",
      "WARNING: Can't find head frames in the model, camera_look_at won't work\n"
     ]
    },
    {
     "name": "stdout",
     "output_type": "stream",
     "text": [
      "Placing the robot in the initial position...\n",
      "Initial position reached\n",
      "{'left_hip_yaw': 0.04384448495867586, 'left_hip_roll': 0.08227996528371245, 'left_hip_pitch': -0.4319707158813395, 'left_knee': 0.8340599878238436, 'left_ankle': -0.45531071231336245, 'neck_pitch': -5.040117786021889e-05, 'head_pitch': -4.725233687447016e-05, 'head_yaw': 3.2485822468381597e-06, 'head_roll': 2.1419222210315492e-06, 'left_antenna': 1.8133491084059128e-07, 'right_antenna': -1.8591539899450453e-07, 'right_hip_yaw': 0.038234121045090934, 'right_hip_roll': -0.022202701579960495, 'right_hip_pitch': 0.5520527357704211, 'right_knee': 1.1206501538861333, 'right_ankle': -0.6216497736939007}\n",
      "## period: 0.6599999999999999\n",
      "center_y_pos: -0.08\n",
      "recorded 300 frames\n",
      "avg lin_vel_x 0.1114\n",
      "avg lin_vel_y -0.0266\n",
      "avg yaw -0.009\n",
      "DONE, saving 12.json\n"
     ]
    },
    {
     "name": "stderr",
     "output_type": "stream",
     "text": [
      "<frozen importlib._bootstrap>:219: RuntimeWarning: to-Python converter for std::vector<std::__cxx11::basic_string<char, std::char_traits<char>, std::allocator<char> >, std::allocator<std::__cxx11::basic_string<char, std::char_traits<char>, std::allocator<char> > > > already registered; second conversion method ignored.\n",
      "<frozen importlib._bootstrap>:219: RuntimeWarning: to-Python converter for std::vector<double, std::allocator<double> > already registered; second conversion method ignored.\n",
      "<frozen importlib._bootstrap>:219: RuntimeWarning: to-Python converter for std::vector<int, std::allocator<int> > already registered; second conversion method ignored.\n"
     ]
    },
    {
     "name": "stdout",
     "output_type": "stream",
     "text": [
      "gait_parameters {'dx': 0.03, 'dy': 0.02, 'dtheta': -0.13, 'duration': 8, 'hardware': True, 'double_support_ratio': 0.5, 'startend_double_support_ratio': 1.0, 'planned_timesteps': 48, 'replan_timesteps': 10, 'walk_com_height': 0.19, 'walk_foot_height': 0.03, 'walk_trunk_pitch': -3, 'walk_foot_rise_ratio': 0.02, 'single_support_duration': 0.22, 'single_support_timesteps': 10, 'foot_length': 0.06, 'feet_spacing': 0.16, 'zmp_margin': 0.0, 'foot_zmp_target_x': 0.0, 'foot_zmp_target_y': -0.03, 'walk_max_dtheta': 1.0, 'walk_max_dy': 0.1, 'walk_max_dx_forward': 0.08, 'walk_max_dx_backward': 0.03, 'joints': ['left_hip_yaw', 'left_hip_roll', 'left_hip_pitch', 'left_knee', 'left_ankle', 'neck_pitch', 'head_pitch', 'head_yaw', 'head_roll', 'left_antenna', 'right_antenna', 'right_hip_yaw', 'right_hip_roll', 'right_hip_pitch', 'right_knee', 'right_ankle'], 'joint_angles': {'neck_pitch': 0, 'head_pitch': 0, 'head_yaw': 0, 'head_roll': 0, 'left_antenna': 0, 'right_antenna': 0}}\n"
     ]
    },
    {
     "name": "stderr",
     "output_type": "stream",
     "text": [
      "WARNING: Robot has the following self collisions in neutral position:\n",
      "  -head_assembly_5 collides with left_antenna_holder_1\n",
      "  -head_assembly_6 collides with right_antenna_holder_0\n",
      "WARNING: Can't find head frames in the model, camera_look_at won't work\n"
     ]
    },
    {
     "name": "stdout",
     "output_type": "stream",
     "text": [
      "Placing the robot in the initial position...\n",
      "Initial position reached\n",
      "{'left_hip_yaw': 0.04384448495867586, 'left_hip_roll': 0.08227996528371245, 'left_hip_pitch': -0.4319707158813395, 'left_knee': 0.8340599878238436, 'left_ankle': -0.45531071231336245, 'neck_pitch': -5.040117786021889e-05, 'head_pitch': -4.725233687447016e-05, 'head_yaw': 3.2485822468381597e-06, 'head_roll': 2.1419222210315492e-06, 'left_antenna': 1.8133491084059128e-07, 'right_antenna': -1.8591539899450453e-07, 'right_hip_yaw': 0.038234121045090934, 'right_hip_roll': -0.022202701579960495, 'right_hip_pitch': 0.5520527357704211, 'right_knee': 1.1206501538861333, 'right_ankle': -0.6216497736939007}\n",
      "## period: 0.6599999999999999\n",
      "center_y_pos: -0.08\n",
      "recorded 300 frames\n",
      "avg lin_vel_x -0.0765\n",
      "avg lin_vel_y -0.0522\n",
      "avg yaw -0.0055\n",
      "DONE, saving 13.json\n"
     ]
    },
    {
     "name": "stderr",
     "output_type": "stream",
     "text": [
      "<frozen importlib._bootstrap>:219: RuntimeWarning: to-Python converter for std::vector<std::__cxx11::basic_string<char, std::char_traits<char>, std::allocator<char> >, std::allocator<std::__cxx11::basic_string<char, std::char_traits<char>, std::allocator<char> > > > already registered; second conversion method ignored.\n",
      "<frozen importlib._bootstrap>:219: RuntimeWarning: to-Python converter for std::vector<double, std::allocator<double> > already registered; second conversion method ignored.\n",
      "<frozen importlib._bootstrap>:219: RuntimeWarning: to-Python converter for std::vector<int, std::allocator<int> > already registered; second conversion method ignored.\n"
     ]
    },
    {
     "name": "stdout",
     "output_type": "stream",
     "text": [
      "gait_parameters {'dx': 0.01, 'dy': 0.01, 'dtheta': -0.07, 'duration': 8, 'hardware': True, 'double_support_ratio': 0.5, 'startend_double_support_ratio': 1.0, 'planned_timesteps': 48, 'replan_timesteps': 10, 'walk_com_height': 0.19, 'walk_foot_height': 0.03, 'walk_trunk_pitch': -3, 'walk_foot_rise_ratio': 0.02, 'single_support_duration': 0.22, 'single_support_timesteps': 10, 'foot_length': 0.06, 'feet_spacing': 0.16, 'zmp_margin': 0.0, 'foot_zmp_target_x': 0.0, 'foot_zmp_target_y': -0.03, 'walk_max_dtheta': 1.0, 'walk_max_dy': 0.1, 'walk_max_dx_forward': 0.08, 'walk_max_dx_backward': 0.03, 'joints': ['left_hip_yaw', 'left_hip_roll', 'left_hip_pitch', 'left_knee', 'left_ankle', 'neck_pitch', 'head_pitch', 'head_yaw', 'head_roll', 'left_antenna', 'right_antenna', 'right_hip_yaw', 'right_hip_roll', 'right_hip_pitch', 'right_knee', 'right_ankle'], 'joint_angles': {'neck_pitch': 0, 'head_pitch': 0, 'head_yaw': 0, 'head_roll': 0, 'left_antenna': 0, 'right_antenna': 0}}\n"
     ]
    },
    {
     "name": "stderr",
     "output_type": "stream",
     "text": [
      "WARNING: Robot has the following self collisions in neutral position:\n",
      "  -head_assembly_5 collides with left_antenna_holder_1\n",
      "  -head_assembly_6 collides with right_antenna_holder_0\n",
      "WARNING: Can't find head frames in the model, camera_look_at won't work\n"
     ]
    },
    {
     "name": "stdout",
     "output_type": "stream",
     "text": [
      "Placing the robot in the initial position...\n",
      "Initial position reached\n",
      "{'left_hip_yaw': 0.04384448495867586, 'left_hip_roll': 0.08227996528371245, 'left_hip_pitch': -0.4319707158813395, 'left_knee': 0.8340599878238436, 'left_ankle': -0.45531071231336245, 'neck_pitch': -5.040117786021889e-05, 'head_pitch': -4.725233687447016e-05, 'head_yaw': 3.2485822468381597e-06, 'head_roll': 2.1419222210315492e-06, 'left_antenna': 1.8133491084059128e-07, 'right_antenna': -1.8591539899450453e-07, 'right_hip_yaw': 0.038234121045090934, 'right_hip_roll': -0.022202701579960495, 'right_hip_pitch': 0.5520527357704211, 'right_knee': 1.1206501538861333, 'right_ankle': -0.6216497736939007}\n",
      "## period: 0.6599999999999999\n",
      "center_y_pos: -0.08\n",
      "recorded 300 frames\n",
      "avg lin_vel_x 0.024\n",
      "avg lin_vel_y -0.0252\n",
      "avg yaw -0.0014\n",
      "DONE, saving 14.json\n"
     ]
    },
    {
     "name": "stderr",
     "output_type": "stream",
     "text": [
      "<frozen importlib._bootstrap>:219: RuntimeWarning: to-Python converter for std::vector<std::__cxx11::basic_string<char, std::char_traits<char>, std::allocator<char> >, std::allocator<std::__cxx11::basic_string<char, std::char_traits<char>, std::allocator<char> > > > already registered; second conversion method ignored.\n",
      "<frozen importlib._bootstrap>:219: RuntimeWarning: to-Python converter for std::vector<double, std::allocator<double> > already registered; second conversion method ignored.\n",
      "<frozen importlib._bootstrap>:219: RuntimeWarning: to-Python converter for std::vector<int, std::allocator<int> > already registered; second conversion method ignored.\n"
     ]
    },
    {
     "name": "stdout",
     "output_type": "stream",
     "text": [
      "gait_parameters {'dx': 0.05, 'dy': -0.01, 'dtheta': 0.24, 'duration': 8, 'hardware': True, 'double_support_ratio': 0.5, 'startend_double_support_ratio': 1.0, 'planned_timesteps': 48, 'replan_timesteps': 10, 'walk_com_height': 0.19, 'walk_foot_height': 0.03, 'walk_trunk_pitch': 5, 'walk_foot_rise_ratio': 0.02, 'single_support_duration': 0.18, 'single_support_timesteps': 10, 'foot_length': 0.06, 'feet_spacing': 0.16, 'zmp_margin': 0.0, 'foot_zmp_target_x': 0.0, 'foot_zmp_target_y': -0.03, 'walk_max_dtheta': 1.0, 'walk_max_dy': 0.1, 'walk_max_dx_forward': 0.08, 'walk_max_dx_backward': 0.03, 'joints': ['left_hip_yaw', 'left_hip_roll', 'left_hip_pitch', 'left_knee', 'left_ankle', 'neck_pitch', 'head_pitch', 'head_yaw', 'head_roll', 'left_antenna', 'right_antenna', 'right_hip_yaw', 'right_hip_roll', 'right_hip_pitch', 'right_knee', 'right_ankle'], 'joint_angles': {'neck_pitch': 0, 'head_pitch': 0, 'head_yaw': 0, 'head_roll': 0, 'left_antenna': 0, 'right_antenna': 0}}\n"
     ]
    },
    {
     "name": "stderr",
     "output_type": "stream",
     "text": [
      "WARNING: Robot has the following self collisions in neutral position:\n",
      "  -head_assembly_5 collides with left_antenna_holder_1\n",
      "  -head_assembly_6 collides with right_antenna_holder_0\n",
      "WARNING: Can't find head frames in the model, camera_look_at won't work\n"
     ]
    },
    {
     "name": "stdout",
     "output_type": "stream",
     "text": [
      "Placing the robot in the initial position...\n",
      "Initial position reached\n",
      "{'left_hip_yaw': 0.03856073916697742, 'left_hip_roll': 0.07691234231316556, 'left_hip_pitch': -0.1508004296650294, 'left_knee': 0.737914879554754, 'left_ankle': -0.5002092270122876, 'neck_pitch': -0.00014650529827118036, 'head_pitch': -8.113406909632949e-05, 'head_yaw': 5.24007316640369e-06, 'head_roll': 3.1548197389333287e-06, 'left_antenna': 1.0947757521027012e-07, 'right_antenna': -1.1587403430728602e-07, 'right_hip_yaw': 0.047723089820247096, 'right_hip_roll': -0.029051215821507007, 'right_hip_pitch': 0.2964067682733741, 'right_knee': 1.0861277494285748, 'right_ankle': -0.7030056538707278}\n",
      "## period: 0.54\n",
      "center_y_pos: -0.08\n",
      "recorded 300 frames\n",
      "avg lin_vel_x 0.0042\n",
      "avg lin_vel_y 0.1491\n",
      "avg yaw 0.0338\n",
      "DONE, saving 15.json\n"
     ]
    },
    {
     "name": "stderr",
     "output_type": "stream",
     "text": [
      "<frozen importlib._bootstrap>:219: RuntimeWarning: to-Python converter for std::vector<std::__cxx11::basic_string<char, std::char_traits<char>, std::allocator<char> >, std::allocator<std::__cxx11::basic_string<char, std::char_traits<char>, std::allocator<char> > > > already registered; second conversion method ignored.\n",
      "<frozen importlib._bootstrap>:219: RuntimeWarning: to-Python converter for std::vector<double, std::allocator<double> > already registered; second conversion method ignored.\n",
      "<frozen importlib._bootstrap>:219: RuntimeWarning: to-Python converter for std::vector<int, std::allocator<int> > already registered; second conversion method ignored.\n"
     ]
    },
    {
     "name": "stdout",
     "output_type": "stream",
     "text": [
      "gait_parameters {'dx': 0.03, 'dy': -0.03, 'dtheta': -0.16, 'duration': 8, 'hardware': True, 'double_support_ratio': 0.5, 'startend_double_support_ratio': 1.0, 'planned_timesteps': 48, 'replan_timesteps': 10, 'walk_com_height': 0.19, 'walk_foot_height': 0.03, 'walk_trunk_pitch': 5, 'walk_foot_rise_ratio': 0.02, 'single_support_duration': 0.18, 'single_support_timesteps': 10, 'foot_length': 0.06, 'feet_spacing': 0.16, 'zmp_margin': 0.0, 'foot_zmp_target_x': 0.0, 'foot_zmp_target_y': -0.03, 'walk_max_dtheta': 1.0, 'walk_max_dy': 0.1, 'walk_max_dx_forward': 0.08, 'walk_max_dx_backward': 0.03, 'joints': ['left_hip_yaw', 'left_hip_roll', 'left_hip_pitch', 'left_knee', 'left_ankle', 'neck_pitch', 'head_pitch', 'head_yaw', 'head_roll', 'left_antenna', 'right_antenna', 'right_hip_yaw', 'right_hip_roll', 'right_hip_pitch', 'right_knee', 'right_ankle'], 'joint_angles': {'neck_pitch': 0, 'head_pitch': 0, 'head_yaw': 0, 'head_roll': 0, 'left_antenna': 0, 'right_antenna': 0}}\n"
     ]
    },
    {
     "name": "stderr",
     "output_type": "stream",
     "text": [
      "WARNING: Robot has the following self collisions in neutral position:\n",
      "  -head_assembly_5 collides with left_antenna_holder_1\n",
      "  -head_assembly_6 collides with right_antenna_holder_0\n",
      "WARNING: Can't find head frames in the model, camera_look_at won't work\n"
     ]
    },
    {
     "name": "stdout",
     "output_type": "stream",
     "text": [
      "Placing the robot in the initial position...\n",
      "Initial position reached\n",
      "{'left_hip_yaw': 0.03856073916697818, 'left_hip_roll': 0.07691234231315709, 'left_hip_pitch': -0.1508004296649631, 'left_knee': 0.7379148795546253, 'left_ankle': -0.500209227012225, 'neck_pitch': -0.00014650529827119025, 'head_pitch': -8.113406909633472e-05, 'head_yaw': 5.240073166405441e-06, 'head_roll': 3.154819738933434e-06, 'left_antenna': 1.0947757521027228e-07, 'right_antenna': -1.158740343072918e-07, 'right_hip_yaw': 0.04772308982024767, 'right_hip_roll': -0.02905121582151385, 'right_hip_pitch': 0.29640676827336243, 'right_knee': 1.0861277494285568, 'right_ankle': -0.7030056538707216}\n",
      "## period: 0.54\n",
      "center_y_pos: -0.08\n",
      "recorded 300 frames\n",
      "avg lin_vel_x 0.119\n",
      "avg lin_vel_y 0.1087\n",
      "avg yaw -0.0123\n",
      "DONE, saving 16.json\n"
     ]
    },
    {
     "name": "stderr",
     "output_type": "stream",
     "text": [
      "<frozen importlib._bootstrap>:219: RuntimeWarning: to-Python converter for std::vector<std::__cxx11::basic_string<char, std::char_traits<char>, std::allocator<char> >, std::allocator<std::__cxx11::basic_string<char, std::char_traits<char>, std::allocator<char> > > > already registered; second conversion method ignored.\n",
      "<frozen importlib._bootstrap>:219: RuntimeWarning: to-Python converter for std::vector<double, std::allocator<double> > already registered; second conversion method ignored.\n",
      "<frozen importlib._bootstrap>:219: RuntimeWarning: to-Python converter for std::vector<int, std::allocator<int> > already registered; second conversion method ignored.\n"
     ]
    },
    {
     "name": "stdout",
     "output_type": "stream",
     "text": [
      "gait_parameters {'dx': 0.02, 'dy': 0.04, 'dtheta': -0.01, 'duration': 8, 'hardware': True, 'double_support_ratio': 0.5, 'startend_double_support_ratio': 1.0, 'planned_timesteps': 48, 'replan_timesteps': 10, 'walk_com_height': 0.19, 'walk_foot_height': 0.03, 'walk_trunk_pitch': -3, 'walk_foot_rise_ratio': 0.02, 'single_support_duration': 0.22, 'single_support_timesteps': 10, 'foot_length': 0.06, 'feet_spacing': 0.16, 'zmp_margin': 0.0, 'foot_zmp_target_x': 0.0, 'foot_zmp_target_y': -0.03, 'walk_max_dtheta': 1.0, 'walk_max_dy': 0.1, 'walk_max_dx_forward': 0.08, 'walk_max_dx_backward': 0.03, 'joints': ['left_hip_yaw', 'left_hip_roll', 'left_hip_pitch', 'left_knee', 'left_ankle', 'neck_pitch', 'head_pitch', 'head_yaw', 'head_roll', 'left_antenna', 'right_antenna', 'right_hip_yaw', 'right_hip_roll', 'right_hip_pitch', 'right_knee', 'right_ankle'], 'joint_angles': {'neck_pitch': 0, 'head_pitch': 0, 'head_yaw': 0, 'head_roll': 0, 'left_antenna': 0, 'right_antenna': 0}}\n"
     ]
    },
    {
     "name": "stderr",
     "output_type": "stream",
     "text": [
      "WARNING: Robot has the following self collisions in neutral position:\n",
      "  -head_assembly_5 collides with left_antenna_holder_1\n",
      "  -head_assembly_6 collides with right_antenna_holder_0\n",
      "WARNING: Can't find head frames in the model, camera_look_at won't work\n"
     ]
    },
    {
     "name": "stdout",
     "output_type": "stream",
     "text": [
      "Placing the robot in the initial position...\n",
      "Initial position reached\n",
      "{'left_hip_yaw': 0.04384448495867586, 'left_hip_roll': 0.08227996528371245, 'left_hip_pitch': -0.4319707158813395, 'left_knee': 0.8340599878238436, 'left_ankle': -0.45531071231336245, 'neck_pitch': -5.040117786021889e-05, 'head_pitch': -4.725233687447016e-05, 'head_yaw': 3.2485822468381597e-06, 'head_roll': 2.1419222210315492e-06, 'left_antenna': 1.8133491084059128e-07, 'right_antenna': -1.8591539899450453e-07, 'right_hip_yaw': 0.038234121045090934, 'right_hip_roll': -0.022202701579960495, 'right_hip_pitch': 0.5520527357704211, 'right_knee': 1.1206501538861333, 'right_ankle': -0.6216497736939007}\n",
      "## period: 0.6599999999999999\n",
      "center_y_pos: -0.08\n",
      "recorded 300 frames\n",
      "avg lin_vel_x 0.0626\n",
      "avg lin_vel_y 0.1207\n",
      "avg yaw -0.0\n",
      "DONE, saving 17.json\n"
     ]
    },
    {
     "name": "stderr",
     "output_type": "stream",
     "text": [
      "<frozen importlib._bootstrap>:219: RuntimeWarning: to-Python converter for std::vector<std::__cxx11::basic_string<char, std::char_traits<char>, std::allocator<char> >, std::allocator<std::__cxx11::basic_string<char, std::char_traits<char>, std::allocator<char> > > > already registered; second conversion method ignored.\n",
      "<frozen importlib._bootstrap>:219: RuntimeWarning: to-Python converter for std::vector<double, std::allocator<double> > already registered; second conversion method ignored.\n",
      "<frozen importlib._bootstrap>:219: RuntimeWarning: to-Python converter for std::vector<int, std::allocator<int> > already registered; second conversion method ignored.\n"
     ]
    },
    {
     "name": "stdout",
     "output_type": "stream",
     "text": [
      "gait_parameters {'dx': 0.04, 'dy': -0.01, 'dtheta': -0.05, 'duration': 8, 'hardware': True, 'double_support_ratio': 0.5, 'startend_double_support_ratio': 1.0, 'planned_timesteps': 48, 'replan_timesteps': 10, 'walk_com_height': 0.19, 'walk_foot_height': 0.03, 'walk_trunk_pitch': -3, 'walk_foot_rise_ratio': 0.02, 'single_support_duration': 0.22, 'single_support_timesteps': 10, 'foot_length': 0.06, 'feet_spacing': 0.16, 'zmp_margin': 0.0, 'foot_zmp_target_x': 0.0, 'foot_zmp_target_y': -0.03, 'walk_max_dtheta': 1.0, 'walk_max_dy': 0.1, 'walk_max_dx_forward': 0.08, 'walk_max_dx_backward': 0.03, 'joints': ['left_hip_yaw', 'left_hip_roll', 'left_hip_pitch', 'left_knee', 'left_ankle', 'neck_pitch', 'head_pitch', 'head_yaw', 'head_roll', 'left_antenna', 'right_antenna', 'right_hip_yaw', 'right_hip_roll', 'right_hip_pitch', 'right_knee', 'right_ankle'], 'joint_angles': {'neck_pitch': 0, 'head_pitch': 0, 'head_yaw': 0, 'head_roll': 0, 'left_antenna': 0, 'right_antenna': 0}}\n"
     ]
    },
    {
     "name": "stderr",
     "output_type": "stream",
     "text": [
      "WARNING: Robot has the following self collisions in neutral position:\n",
      "  -head_assembly_5 collides with left_antenna_holder_1\n",
      "  -head_assembly_6 collides with right_antenna_holder_0\n",
      "WARNING: Can't find head frames in the model, camera_look_at won't work\n"
     ]
    },
    {
     "name": "stdout",
     "output_type": "stream",
     "text": [
      "Placing the robot in the initial position...\n",
      "Initial position reached\n",
      "{'left_hip_yaw': 0.04384448495867586, 'left_hip_roll': 0.08227996528371245, 'left_hip_pitch': -0.4319707158813395, 'left_knee': 0.8340599878238436, 'left_ankle': -0.45531071231336245, 'neck_pitch': -5.040117786021889e-05, 'head_pitch': -4.725233687447016e-05, 'head_yaw': 3.2485822468381597e-06, 'head_roll': 2.1419222210315492e-06, 'left_antenna': 1.8133491084059128e-07, 'right_antenna': -1.8591539899450453e-07, 'right_hip_yaw': 0.038234121045090934, 'right_hip_roll': -0.022202701579960495, 'right_hip_pitch': 0.5520527357704211, 'right_knee': 1.1206501538861333, 'right_ankle': -0.6216497736939007}\n",
      "## period: 0.6599999999999999\n",
      "center_y_pos: -0.08\n",
      "recorded 300 frames\n",
      "avg lin_vel_x 0.0306\n",
      "avg lin_vel_y -0.1205\n",
      "avg yaw -0.0006\n",
      "DONE, saving 18.json\n"
     ]
    },
    {
     "name": "stderr",
     "output_type": "stream",
     "text": [
      "<frozen importlib._bootstrap>:219: RuntimeWarning: to-Python converter for std::vector<std::__cxx11::basic_string<char, std::char_traits<char>, std::allocator<char> >, std::allocator<std::__cxx11::basic_string<char, std::char_traits<char>, std::allocator<char> > > > already registered; second conversion method ignored.\n",
      "<frozen importlib._bootstrap>:219: RuntimeWarning: to-Python converter for std::vector<double, std::allocator<double> > already registered; second conversion method ignored.\n",
      "<frozen importlib._bootstrap>:219: RuntimeWarning: to-Python converter for std::vector<int, std::allocator<int> > already registered; second conversion method ignored.\n"
     ]
    },
    {
     "name": "stdout",
     "output_type": "stream",
     "text": [
      "gait_parameters {'dx': 0.01, 'dy': 0.0, 'dtheta': 0.2, 'duration': 8, 'hardware': True, 'double_support_ratio': 0.5, 'startend_double_support_ratio': 1.0, 'planned_timesteps': 48, 'replan_timesteps': 10, 'walk_com_height': 0.19, 'walk_foot_height': 0.03, 'walk_trunk_pitch': 5, 'walk_foot_rise_ratio': 0.02, 'single_support_duration': 0.18, 'single_support_timesteps': 10, 'foot_length': 0.06, 'feet_spacing': 0.16, 'zmp_margin': 0.0, 'foot_zmp_target_x': 0.0, 'foot_zmp_target_y': -0.03, 'walk_max_dtheta': 1.0, 'walk_max_dy': 0.1, 'walk_max_dx_forward': 0.08, 'walk_max_dx_backward': 0.03, 'joints': ['left_hip_yaw', 'left_hip_roll', 'left_hip_pitch', 'left_knee', 'left_ankle', 'neck_pitch', 'head_pitch', 'head_yaw', 'head_roll', 'left_antenna', 'right_antenna', 'right_hip_yaw', 'right_hip_roll', 'right_hip_pitch', 'right_knee', 'right_ankle'], 'joint_angles': {'neck_pitch': 0, 'head_pitch': 0, 'head_yaw': 0, 'head_roll': 0, 'left_antenna': 0, 'right_antenna': 0}}\n"
     ]
    },
    {
     "name": "stderr",
     "output_type": "stream",
     "text": [
      "WARNING: Robot has the following self collisions in neutral position:\n",
      "  -head_assembly_5 collides with left_antenna_holder_1\n",
      "  -head_assembly_6 collides with right_antenna_holder_0\n",
      "WARNING: Can't find head frames in the model, camera_look_at won't work\n"
     ]
    },
    {
     "name": "stdout",
     "output_type": "stream",
     "text": [
      "Placing the robot in the initial position...\n",
      "Initial position reached\n",
      "{'left_hip_yaw': 0.03856073916697742, 'left_hip_roll': 0.07691234231316556, 'left_hip_pitch': -0.1508004296650294, 'left_knee': 0.737914879554754, 'left_ankle': -0.5002092270122876, 'neck_pitch': -0.00014650529827118036, 'head_pitch': -8.113406909632949e-05, 'head_yaw': 5.24007316640369e-06, 'head_roll': 3.1548197389333287e-06, 'left_antenna': 1.0947757521027012e-07, 'right_antenna': -1.1587403430728602e-07, 'right_hip_yaw': 0.047723089820247096, 'right_hip_roll': -0.029051215821507007, 'right_hip_pitch': 0.2964067682733741, 'right_knee': 1.0861277494285748, 'right_ankle': -0.7030056538707278}\n",
      "## period: 0.54\n",
      "center_y_pos: -0.08\n",
      "recorded 300 frames\n",
      "avg lin_vel_x 0.0158\n",
      "avg lin_vel_y 0.0265\n",
      "avg yaw 0.0238\n",
      "DONE, saving 19.json\n"
     ]
    },
    {
     "name": "stderr",
     "output_type": "stream",
     "text": [
      "<frozen importlib._bootstrap>:219: RuntimeWarning: to-Python converter for std::vector<std::__cxx11::basic_string<char, std::char_traits<char>, std::allocator<char> >, std::allocator<std::__cxx11::basic_string<char, std::char_traits<char>, std::allocator<char> > > > already registered; second conversion method ignored.\n",
      "<frozen importlib._bootstrap>:219: RuntimeWarning: to-Python converter for std::vector<double, std::allocator<double> > already registered; second conversion method ignored.\n",
      "<frozen importlib._bootstrap>:219: RuntimeWarning: to-Python converter for std::vector<int, std::allocator<int> > already registered; second conversion method ignored.\n"
     ]
    },
    {
     "name": "stdout",
     "output_type": "stream",
     "text": [
      "gait_parameters {'dx': -0.03, 'dy': -0.01, 'dtheta': 0.24, 'duration': 8, 'hardware': True, 'double_support_ratio': 0.5, 'startend_double_support_ratio': 1.0, 'planned_timesteps': 48, 'replan_timesteps': 10, 'walk_com_height': 0.19, 'walk_foot_height': 0.03, 'walk_trunk_pitch': 5, 'walk_foot_rise_ratio': 0.02, 'single_support_duration': 0.18, 'single_support_timesteps': 10, 'foot_length': 0.06, 'feet_spacing': 0.16, 'zmp_margin': 0.0, 'foot_zmp_target_x': 0.0, 'foot_zmp_target_y': -0.03, 'walk_max_dtheta': 1.0, 'walk_max_dy': 0.1, 'walk_max_dx_forward': 0.08, 'walk_max_dx_backward': 0.03, 'joints': ['left_hip_yaw', 'left_hip_roll', 'left_hip_pitch', 'left_knee', 'left_ankle', 'neck_pitch', 'head_pitch', 'head_yaw', 'head_roll', 'left_antenna', 'right_antenna', 'right_hip_yaw', 'right_hip_roll', 'right_hip_pitch', 'right_knee', 'right_ankle'], 'joint_angles': {'neck_pitch': 0, 'head_pitch': 0, 'head_yaw': 0, 'head_roll': 0, 'left_antenna': 0, 'right_antenna': 0}}\n"
     ]
    },
    {
     "name": "stderr",
     "output_type": "stream",
     "text": [
      "WARNING: Robot has the following self collisions in neutral position:\n",
      "  -head_assembly_5 collides with left_antenna_holder_1\n",
      "  -head_assembly_6 collides with right_antenna_holder_0\n",
      "WARNING: Can't find head frames in the model, camera_look_at won't work\n"
     ]
    },
    {
     "name": "stdout",
     "output_type": "stream",
     "text": [
      "Placing the robot in the initial position...\n",
      "Initial position reached\n",
      "{'left_hip_yaw': 0.03856073916697742, 'left_hip_roll': 0.07691234231316556, 'left_hip_pitch': -0.1508004296650294, 'left_knee': 0.737914879554754, 'left_ankle': -0.5002092270122876, 'neck_pitch': -0.00014650529827118036, 'head_pitch': -8.113406909632949e-05, 'head_yaw': 5.24007316640369e-06, 'head_roll': 3.1548197389333287e-06, 'left_antenna': 1.0947757521027012e-07, 'right_antenna': -1.1587403430728602e-07, 'right_hip_yaw': 0.047723089820247096, 'right_hip_roll': -0.029051215821507007, 'right_hip_pitch': 0.2964067682733741, 'right_knee': 1.0861277494285748, 'right_ankle': -0.7030056538707278}\n",
      "## period: 0.54\n",
      "center_y_pos: -0.08\n",
      "recorded 300 frames\n",
      "avg lin_vel_x -0.0195\n",
      "avg lin_vel_y -0.1031\n",
      "avg yaw 0.031\n",
      "DONE, saving 20.json\n"
     ]
    },
    {
     "name": "stderr",
     "output_type": "stream",
     "text": [
      "<frozen importlib._bootstrap>:219: RuntimeWarning: to-Python converter for std::vector<std::__cxx11::basic_string<char, std::char_traits<char>, std::allocator<char> >, std::allocator<std::__cxx11::basic_string<char, std::char_traits<char>, std::allocator<char> > > > already registered; second conversion method ignored.\n",
      "<frozen importlib._bootstrap>:219: RuntimeWarning: to-Python converter for std::vector<double, std::allocator<double> > already registered; second conversion method ignored.\n",
      "<frozen importlib._bootstrap>:219: RuntimeWarning: to-Python converter for std::vector<int, std::allocator<int> > already registered; second conversion method ignored.\n"
     ]
    },
    {
     "name": "stdout",
     "output_type": "stream",
     "text": [
      "gait_parameters {'dx': 0.02, 'dy': 0.0, 'dtheta': -0.08, 'duration': 8, 'hardware': True, 'double_support_ratio': 0.5, 'startend_double_support_ratio': 1.0, 'planned_timesteps': 48, 'replan_timesteps': 10, 'walk_com_height': 0.19, 'walk_foot_height': 0.03, 'walk_trunk_pitch': -3, 'walk_foot_rise_ratio': 0.02, 'single_support_duration': 0.22, 'single_support_timesteps': 10, 'foot_length': 0.06, 'feet_spacing': 0.16, 'zmp_margin': 0.0, 'foot_zmp_target_x': 0.0, 'foot_zmp_target_y': -0.03, 'walk_max_dtheta': 1.0, 'walk_max_dy': 0.1, 'walk_max_dx_forward': 0.08, 'walk_max_dx_backward': 0.03, 'joints': ['left_hip_yaw', 'left_hip_roll', 'left_hip_pitch', 'left_knee', 'left_ankle', 'neck_pitch', 'head_pitch', 'head_yaw', 'head_roll', 'left_antenna', 'right_antenna', 'right_hip_yaw', 'right_hip_roll', 'right_hip_pitch', 'right_knee', 'right_ankle'], 'joint_angles': {'neck_pitch': 0, 'head_pitch': 0, 'head_yaw': 0, 'head_roll': 0, 'left_antenna': 0, 'right_antenna': 0}}\n"
     ]
    },
    {
     "name": "stderr",
     "output_type": "stream",
     "text": [
      "WARNING: Robot has the following self collisions in neutral position:\n",
      "  -head_assembly_5 collides with left_antenna_holder_1\n",
      "  -head_assembly_6 collides with right_antenna_holder_0\n",
      "WARNING: Can't find head frames in the model, camera_look_at won't work\n"
     ]
    },
    {
     "name": "stdout",
     "output_type": "stream",
     "text": [
      "Placing the robot in the initial position...\n",
      "Initial position reached\n",
      "{'left_hip_yaw': 0.04384448495867586, 'left_hip_roll': 0.08227996528371245, 'left_hip_pitch': -0.4319707158813395, 'left_knee': 0.8340599878238436, 'left_ankle': -0.45531071231336245, 'neck_pitch': -5.040117786021889e-05, 'head_pitch': -4.725233687447016e-05, 'head_yaw': 3.2485822468381597e-06, 'head_roll': 2.1419222210315492e-06, 'left_antenna': 1.8133491084059128e-07, 'right_antenna': -1.8591539899450453e-07, 'right_hip_yaw': 0.038234121045090934, 'right_hip_roll': -0.022202701579960495, 'right_hip_pitch': 0.5520527357704211, 'right_knee': 1.1206501538861333, 'right_ankle': -0.6216497736939007}\n",
      "## period: 0.6599999999999999\n",
      "center_y_pos: -0.08\n",
      "recorded 300 frames\n",
      "avg lin_vel_x -0.0203\n",
      "avg lin_vel_y -0.0522\n",
      "avg yaw -0.0019\n",
      "DONE, saving 21.json\n"
     ]
    },
    {
     "name": "stderr",
     "output_type": "stream",
     "text": [
      "<frozen importlib._bootstrap>:219: RuntimeWarning: to-Python converter for std::vector<std::__cxx11::basic_string<char, std::char_traits<char>, std::allocator<char> >, std::allocator<std::__cxx11::basic_string<char, std::char_traits<char>, std::allocator<char> > > > already registered; second conversion method ignored.\n",
      "<frozen importlib._bootstrap>:219: RuntimeWarning: to-Python converter for std::vector<double, std::allocator<double> > already registered; second conversion method ignored.\n",
      "<frozen importlib._bootstrap>:219: RuntimeWarning: to-Python converter for std::vector<int, std::allocator<int> > already registered; second conversion method ignored.\n"
     ]
    },
    {
     "name": "stdout",
     "output_type": "stream",
     "text": [
      "gait_parameters {'dx': 0.04, 'dy': 0.02, 'dtheta': 0.03, 'duration': 8, 'hardware': True, 'double_support_ratio': 0.5, 'startend_double_support_ratio': 1.0, 'planned_timesteps': 48, 'replan_timesteps': 10, 'walk_com_height': 0.19, 'walk_foot_height': 0.03, 'walk_trunk_pitch': 5, 'walk_foot_rise_ratio': 0.02, 'single_support_duration': 0.18, 'single_support_timesteps': 10, 'foot_length': 0.06, 'feet_spacing': 0.16, 'zmp_margin': 0.0, 'foot_zmp_target_x': 0.0, 'foot_zmp_target_y': -0.03, 'walk_max_dtheta': 1.0, 'walk_max_dy': 0.1, 'walk_max_dx_forward': 0.08, 'walk_max_dx_backward': 0.03, 'joints': ['left_hip_yaw', 'left_hip_roll', 'left_hip_pitch', 'left_knee', 'left_ankle', 'neck_pitch', 'head_pitch', 'head_yaw', 'head_roll', 'left_antenna', 'right_antenna', 'right_hip_yaw', 'right_hip_roll', 'right_hip_pitch', 'right_knee', 'right_ankle'], 'joint_angles': {'neck_pitch': 0, 'head_pitch': 0, 'head_yaw': 0, 'head_roll': 0, 'left_antenna': 0, 'right_antenna': 0}}\n"
     ]
    },
    {
     "name": "stderr",
     "output_type": "stream",
     "text": [
      "WARNING: Robot has the following self collisions in neutral position:\n",
      "  -head_assembly_5 collides with left_antenna_holder_1\n",
      "  -head_assembly_6 collides with right_antenna_holder_0\n",
      "WARNING: Can't find head frames in the model, camera_look_at won't work\n"
     ]
    },
    {
     "name": "stdout",
     "output_type": "stream",
     "text": [
      "Placing the robot in the initial position...\n",
      "Initial position reached\n",
      "{'left_hip_yaw': 0.03856073916697742, 'left_hip_roll': 0.07691234231316556, 'left_hip_pitch': -0.1508004296650294, 'left_knee': 0.737914879554754, 'left_ankle': -0.5002092270122876, 'neck_pitch': -0.00014650529827118036, 'head_pitch': -8.113406909632949e-05, 'head_yaw': 5.24007316640369e-06, 'head_roll': 3.1548197389333287e-06, 'left_antenna': 1.0947757521027012e-07, 'right_antenna': -1.1587403430728602e-07, 'right_hip_yaw': 0.047723089820247096, 'right_hip_roll': -0.029051215821507007, 'right_hip_pitch': 0.2964067682733741, 'right_knee': 1.0861277494285748, 'right_ankle': -0.7030056538707278}\n",
      "## period: 0.54\n",
      "center_y_pos: -0.08\n",
      "recorded 300 frames\n",
      "avg lin_vel_x -0.0324\n",
      "avg lin_vel_y 0.1695\n",
      "avg yaw 0.0008\n",
      "DONE, saving 22.json\n"
     ]
    },
    {
     "name": "stderr",
     "output_type": "stream",
     "text": [
      "<frozen importlib._bootstrap>:219: RuntimeWarning: to-Python converter for std::vector<std::__cxx11::basic_string<char, std::char_traits<char>, std::allocator<char> >, std::allocator<std::__cxx11::basic_string<char, std::char_traits<char>, std::allocator<char> > > > already registered; second conversion method ignored.\n",
      "<frozen importlib._bootstrap>:219: RuntimeWarning: to-Python converter for std::vector<double, std::allocator<double> > already registered; second conversion method ignored.\n",
      "<frozen importlib._bootstrap>:219: RuntimeWarning: to-Python converter for std::vector<int, std::allocator<int> > already registered; second conversion method ignored.\n"
     ]
    },
    {
     "name": "stdout",
     "output_type": "stream",
     "text": [
      "gait_parameters {'dx': 0.03, 'dy': -0.01, 'dtheta': 0.17, 'duration': 8, 'hardware': True, 'double_support_ratio': 0.5, 'startend_double_support_ratio': 1.0, 'planned_timesteps': 48, 'replan_timesteps': 10, 'walk_com_height': 0.19, 'walk_foot_height': 0.03, 'walk_trunk_pitch': -3, 'walk_foot_rise_ratio': 0.02, 'single_support_duration': 0.22, 'single_support_timesteps': 10, 'foot_length': 0.06, 'feet_spacing': 0.16, 'zmp_margin': 0.0, 'foot_zmp_target_x': 0.0, 'foot_zmp_target_y': -0.03, 'walk_max_dtheta': 1.0, 'walk_max_dy': 0.1, 'walk_max_dx_forward': 0.08, 'walk_max_dx_backward': 0.03, 'joints': ['left_hip_yaw', 'left_hip_roll', 'left_hip_pitch', 'left_knee', 'left_ankle', 'neck_pitch', 'head_pitch', 'head_yaw', 'head_roll', 'left_antenna', 'right_antenna', 'right_hip_yaw', 'right_hip_roll', 'right_hip_pitch', 'right_knee', 'right_ankle'], 'joint_angles': {'neck_pitch': 0, 'head_pitch': 0, 'head_yaw': 0, 'head_roll': 0, 'left_antenna': 0, 'right_antenna': 0}}\n"
     ]
    },
    {
     "name": "stderr",
     "output_type": "stream",
     "text": [
      "WARNING: Robot has the following self collisions in neutral position:\n",
      "  -head_assembly_5 collides with left_antenna_holder_1\n",
      "  -head_assembly_6 collides with right_antenna_holder_0\n",
      "WARNING: Can't find head frames in the model, camera_look_at won't work\n"
     ]
    },
    {
     "name": "stdout",
     "output_type": "stream",
     "text": [
      "Placing the robot in the initial position...\n",
      "Initial position reached\n",
      "{'left_hip_yaw': 0.04384448495867586, 'left_hip_roll': 0.08227996528371245, 'left_hip_pitch': -0.4319707158813395, 'left_knee': 0.8340599878238436, 'left_ankle': -0.45531071231336245, 'neck_pitch': -5.040117786021889e-05, 'head_pitch': -4.725233687447016e-05, 'head_yaw': 3.2485822468381597e-06, 'head_roll': 2.1419222210315492e-06, 'left_antenna': 1.8133491084059128e-07, 'right_antenna': -1.8591539899450453e-07, 'right_hip_yaw': 0.038234121045090934, 'right_hip_roll': -0.022202701579960495, 'right_hip_pitch': 0.5520527357704211, 'right_knee': 1.1206501538861333, 'right_ankle': -0.6216497736939007}\n",
      "## period: 0.6599999999999999\n",
      "center_y_pos: -0.08\n",
      "recorded 300 frames\n",
      "avg lin_vel_x -0.0273\n",
      "avg lin_vel_y -0.0971\n",
      "avg yaw 0.0122\n",
      "DONE, saving 23.json\n"
     ]
    },
    {
     "name": "stderr",
     "output_type": "stream",
     "text": [
      "<frozen importlib._bootstrap>:219: RuntimeWarning: to-Python converter for std::vector<std::__cxx11::basic_string<char, std::char_traits<char>, std::allocator<char> >, std::allocator<std::__cxx11::basic_string<char, std::char_traits<char>, std::allocator<char> > > > already registered; second conversion method ignored.\n",
      "<frozen importlib._bootstrap>:219: RuntimeWarning: to-Python converter for std::vector<double, std::allocator<double> > already registered; second conversion method ignored.\n",
      "<frozen importlib._bootstrap>:219: RuntimeWarning: to-Python converter for std::vector<int, std::allocator<int> > already registered; second conversion method ignored.\n"
     ]
    },
    {
     "name": "stdout",
     "output_type": "stream",
     "text": [
      "gait_parameters {'dx': 0.0, 'dy': 0.04, 'dtheta': 0.06, 'duration': 8, 'hardware': True, 'double_support_ratio': 0.5, 'startend_double_support_ratio': 1.0, 'planned_timesteps': 48, 'replan_timesteps': 10, 'walk_com_height': 0.19, 'walk_foot_height': 0.03, 'walk_trunk_pitch': -3, 'walk_foot_rise_ratio': 0.02, 'single_support_duration': 0.22, 'single_support_timesteps': 10, 'foot_length': 0.06, 'feet_spacing': 0.16, 'zmp_margin': 0.0, 'foot_zmp_target_x': 0.0, 'foot_zmp_target_y': -0.03, 'walk_max_dtheta': 1.0, 'walk_max_dy': 0.1, 'walk_max_dx_forward': 0.08, 'walk_max_dx_backward': 0.03, 'joints': ['left_hip_yaw', 'left_hip_roll', 'left_hip_pitch', 'left_knee', 'left_ankle', 'neck_pitch', 'head_pitch', 'head_yaw', 'head_roll', 'left_antenna', 'right_antenna', 'right_hip_yaw', 'right_hip_roll', 'right_hip_pitch', 'right_knee', 'right_ankle'], 'joint_angles': {'neck_pitch': 0, 'head_pitch': 0, 'head_yaw': 0, 'head_roll': 0, 'left_antenna': 0, 'right_antenna': 0}}\n"
     ]
    },
    {
     "name": "stderr",
     "output_type": "stream",
     "text": [
      "WARNING: Robot has the following self collisions in neutral position:\n",
      "  -head_assembly_5 collides with left_antenna_holder_1\n",
      "  -head_assembly_6 collides with right_antenna_holder_0\n",
      "WARNING: Can't find head frames in the model, camera_look_at won't work\n"
     ]
    },
    {
     "name": "stdout",
     "output_type": "stream",
     "text": [
      "Placing the robot in the initial position...\n",
      "Initial position reached\n",
      "{'left_hip_yaw': 0.04384448495867586, 'left_hip_roll': 0.08227996528371245, 'left_hip_pitch': -0.4319707158813395, 'left_knee': 0.8340599878238436, 'left_ankle': -0.45531071231336245, 'neck_pitch': -5.040117786021889e-05, 'head_pitch': -4.725233687447016e-05, 'head_yaw': 3.2485822468381597e-06, 'head_roll': 2.1419222210315492e-06, 'left_antenna': 1.8133491084059128e-07, 'right_antenna': -1.8591539899450453e-07, 'right_hip_yaw': 0.038234121045090934, 'right_hip_roll': -0.022202701579960495, 'right_hip_pitch': 0.5520527357704211, 'right_knee': 1.1206501538861333, 'right_ankle': -0.6216497736939007}\n",
      "## period: 0.6599999999999999\n",
      "center_y_pos: -0.08\n",
      "recorded 300 frames\n",
      "avg lin_vel_x -0.1257\n",
      "avg lin_vel_y -0.0202\n",
      "avg yaw 0.0018\n",
      "DONE, saving 24.json\n"
     ]
    },
    {
     "name": "stderr",
     "output_type": "stream",
     "text": [
      "<frozen importlib._bootstrap>:219: RuntimeWarning: to-Python converter for std::vector<std::__cxx11::basic_string<char, std::char_traits<char>, std::allocator<char> >, std::allocator<std::__cxx11::basic_string<char, std::char_traits<char>, std::allocator<char> > > > already registered; second conversion method ignored.\n",
      "<frozen importlib._bootstrap>:219: RuntimeWarning: to-Python converter for std::vector<double, std::allocator<double> > already registered; second conversion method ignored.\n",
      "<frozen importlib._bootstrap>:219: RuntimeWarning: to-Python converter for std::vector<int, std::allocator<int> > already registered; second conversion method ignored.\n"
     ]
    },
    {
     "name": "stdout",
     "output_type": "stream",
     "text": [
      "gait_parameters {'dx': -0.02, 'dy': -0.04, 'dtheta': -0.14, 'duration': 8, 'hardware': True, 'double_support_ratio': 0.5, 'startend_double_support_ratio': 1.0, 'planned_timesteps': 48, 'replan_timesteps': 10, 'walk_com_height': 0.19, 'walk_foot_height': 0.03, 'walk_trunk_pitch': 5, 'walk_foot_rise_ratio': 0.02, 'single_support_duration': 0.18, 'single_support_timesteps': 10, 'foot_length': 0.06, 'feet_spacing': 0.16, 'zmp_margin': 0.0, 'foot_zmp_target_x': 0.0, 'foot_zmp_target_y': -0.03, 'walk_max_dtheta': 1.0, 'walk_max_dy': 0.1, 'walk_max_dx_forward': 0.08, 'walk_max_dx_backward': 0.03, 'joints': ['left_hip_yaw', 'left_hip_roll', 'left_hip_pitch', 'left_knee', 'left_ankle', 'neck_pitch', 'head_pitch', 'head_yaw', 'head_roll', 'left_antenna', 'right_antenna', 'right_hip_yaw', 'right_hip_roll', 'right_hip_pitch', 'right_knee', 'right_ankle'], 'joint_angles': {'neck_pitch': 0, 'head_pitch': 0, 'head_yaw': 0, 'head_roll': 0, 'left_antenna': 0, 'right_antenna': 0}}\n"
     ]
    },
    {
     "name": "stderr",
     "output_type": "stream",
     "text": [
      "WARNING: Robot has the following self collisions in neutral position:\n",
      "  -head_assembly_5 collides with left_antenna_holder_1\n",
      "  -head_assembly_6 collides with right_antenna_holder_0\n",
      "WARNING: Can't find head frames in the model, camera_look_at won't work\n"
     ]
    },
    {
     "name": "stdout",
     "output_type": "stream",
     "text": [
      "Placing the robot in the initial position...\n",
      "Initial position reached\n",
      "{'left_hip_yaw': 0.03856073916697742, 'left_hip_roll': 0.07691234231316556, 'left_hip_pitch': -0.1508004296650294, 'left_knee': 0.737914879554754, 'left_ankle': -0.5002092270122876, 'neck_pitch': -0.00014650529827118036, 'head_pitch': -8.113406909632949e-05, 'head_yaw': 5.24007316640369e-06, 'head_roll': 3.1548197389333287e-06, 'left_antenna': 1.0947757521027012e-07, 'right_antenna': -1.1587403430728602e-07, 'right_hip_yaw': 0.047723089820247096, 'right_hip_roll': -0.029051215821507007, 'right_hip_pitch': 0.2964067682733741, 'right_knee': 1.0861277494285748, 'right_ankle': -0.7030056538707278}\n",
      "## period: 0.54\n",
      "center_y_pos: -0.08\n",
      "recorded 300 frames\n",
      "avg lin_vel_x 0.1624\n",
      "avg lin_vel_y 0.0267\n",
      "avg yaw -0.0092\n",
      "DONE, saving 25.json\n"
     ]
    },
    {
     "name": "stderr",
     "output_type": "stream",
     "text": [
      "<frozen importlib._bootstrap>:219: RuntimeWarning: to-Python converter for std::vector<std::__cxx11::basic_string<char, std::char_traits<char>, std::allocator<char> >, std::allocator<std::__cxx11::basic_string<char, std::char_traits<char>, std::allocator<char> > > > already registered; second conversion method ignored.\n",
      "<frozen importlib._bootstrap>:219: RuntimeWarning: to-Python converter for std::vector<double, std::allocator<double> > already registered; second conversion method ignored.\n",
      "<frozen importlib._bootstrap>:219: RuntimeWarning: to-Python converter for std::vector<int, std::allocator<int> > already registered; second conversion method ignored.\n"
     ]
    },
    {
     "name": "stdout",
     "output_type": "stream",
     "text": [
      "gait_parameters {'dx': -0.01, 'dy': 0.04, 'dtheta': -0.09, 'duration': 8, 'hardware': True, 'double_support_ratio': 0.5, 'startend_double_support_ratio': 1.0, 'planned_timesteps': 48, 'replan_timesteps': 10, 'walk_com_height': 0.19, 'walk_foot_height': 0.03, 'walk_trunk_pitch': -3, 'walk_foot_rise_ratio': 0.02, 'single_support_duration': 0.22, 'single_support_timesteps': 10, 'foot_length': 0.06, 'feet_spacing': 0.16, 'zmp_margin': 0.0, 'foot_zmp_target_x': 0.0, 'foot_zmp_target_y': -0.03, 'walk_max_dtheta': 1.0, 'walk_max_dy': 0.1, 'walk_max_dx_forward': 0.08, 'walk_max_dx_backward': 0.03, 'joints': ['left_hip_yaw', 'left_hip_roll', 'left_hip_pitch', 'left_knee', 'left_ankle', 'neck_pitch', 'head_pitch', 'head_yaw', 'head_roll', 'left_antenna', 'right_antenna', 'right_hip_yaw', 'right_hip_roll', 'right_hip_pitch', 'right_knee', 'right_ankle'], 'joint_angles': {'neck_pitch': 0, 'head_pitch': 0, 'head_yaw': 0, 'head_roll': 0, 'left_antenna': 0, 'right_antenna': 0}}\n"
     ]
    },
    {
     "name": "stderr",
     "output_type": "stream",
     "text": [
      "WARNING: Robot has the following self collisions in neutral position:\n",
      "  -head_assembly_5 collides with left_antenna_holder_1\n",
      "  -head_assembly_6 collides with right_antenna_holder_0\n",
      "WARNING: Can't find head frames in the model, camera_look_at won't work\n"
     ]
    },
    {
     "name": "stdout",
     "output_type": "stream",
     "text": [
      "Placing the robot in the initial position...\n",
      "Initial position reached\n",
      "{'left_hip_yaw': 0.04384448495867586, 'left_hip_roll': 0.08227996528371245, 'left_hip_pitch': -0.4319707158813395, 'left_knee': 0.8340599878238436, 'left_ankle': -0.45531071231336245, 'neck_pitch': -5.040117786021889e-05, 'head_pitch': -4.725233687447016e-05, 'head_yaw': 3.2485822468381597e-06, 'head_roll': 2.1419222210315492e-06, 'left_antenna': 1.8133491084059128e-07, 'right_antenna': -1.8591539899450453e-07, 'right_hip_yaw': 0.038234121045090934, 'right_hip_roll': -0.022202701579960495, 'right_hip_pitch': 0.5520527357704211, 'right_knee': 1.1206501538861333, 'right_ankle': -0.6216497736939007}\n",
      "## period: 0.6599999999999999\n",
      "center_y_pos: -0.08\n",
      "recorded 300 frames\n",
      "avg lin_vel_x 0.1161\n",
      "avg lin_vel_y -0.0192\n",
      "avg yaw -0.0025\n",
      "DONE, saving 26.json\n"
     ]
    },
    {
     "name": "stderr",
     "output_type": "stream",
     "text": [
      "<frozen importlib._bootstrap>:219: RuntimeWarning: to-Python converter for std::vector<std::__cxx11::basic_string<char, std::char_traits<char>, std::allocator<char> >, std::allocator<std::__cxx11::basic_string<char, std::char_traits<char>, std::allocator<char> > > > already registered; second conversion method ignored.\n",
      "<frozen importlib._bootstrap>:219: RuntimeWarning: to-Python converter for std::vector<double, std::allocator<double> > already registered; second conversion method ignored.\n",
      "<frozen importlib._bootstrap>:219: RuntimeWarning: to-Python converter for std::vector<int, std::allocator<int> > already registered; second conversion method ignored.\n"
     ]
    },
    {
     "name": "stdout",
     "output_type": "stream",
     "text": [
      "gait_parameters {'dx': 0.01, 'dy': -0.04, 'dtheta': 0.07, 'duration': 8, 'hardware': True, 'double_support_ratio': 0.5, 'startend_double_support_ratio': 1.0, 'planned_timesteps': 48, 'replan_timesteps': 10, 'walk_com_height': 0.19, 'walk_foot_height': 0.03, 'walk_trunk_pitch': 5, 'walk_foot_rise_ratio': 0.02, 'single_support_duration': 0.18, 'single_support_timesteps': 10, 'foot_length': 0.06, 'feet_spacing': 0.16, 'zmp_margin': 0.0, 'foot_zmp_target_x': 0.0, 'foot_zmp_target_y': -0.03, 'walk_max_dtheta': 1.0, 'walk_max_dy': 0.1, 'walk_max_dx_forward': 0.08, 'walk_max_dx_backward': 0.03, 'joints': ['left_hip_yaw', 'left_hip_roll', 'left_hip_pitch', 'left_knee', 'left_ankle', 'neck_pitch', 'head_pitch', 'head_yaw', 'head_roll', 'left_antenna', 'right_antenna', 'right_hip_yaw', 'right_hip_roll', 'right_hip_pitch', 'right_knee', 'right_ankle'], 'joint_angles': {'neck_pitch': 0, 'head_pitch': 0, 'head_yaw': 0, 'head_roll': 0, 'left_antenna': 0, 'right_antenna': 0}}\n"
     ]
    },
    {
     "name": "stderr",
     "output_type": "stream",
     "text": [
      "WARNING: Robot has the following self collisions in neutral position:\n",
      "  -head_assembly_5 collides with left_antenna_holder_1\n",
      "  -head_assembly_6 collides with right_antenna_holder_0\n",
      "WARNING: Can't find head frames in the model, camera_look_at won't work\n"
     ]
    },
    {
     "name": "stdout",
     "output_type": "stream",
     "text": [
      "Placing the robot in the initial position...\n",
      "Initial position reached\n",
      "{'left_hip_yaw': 0.03856073916697742, 'left_hip_roll': 0.07691234231316556, 'left_hip_pitch': -0.1508004296650294, 'left_knee': 0.737914879554754, 'left_ankle': -0.5002092270122876, 'neck_pitch': -0.00014650529827118036, 'head_pitch': -8.113406909632949e-05, 'head_yaw': 5.24007316640369e-06, 'head_roll': 3.1548197389333287e-06, 'left_antenna': 1.0947757521027012e-07, 'right_antenna': -1.1587403430728602e-07, 'right_hip_yaw': 0.047723089820247096, 'right_hip_roll': -0.029051215821507007, 'right_hip_pitch': 0.2964067682733741, 'right_knee': 1.0861277494285748, 'right_ankle': -0.7030056538707278}\n",
      "## period: 0.54\n",
      "center_y_pos: -0.08\n",
      "recorded 300 frames\n",
      "avg lin_vel_x 0.0533\n",
      "avg lin_vel_y 0.1328\n",
      "avg yaw 0.0034\n",
      "DONE, saving 27.json\n"
     ]
    },
    {
     "name": "stderr",
     "output_type": "stream",
     "text": [
      "<frozen importlib._bootstrap>:219: RuntimeWarning: to-Python converter for std::vector<std::__cxx11::basic_string<char, std::char_traits<char>, std::allocator<char> >, std::allocator<std::__cxx11::basic_string<char, std::char_traits<char>, std::allocator<char> > > > already registered; second conversion method ignored.\n",
      "<frozen importlib._bootstrap>:219: RuntimeWarning: to-Python converter for std::vector<double, std::allocator<double> > already registered; second conversion method ignored.\n",
      "<frozen importlib._bootstrap>:219: RuntimeWarning: to-Python converter for std::vector<int, std::allocator<int> > already registered; second conversion method ignored.\n"
     ]
    },
    {
     "name": "stdout",
     "output_type": "stream",
     "text": [
      "gait_parameters {'dx': 0.03, 'dy': 0.03, 'dtheta': -0.1, 'duration': 8, 'hardware': True, 'double_support_ratio': 0.5, 'startend_double_support_ratio': 1.0, 'planned_timesteps': 48, 'replan_timesteps': 10, 'walk_com_height': 0.19, 'walk_foot_height': 0.03, 'walk_trunk_pitch': -3, 'walk_foot_rise_ratio': 0.02, 'single_support_duration': 0.22, 'single_support_timesteps': 10, 'foot_length': 0.06, 'feet_spacing': 0.16, 'zmp_margin': 0.0, 'foot_zmp_target_x': 0.0, 'foot_zmp_target_y': -0.03, 'walk_max_dtheta': 1.0, 'walk_max_dy': 0.1, 'walk_max_dx_forward': 0.08, 'walk_max_dx_backward': 0.03, 'joints': ['left_hip_yaw', 'left_hip_roll', 'left_hip_pitch', 'left_knee', 'left_ankle', 'neck_pitch', 'head_pitch', 'head_yaw', 'head_roll', 'left_antenna', 'right_antenna', 'right_hip_yaw', 'right_hip_roll', 'right_hip_pitch', 'right_knee', 'right_ankle'], 'joint_angles': {'neck_pitch': 0, 'head_pitch': 0, 'head_yaw': 0, 'head_roll': 0, 'left_antenna': 0, 'right_antenna': 0}}\n"
     ]
    },
    {
     "name": "stderr",
     "output_type": "stream",
     "text": [
      "WARNING: Robot has the following self collisions in neutral position:\n",
      "  -head_assembly_5 collides with left_antenna_holder_1\n",
      "  -head_assembly_6 collides with right_antenna_holder_0\n",
      "WARNING: Can't find head frames in the model, camera_look_at won't work\n"
     ]
    },
    {
     "name": "stdout",
     "output_type": "stream",
     "text": [
      "Placing the robot in the initial position...\n",
      "Initial position reached\n",
      "{'left_hip_yaw': 0.04384448495867586, 'left_hip_roll': 0.08227996528371245, 'left_hip_pitch': -0.4319707158813395, 'left_knee': 0.8340599878238436, 'left_ankle': -0.45531071231336245, 'neck_pitch': -5.040117786021889e-05, 'head_pitch': -4.725233687447016e-05, 'head_yaw': 3.2485822468381597e-06, 'head_roll': 2.1419222210315492e-06, 'left_antenna': 1.8133491084059128e-07, 'right_antenna': -1.8591539899450453e-07, 'right_hip_yaw': 0.038234121045090934, 'right_hip_roll': -0.022202701579960495, 'right_hip_pitch': 0.5520527357704211, 'right_knee': 1.1206501538861333, 'right_ankle': -0.6216497736939007}\n",
      "## period: 0.6599999999999999\n",
      "center_y_pos: -0.08\n",
      "recorded 300 frames\n",
      "avg lin_vel_x 0.0038\n",
      "avg lin_vel_y -0.1158\n",
      "avg yaw -0.0031\n",
      "DONE, saving 28.json\n"
     ]
    },
    {
     "name": "stderr",
     "output_type": "stream",
     "text": [
      "<frozen importlib._bootstrap>:219: RuntimeWarning: to-Python converter for std::vector<std::__cxx11::basic_string<char, std::char_traits<char>, std::allocator<char> >, std::allocator<std::__cxx11::basic_string<char, std::char_traits<char>, std::allocator<char> > > > already registered; second conversion method ignored.\n",
      "<frozen importlib._bootstrap>:219: RuntimeWarning: to-Python converter for std::vector<double, std::allocator<double> > already registered; second conversion method ignored.\n",
      "<frozen importlib._bootstrap>:219: RuntimeWarning: to-Python converter for std::vector<int, std::allocator<int> > already registered; second conversion method ignored.\n"
     ]
    },
    {
     "name": "stdout",
     "output_type": "stream",
     "text": [
      "gait_parameters {'dx': -0.03, 'dy': 0.02, 'dtheta': -0.03, 'duration': 8, 'hardware': True, 'double_support_ratio': 0.5, 'startend_double_support_ratio': 1.0, 'planned_timesteps': 48, 'replan_timesteps': 10, 'walk_com_height': 0.19, 'walk_foot_height': 0.03, 'walk_trunk_pitch': 5, 'walk_foot_rise_ratio': 0.02, 'single_support_duration': 0.18, 'single_support_timesteps': 10, 'foot_length': 0.06, 'feet_spacing': 0.16, 'zmp_margin': 0.0, 'foot_zmp_target_x': 0.0, 'foot_zmp_target_y': -0.03, 'walk_max_dtheta': 1.0, 'walk_max_dy': 0.1, 'walk_max_dx_forward': 0.08, 'walk_max_dx_backward': 0.03, 'joints': ['left_hip_yaw', 'left_hip_roll', 'left_hip_pitch', 'left_knee', 'left_ankle', 'neck_pitch', 'head_pitch', 'head_yaw', 'head_roll', 'left_antenna', 'right_antenna', 'right_hip_yaw', 'right_hip_roll', 'right_hip_pitch', 'right_knee', 'right_ankle'], 'joint_angles': {'neck_pitch': 0, 'head_pitch': 0, 'head_yaw': 0, 'head_roll': 0, 'left_antenna': 0, 'right_antenna': 0}}\n"
     ]
    },
    {
     "name": "stderr",
     "output_type": "stream",
     "text": [
      "WARNING: Robot has the following self collisions in neutral position:\n",
      "  -head_assembly_5 collides with left_antenna_holder_1\n",
      "  -head_assembly_6 collides with right_antenna_holder_0\n",
      "WARNING: Can't find head frames in the model, camera_look_at won't work\n"
     ]
    },
    {
     "name": "stdout",
     "output_type": "stream",
     "text": [
      "Placing the robot in the initial position...\n",
      "Initial position reached\n",
      "{'left_hip_yaw': 0.03856073916697742, 'left_hip_roll': 0.07691234231316556, 'left_hip_pitch': -0.1508004296650294, 'left_knee': 0.737914879554754, 'left_ankle': -0.5002092270122876, 'neck_pitch': -0.00014650529827118036, 'head_pitch': -8.113406909632949e-05, 'head_yaw': 5.24007316640369e-06, 'head_roll': 3.1548197389333287e-06, 'left_antenna': 1.0947757521027012e-07, 'right_antenna': -1.1587403430728602e-07, 'right_hip_yaw': 0.047723089820247096, 'right_hip_roll': -0.029051215821507007, 'right_hip_pitch': 0.2964067682733741, 'right_knee': 1.0861277494285748, 'right_ankle': -0.7030056538707278}\n",
      "## period: 0.54\n",
      "center_y_pos: -0.08\n",
      "recorded 300 frames\n",
      "avg lin_vel_x -0.0434\n",
      "avg lin_vel_y 0.1288\n",
      "avg yaw -0.0002\n",
      "DONE, saving 29.json\n"
     ]
    },
    {
     "name": "stderr",
     "output_type": "stream",
     "text": [
      "<frozen importlib._bootstrap>:219: RuntimeWarning: to-Python converter for std::vector<std::__cxx11::basic_string<char, std::char_traits<char>, std::allocator<char> >, std::allocator<std::__cxx11::basic_string<char, std::char_traits<char>, std::allocator<char> > > > already registered; second conversion method ignored.\n",
      "<frozen importlib._bootstrap>:219: RuntimeWarning: to-Python converter for std::vector<double, std::allocator<double> > already registered; second conversion method ignored.\n",
      "<frozen importlib._bootstrap>:219: RuntimeWarning: to-Python converter for std::vector<int, std::allocator<int> > already registered; second conversion method ignored.\n"
     ]
    },
    {
     "name": "stdout",
     "output_type": "stream",
     "text": [
      "gait_parameters {'dx': 0.01, 'dy': 0.03, 'dtheta': 0.17, 'duration': 8, 'hardware': True, 'double_support_ratio': 0.5, 'startend_double_support_ratio': 1.0, 'planned_timesteps': 48, 'replan_timesteps': 10, 'walk_com_height': 0.19, 'walk_foot_height': 0.03, 'walk_trunk_pitch': -3, 'walk_foot_rise_ratio': 0.02, 'single_support_duration': 0.22, 'single_support_timesteps': 10, 'foot_length': 0.06, 'feet_spacing': 0.16, 'zmp_margin': 0.0, 'foot_zmp_target_x': 0.0, 'foot_zmp_target_y': -0.03, 'walk_max_dtheta': 1.0, 'walk_max_dy': 0.1, 'walk_max_dx_forward': 0.08, 'walk_max_dx_backward': 0.03, 'joints': ['left_hip_yaw', 'left_hip_roll', 'left_hip_pitch', 'left_knee', 'left_ankle', 'neck_pitch', 'head_pitch', 'head_yaw', 'head_roll', 'left_antenna', 'right_antenna', 'right_hip_yaw', 'right_hip_roll', 'right_hip_pitch', 'right_knee', 'right_ankle'], 'joint_angles': {'neck_pitch': 0, 'head_pitch': 0, 'head_yaw': 0, 'head_roll': 0, 'left_antenna': 0, 'right_antenna': 0}}\n"
     ]
    },
    {
     "name": "stderr",
     "output_type": "stream",
     "text": [
      "WARNING: Robot has the following self collisions in neutral position:\n",
      "  -head_assembly_5 collides with left_antenna_holder_1\n",
      "  -head_assembly_6 collides with right_antenna_holder_0\n",
      "WARNING: Can't find head frames in the model, camera_look_at won't work\n"
     ]
    },
    {
     "name": "stdout",
     "output_type": "stream",
     "text": [
      "Placing the robot in the initial position...\n",
      "Initial position reached\n",
      "{'left_hip_yaw': 0.04384448495867586, 'left_hip_roll': 0.08227996528371245, 'left_hip_pitch': -0.4319707158813395, 'left_knee': 0.8340599878238436, 'left_ankle': -0.45531071231336245, 'neck_pitch': -5.040117786021889e-05, 'head_pitch': -4.725233687447016e-05, 'head_yaw': 3.2485822468381597e-06, 'head_roll': 2.1419222210315492e-06, 'left_antenna': 1.8133491084059128e-07, 'right_antenna': -1.8591539899450453e-07, 'right_hip_yaw': 0.038234121045090934, 'right_hip_roll': -0.022202701579960495, 'right_hip_pitch': 0.5520527357704211, 'right_knee': 1.1206501538861333, 'right_ankle': -0.6216497736939007}\n",
      "## period: 0.6599999999999999\n",
      "center_y_pos: -0.08\n",
      "recorded 300 frames\n",
      "avg lin_vel_x 0.0954\n",
      "avg lin_vel_y -0.0558\n",
      "avg yaw 0.0122\n",
      "DONE, saving 30.json\n"
     ]
    },
    {
     "name": "stderr",
     "output_type": "stream",
     "text": [
      "<frozen importlib._bootstrap>:219: RuntimeWarning: to-Python converter for std::vector<std::__cxx11::basic_string<char, std::char_traits<char>, std::allocator<char> >, std::allocator<std::__cxx11::basic_string<char, std::char_traits<char>, std::allocator<char> > > > already registered; second conversion method ignored.\n",
      "<frozen importlib._bootstrap>:219: RuntimeWarning: to-Python converter for std::vector<double, std::allocator<double> > already registered; second conversion method ignored.\n",
      "<frozen importlib._bootstrap>:219: RuntimeWarning: to-Python converter for std::vector<int, std::allocator<int> > already registered; second conversion method ignored.\n"
     ]
    },
    {
     "name": "stdout",
     "output_type": "stream",
     "text": [
      "gait_parameters {'dx': -0.04, 'dy': -0.02, 'dtheta': -0.22, 'duration': 8, 'hardware': True, 'double_support_ratio': 0.5, 'startend_double_support_ratio': 1.0, 'planned_timesteps': 48, 'replan_timesteps': 10, 'walk_com_height': 0.19, 'walk_foot_height': 0.03, 'walk_trunk_pitch': 5, 'walk_foot_rise_ratio': 0.02, 'single_support_duration': 0.18, 'single_support_timesteps': 10, 'foot_length': 0.06, 'feet_spacing': 0.16, 'zmp_margin': 0.0, 'foot_zmp_target_x': 0.0, 'foot_zmp_target_y': -0.03, 'walk_max_dtheta': 1.0, 'walk_max_dy': 0.1, 'walk_max_dx_forward': 0.08, 'walk_max_dx_backward': 0.03, 'joints': ['left_hip_yaw', 'left_hip_roll', 'left_hip_pitch', 'left_knee', 'left_ankle', 'neck_pitch', 'head_pitch', 'head_yaw', 'head_roll', 'left_antenna', 'right_antenna', 'right_hip_yaw', 'right_hip_roll', 'right_hip_pitch', 'right_knee', 'right_ankle'], 'joint_angles': {'neck_pitch': 0, 'head_pitch': 0, 'head_yaw': 0, 'head_roll': 0, 'left_antenna': 0, 'right_antenna': 0}}\n"
     ]
    },
    {
     "name": "stderr",
     "output_type": "stream",
     "text": [
      "WARNING: Robot has the following self collisions in neutral position:\n",
      "  -head_assembly_5 collides with left_antenna_holder_1\n",
      "  -head_assembly_6 collides with right_antenna_holder_0\n",
      "WARNING: Can't find head frames in the model, camera_look_at won't work\n"
     ]
    },
    {
     "name": "stdout",
     "output_type": "stream",
     "text": [
      "Placing the robot in the initial position...\n",
      "Initial position reached\n",
      "{'left_hip_yaw': 0.03856073916697757, 'left_hip_roll': 0.07691234231316382, 'left_hip_pitch': -0.1508004296650313, 'left_knee': 0.7379148795547577, 'left_ankle': -0.5002092270122889, 'neck_pitch': -0.0001465052982711769, 'head_pitch': -8.113406909632722e-05, 'head_yaw': 5.240073166404728e-06, 'head_roll': 3.154819738933417e-06, 'left_antenna': 1.0947757521026423e-07, 'right_antenna': -1.1587403430728153e-07, 'right_hip_yaw': 0.04772308982024729, 'right_hip_roll': -0.02905121582150938, 'right_hip_pitch': 0.29640676827338475, 'right_knee': 1.0861277494285952, 'right_ankle': -0.7030056538707377}\n",
      "## period: 0.54\n",
      "center_y_pos: -0.08\n",
      "recorded 300 frames\n",
      "avg lin_vel_x 0.0422\n",
      "avg lin_vel_y -0.1065\n",
      "avg yaw -0.0128\n",
      "DONE, saving 31.json\n"
     ]
    },
    {
     "name": "stderr",
     "output_type": "stream",
     "text": [
      "<frozen importlib._bootstrap>:219: RuntimeWarning: to-Python converter for std::vector<std::__cxx11::basic_string<char, std::char_traits<char>, std::allocator<char> >, std::allocator<std::__cxx11::basic_string<char, std::char_traits<char>, std::allocator<char> > > > already registered; second conversion method ignored.\n",
      "<frozen importlib._bootstrap>:219: RuntimeWarning: to-Python converter for std::vector<double, std::allocator<double> > already registered; second conversion method ignored.\n",
      "<frozen importlib._bootstrap>:219: RuntimeWarning: to-Python converter for std::vector<int, std::allocator<int> > already registered; second conversion method ignored.\n"
     ]
    },
    {
     "name": "stdout",
     "output_type": "stream",
     "text": [
      "gait_parameters {'dx': 0.05, 'dy': 0.01, 'dtheta': 0.11, 'duration': 8, 'hardware': True, 'double_support_ratio': 0.5, 'startend_double_support_ratio': 1.0, 'planned_timesteps': 48, 'replan_timesteps': 10, 'walk_com_height': 0.19, 'walk_foot_height': 0.03, 'walk_trunk_pitch': 5, 'walk_foot_rise_ratio': 0.02, 'single_support_duration': 0.18, 'single_support_timesteps': 10, 'foot_length': 0.06, 'feet_spacing': 0.16, 'zmp_margin': 0.0, 'foot_zmp_target_x': 0.0, 'foot_zmp_target_y': -0.03, 'walk_max_dtheta': 1.0, 'walk_max_dy': 0.1, 'walk_max_dx_forward': 0.08, 'walk_max_dx_backward': 0.03, 'joints': ['left_hip_yaw', 'left_hip_roll', 'left_hip_pitch', 'left_knee', 'left_ankle', 'neck_pitch', 'head_pitch', 'head_yaw', 'head_roll', 'left_antenna', 'right_antenna', 'right_hip_yaw', 'right_hip_roll', 'right_hip_pitch', 'right_knee', 'right_ankle'], 'joint_angles': {'neck_pitch': 0, 'head_pitch': 0, 'head_yaw': 0, 'head_roll': 0, 'left_antenna': 0, 'right_antenna': 0}}\n"
     ]
    },
    {
     "name": "stderr",
     "output_type": "stream",
     "text": [
      "WARNING: Robot has the following self collisions in neutral position:\n",
      "  -head_assembly_5 collides with left_antenna_holder_1\n",
      "  -head_assembly_6 collides with right_antenna_holder_0\n",
      "WARNING: Can't find head frames in the model, camera_look_at won't work\n"
     ]
    },
    {
     "name": "stdout",
     "output_type": "stream",
     "text": [
      "Placing the robot in the initial position...\n",
      "Initial position reached\n",
      "{'left_hip_yaw': 0.03856073916697742, 'left_hip_roll': 0.07691234231316556, 'left_hip_pitch': -0.1508004296650294, 'left_knee': 0.737914879554754, 'left_ankle': -0.5002092270122876, 'neck_pitch': -0.00014650529827118036, 'head_pitch': -8.113406909632949e-05, 'head_yaw': 5.24007316640369e-06, 'head_roll': 3.1548197389333287e-06, 'left_antenna': 1.0947757521027012e-07, 'right_antenna': -1.1587403430728602e-07, 'right_hip_yaw': 0.047723089820247096, 'right_hip_roll': -0.029051215821507007, 'right_hip_pitch': 0.2964067682733741, 'right_knee': 1.0861277494285748, 'right_ankle': -0.7030056538707278}\n",
      "## period: 0.54\n",
      "center_y_pos: -0.08\n",
      "recorded 300 frames\n",
      "avg lin_vel_x -0.1127\n",
      "avg lin_vel_y -0.1474\n",
      "avg yaw 0.0077\n",
      "DONE, saving 32.json\n"
     ]
    },
    {
     "name": "stderr",
     "output_type": "stream",
     "text": [
      "<frozen importlib._bootstrap>:219: RuntimeWarning: to-Python converter for std::vector<std::__cxx11::basic_string<char, std::char_traits<char>, std::allocator<char> >, std::allocator<std::__cxx11::basic_string<char, std::char_traits<char>, std::allocator<char> > > > already registered; second conversion method ignored.\n",
      "<frozen importlib._bootstrap>:219: RuntimeWarning: to-Python converter for std::vector<double, std::allocator<double> > already registered; second conversion method ignored.\n",
      "<frozen importlib._bootstrap>:219: RuntimeWarning: to-Python converter for std::vector<int, std::allocator<int> > already registered; second conversion method ignored.\n"
     ]
    },
    {
     "name": "stdout",
     "output_type": "stream",
     "text": [
      "gait_parameters {'dx': 0.01, 'dy': 0.05, 'dtheta': -0.16, 'duration': 8, 'hardware': True, 'double_support_ratio': 0.5, 'startend_double_support_ratio': 1.0, 'planned_timesteps': 48, 'replan_timesteps': 10, 'walk_com_height': 0.19, 'walk_foot_height': 0.03, 'walk_trunk_pitch': -3, 'walk_foot_rise_ratio': 0.02, 'single_support_duration': 0.22, 'single_support_timesteps': 10, 'foot_length': 0.06, 'feet_spacing': 0.16, 'zmp_margin': 0.0, 'foot_zmp_target_x': 0.0, 'foot_zmp_target_y': -0.03, 'walk_max_dtheta': 1.0, 'walk_max_dy': 0.1, 'walk_max_dx_forward': 0.08, 'walk_max_dx_backward': 0.03, 'joints': ['left_hip_yaw', 'left_hip_roll', 'left_hip_pitch', 'left_knee', 'left_ankle', 'neck_pitch', 'head_pitch', 'head_yaw', 'head_roll', 'left_antenna', 'right_antenna', 'right_hip_yaw', 'right_hip_roll', 'right_hip_pitch', 'right_knee', 'right_ankle'], 'joint_angles': {'neck_pitch': 0, 'head_pitch': 0, 'head_yaw': 0, 'head_roll': 0, 'left_antenna': 0, 'right_antenna': 0}}\n"
     ]
    },
    {
     "name": "stderr",
     "output_type": "stream",
     "text": [
      "WARNING: Robot has the following self collisions in neutral position:\n",
      "  -head_assembly_5 collides with left_antenna_holder_1\n",
      "  -head_assembly_6 collides with right_antenna_holder_0\n",
      "WARNING: Can't find head frames in the model, camera_look_at won't work\n"
     ]
    },
    {
     "name": "stdout",
     "output_type": "stream",
     "text": [
      "Placing the robot in the initial position...\n",
      "Initial position reached\n",
      "{'left_hip_yaw': 0.04384448495867586, 'left_hip_roll': 0.08227996528371245, 'left_hip_pitch': -0.4319707158813395, 'left_knee': 0.8340599878238436, 'left_ankle': -0.45531071231336245, 'neck_pitch': -5.040117786021889e-05, 'head_pitch': -4.725233687447016e-05, 'head_yaw': 3.2485822468381597e-06, 'head_roll': 2.1419222210315492e-06, 'left_antenna': 1.8133491084059128e-07, 'right_antenna': -1.8591539899450453e-07, 'right_hip_yaw': 0.038234121045090934, 'right_hip_roll': -0.022202701579960495, 'right_hip_pitch': 0.5520527357704211, 'right_knee': 1.1206501538861333, 'right_ankle': -0.6216497736939007}\n",
      "## period: 0.6599999999999999\n",
      "center_y_pos: -0.08\n",
      "recorded 300 frames\n",
      "avg lin_vel_x -0.0496\n",
      "avg lin_vel_y -0.1118\n",
      "avg yaw -0.007\n",
      "DONE, saving 33.json\n"
     ]
    },
    {
     "name": "stderr",
     "output_type": "stream",
     "text": [
      "<frozen importlib._bootstrap>:219: RuntimeWarning: to-Python converter for std::vector<std::__cxx11::basic_string<char, std::char_traits<char>, std::allocator<char> >, std::allocator<std::__cxx11::basic_string<char, std::char_traits<char>, std::allocator<char> > > > already registered; second conversion method ignored.\n",
      "<frozen importlib._bootstrap>:219: RuntimeWarning: to-Python converter for std::vector<double, std::allocator<double> > already registered; second conversion method ignored.\n",
      "<frozen importlib._bootstrap>:219: RuntimeWarning: to-Python converter for std::vector<int, std::allocator<int> > already registered; second conversion method ignored.\n"
     ]
    },
    {
     "name": "stdout",
     "output_type": "stream",
     "text": [
      "gait_parameters {'dx': -0.05, 'dy': 0.01, 'dtheta': -0.14, 'duration': 8, 'hardware': True, 'double_support_ratio': 0.5, 'startend_double_support_ratio': 1.0, 'planned_timesteps': 48, 'replan_timesteps': 10, 'walk_com_height': 0.19, 'walk_foot_height': 0.03, 'walk_trunk_pitch': 5, 'walk_foot_rise_ratio': 0.02, 'single_support_duration': 0.18, 'single_support_timesteps': 10, 'foot_length': 0.06, 'feet_spacing': 0.16, 'zmp_margin': 0.0, 'foot_zmp_target_x': 0.0, 'foot_zmp_target_y': -0.03, 'walk_max_dtheta': 1.0, 'walk_max_dy': 0.1, 'walk_max_dx_forward': 0.08, 'walk_max_dx_backward': 0.03, 'joints': ['left_hip_yaw', 'left_hip_roll', 'left_hip_pitch', 'left_knee', 'left_ankle', 'neck_pitch', 'head_pitch', 'head_yaw', 'head_roll', 'left_antenna', 'right_antenna', 'right_hip_yaw', 'right_hip_roll', 'right_hip_pitch', 'right_knee', 'right_ankle'], 'joint_angles': {'neck_pitch': 0, 'head_pitch': 0, 'head_yaw': 0, 'head_roll': 0, 'left_antenna': 0, 'right_antenna': 0}}\n"
     ]
    },
    {
     "name": "stderr",
     "output_type": "stream",
     "text": [
      "WARNING: Robot has the following self collisions in neutral position:\n",
      "  -head_assembly_5 collides with left_antenna_holder_1\n",
      "  -head_assembly_6 collides with right_antenna_holder_0\n",
      "WARNING: Can't find head frames in the model, camera_look_at won't work\n"
     ]
    },
    {
     "name": "stdout",
     "output_type": "stream",
     "text": [
      "Placing the robot in the initial position...\n",
      "Initial position reached\n",
      "{'left_hip_yaw': 0.03856073916697742, 'left_hip_roll': 0.07691234231316556, 'left_hip_pitch': -0.1508004296650294, 'left_knee': 0.737914879554754, 'left_ankle': -0.5002092270122876, 'neck_pitch': -0.00014650529827118036, 'head_pitch': -8.113406909632949e-05, 'head_yaw': 5.24007316640369e-06, 'head_roll': 3.1548197389333287e-06, 'left_antenna': 1.0947757521027012e-07, 'right_antenna': -1.1587403430728602e-07, 'right_hip_yaw': 0.047723089820247096, 'right_hip_roll': -0.029051215821507007, 'right_hip_pitch': 0.2964067682733741, 'right_knee': 1.0861277494285748, 'right_ankle': -0.7030056538707278}\n",
      "## period: 0.54\n",
      "center_y_pos: -0.08\n",
      "recorded 300 frames\n",
      "avg lin_vel_x 0.0981\n",
      "avg lin_vel_y 0.0515\n",
      "avg yaw -0.0033\n",
      "DONE, saving 34.json\n"
     ]
    },
    {
     "name": "stderr",
     "output_type": "stream",
     "text": [
      "<frozen importlib._bootstrap>:219: RuntimeWarning: to-Python converter for std::vector<std::__cxx11::basic_string<char, std::char_traits<char>, std::allocator<char> >, std::allocator<std::__cxx11::basic_string<char, std::char_traits<char>, std::allocator<char> > > > already registered; second conversion method ignored.\n",
      "<frozen importlib._bootstrap>:219: RuntimeWarning: to-Python converter for std::vector<double, std::allocator<double> > already registered; second conversion method ignored.\n",
      "<frozen importlib._bootstrap>:219: RuntimeWarning: to-Python converter for std::vector<int, std::allocator<int> > already registered; second conversion method ignored.\n"
     ]
    },
    {
     "name": "stdout",
     "output_type": "stream",
     "text": [
      "gait_parameters {'dx': 0.04, 'dy': -0.0, 'dtheta': -0.1, 'duration': 8, 'hardware': True, 'double_support_ratio': 0.5, 'startend_double_support_ratio': 1.0, 'planned_timesteps': 48, 'replan_timesteps': 10, 'walk_com_height': 0.19, 'walk_foot_height': 0.03, 'walk_trunk_pitch': -3, 'walk_foot_rise_ratio': 0.02, 'single_support_duration': 0.22, 'single_support_timesteps': 10, 'foot_length': 0.06, 'feet_spacing': 0.16, 'zmp_margin': 0.0, 'foot_zmp_target_x': 0.0, 'foot_zmp_target_y': -0.03, 'walk_max_dtheta': 1.0, 'walk_max_dy': 0.1, 'walk_max_dx_forward': 0.08, 'walk_max_dx_backward': 0.03, 'joints': ['left_hip_yaw', 'left_hip_roll', 'left_hip_pitch', 'left_knee', 'left_ankle', 'neck_pitch', 'head_pitch', 'head_yaw', 'head_roll', 'left_antenna', 'right_antenna', 'right_hip_yaw', 'right_hip_roll', 'right_hip_pitch', 'right_knee', 'right_ankle'], 'joint_angles': {'neck_pitch': 0, 'head_pitch': 0, 'head_yaw': 0, 'head_roll': 0, 'left_antenna': 0, 'right_antenna': 0}}\n"
     ]
    },
    {
     "name": "stderr",
     "output_type": "stream",
     "text": [
      "WARNING: Robot has the following self collisions in neutral position:\n",
      "  -head_assembly_5 collides with left_antenna_holder_1\n",
      "  -head_assembly_6 collides with right_antenna_holder_0\n",
      "WARNING: Can't find head frames in the model, camera_look_at won't work\n"
     ]
    },
    {
     "name": "stdout",
     "output_type": "stream",
     "text": [
      "Placing the robot in the initial position...\n",
      "Initial position reached\n",
      "{'left_hip_yaw': 0.04384448495867586, 'left_hip_roll': 0.08227996528371245, 'left_hip_pitch': -0.4319707158813395, 'left_knee': 0.8340599878238436, 'left_ankle': -0.45531071231336245, 'neck_pitch': -5.040117786021889e-05, 'head_pitch': -4.725233687447016e-05, 'head_yaw': 3.2485822468381597e-06, 'head_roll': 2.1419222210315492e-06, 'left_antenna': 1.8133491084059128e-07, 'right_antenna': -1.8591539899450453e-07, 'right_hip_yaw': 0.038234121045090934, 'right_hip_roll': -0.022202701579960495, 'right_hip_pitch': 0.5520527357704211, 'right_knee': 1.1206501538861333, 'right_ankle': -0.6216497736939007}\n",
      "## period: 0.6599999999999999\n",
      "center_y_pos: -0.08\n",
      "recorded 300 frames\n",
      "avg lin_vel_x -0.0838\n",
      "avg lin_vel_y -0.0776\n",
      "avg yaw -0.0031\n",
      "DONE, saving 35.json\n"
     ]
    },
    {
     "name": "stderr",
     "output_type": "stream",
     "text": [
      "<frozen importlib._bootstrap>:219: RuntimeWarning: to-Python converter for std::vector<std::__cxx11::basic_string<char, std::char_traits<char>, std::allocator<char> >, std::allocator<std::__cxx11::basic_string<char, std::char_traits<char>, std::allocator<char> > > > already registered; second conversion method ignored.\n",
      "<frozen importlib._bootstrap>:219: RuntimeWarning: to-Python converter for std::vector<double, std::allocator<double> > already registered; second conversion method ignored.\n",
      "<frozen importlib._bootstrap>:219: RuntimeWarning: to-Python converter for std::vector<int, std::allocator<int> > already registered; second conversion method ignored.\n"
     ]
    },
    {
     "name": "stdout",
     "output_type": "stream",
     "text": [
      "gait_parameters {'dx': 0.02, 'dy': -0.01, 'dtheta': -0.23, 'duration': 8, 'hardware': True, 'double_support_ratio': 0.5, 'startend_double_support_ratio': 1.0, 'planned_timesteps': 48, 'replan_timesteps': 10, 'walk_com_height': 0.19, 'walk_foot_height': 0.03, 'walk_trunk_pitch': -3, 'walk_foot_rise_ratio': 0.02, 'single_support_duration': 0.22, 'single_support_timesteps': 10, 'foot_length': 0.06, 'feet_spacing': 0.16, 'zmp_margin': 0.0, 'foot_zmp_target_x': 0.0, 'foot_zmp_target_y': -0.03, 'walk_max_dtheta': 1.0, 'walk_max_dy': 0.1, 'walk_max_dx_forward': 0.08, 'walk_max_dx_backward': 0.03, 'joints': ['left_hip_yaw', 'left_hip_roll', 'left_hip_pitch', 'left_knee', 'left_ankle', 'neck_pitch', 'head_pitch', 'head_yaw', 'head_roll', 'left_antenna', 'right_antenna', 'right_hip_yaw', 'right_hip_roll', 'right_hip_pitch', 'right_knee', 'right_ankle'], 'joint_angles': {'neck_pitch': 0, 'head_pitch': 0, 'head_yaw': 0, 'head_roll': 0, 'left_antenna': 0, 'right_antenna': 0}}\n"
     ]
    },
    {
     "name": "stderr",
     "output_type": "stream",
     "text": [
      "WARNING: Robot has the following self collisions in neutral position:\n",
      "  -head_assembly_5 collides with left_antenna_holder_1\n",
      "  -head_assembly_6 collides with right_antenna_holder_0\n",
      "WARNING: Can't find head frames in the model, camera_look_at won't work\n"
     ]
    },
    {
     "name": "stdout",
     "output_type": "stream",
     "text": [
      "Placing the robot in the initial position...\n",
      "Initial position reached\n",
      "{'left_hip_yaw': 0.04384448495867586, 'left_hip_roll': 0.08227996528371245, 'left_hip_pitch': -0.4319707158813395, 'left_knee': 0.8340599878238436, 'left_ankle': -0.45531071231336245, 'neck_pitch': -5.040117786021889e-05, 'head_pitch': -4.725233687447016e-05, 'head_yaw': 3.2485822468381597e-06, 'head_roll': 2.1419222210315492e-06, 'left_antenna': 1.8133491084059128e-07, 'right_antenna': -1.8591539899450453e-07, 'right_hip_yaw': 0.038234121045090934, 'right_hip_roll': -0.022202701579960495, 'right_hip_pitch': 0.5520527357704211, 'right_knee': 1.1206501538861333, 'right_ankle': -0.6216497736939007}\n",
      "## period: 0.6599999999999999\n",
      "center_y_pos: -0.08\n",
      "recorded 300 frames\n",
      "avg lin_vel_x 0.0616\n",
      "avg lin_vel_y -0.0159\n",
      "avg yaw -0.0184\n",
      "DONE, saving 36.json\n"
     ]
    },
    {
     "name": "stderr",
     "output_type": "stream",
     "text": [
      "<frozen importlib._bootstrap>:219: RuntimeWarning: to-Python converter for std::vector<std::__cxx11::basic_string<char, std::char_traits<char>, std::allocator<char> >, std::allocator<std::__cxx11::basic_string<char, std::char_traits<char>, std::allocator<char> > > > already registered; second conversion method ignored.\n",
      "<frozen importlib._bootstrap>:219: RuntimeWarning: to-Python converter for std::vector<double, std::allocator<double> > already registered; second conversion method ignored.\n",
      "<frozen importlib._bootstrap>:219: RuntimeWarning: to-Python converter for std::vector<int, std::allocator<int> > already registered; second conversion method ignored.\n"
     ]
    },
    {
     "name": "stdout",
     "output_type": "stream",
     "text": [
      "gait_parameters {'dx': -0.04, 'dy': 0.01, 'dtheta': 0.01, 'duration': 8, 'hardware': True, 'double_support_ratio': 0.5, 'startend_double_support_ratio': 1.0, 'planned_timesteps': 48, 'replan_timesteps': 10, 'walk_com_height': 0.19, 'walk_foot_height': 0.03, 'walk_trunk_pitch': 5, 'walk_foot_rise_ratio': 0.02, 'single_support_duration': 0.18, 'single_support_timesteps': 10, 'foot_length': 0.06, 'feet_spacing': 0.16, 'zmp_margin': 0.0, 'foot_zmp_target_x': 0.0, 'foot_zmp_target_y': -0.03, 'walk_max_dtheta': 1.0, 'walk_max_dy': 0.1, 'walk_max_dx_forward': 0.08, 'walk_max_dx_backward': 0.03, 'joints': ['left_hip_yaw', 'left_hip_roll', 'left_hip_pitch', 'left_knee', 'left_ankle', 'neck_pitch', 'head_pitch', 'head_yaw', 'head_roll', 'left_antenna', 'right_antenna', 'right_hip_yaw', 'right_hip_roll', 'right_hip_pitch', 'right_knee', 'right_ankle'], 'joint_angles': {'neck_pitch': 0, 'head_pitch': 0, 'head_yaw': 0, 'head_roll': 0, 'left_antenna': 0, 'right_antenna': 0}}\n"
     ]
    },
    {
     "name": "stderr",
     "output_type": "stream",
     "text": [
      "WARNING: Robot has the following self collisions in neutral position:\n",
      "  -head_assembly_5 collides with left_antenna_holder_1\n",
      "  -head_assembly_6 collides with right_antenna_holder_0\n",
      "WARNING: Can't find head frames in the model, camera_look_at won't work\n"
     ]
    },
    {
     "name": "stdout",
     "output_type": "stream",
     "text": [
      "Placing the robot in the initial position...\n",
      "Initial position reached\n",
      "{'left_hip_yaw': 0.03856073916697742, 'left_hip_roll': 0.07691234231316556, 'left_hip_pitch': -0.1508004296650294, 'left_knee': 0.737914879554754, 'left_ankle': -0.5002092270122876, 'neck_pitch': -0.00014650529827118036, 'head_pitch': -8.113406909632949e-05, 'head_yaw': 5.24007316640369e-06, 'head_roll': 3.1548197389333287e-06, 'left_antenna': 1.0947757521027012e-07, 'right_antenna': -1.1587403430728602e-07, 'right_hip_yaw': 0.047723089820247096, 'right_hip_roll': -0.029051215821507007, 'right_hip_pitch': 0.2964067682733741, 'right_knee': 1.0861277494285748, 'right_ankle': -0.7030056538707278}\n",
      "## period: 0.54\n",
      "center_y_pos: -0.08\n",
      "recorded 300 frames\n",
      "avg lin_vel_x -0.118\n",
      "avg lin_vel_y -0.0203\n",
      "avg yaw 0.0001\n",
      "DONE, saving 37.json\n"
     ]
    },
    {
     "name": "stderr",
     "output_type": "stream",
     "text": [
      "<frozen importlib._bootstrap>:219: RuntimeWarning: to-Python converter for std::vector<std::__cxx11::basic_string<char, std::char_traits<char>, std::allocator<char> >, std::allocator<std::__cxx11::basic_string<char, std::char_traits<char>, std::allocator<char> > > > already registered; second conversion method ignored.\n",
      "<frozen importlib._bootstrap>:219: RuntimeWarning: to-Python converter for std::vector<double, std::allocator<double> > already registered; second conversion method ignored.\n",
      "<frozen importlib._bootstrap>:219: RuntimeWarning: to-Python converter for std::vector<int, std::allocator<int> > already registered; second conversion method ignored.\n"
     ]
    },
    {
     "name": "stdout",
     "output_type": "stream",
     "text": [
      "gait_parameters {'dx': 0.04, 'dy': -0.01, 'dtheta': -0.18, 'duration': 8, 'hardware': True, 'double_support_ratio': 0.5, 'startend_double_support_ratio': 1.0, 'planned_timesteps': 48, 'replan_timesteps': 10, 'walk_com_height': 0.19, 'walk_foot_height': 0.03, 'walk_trunk_pitch': 5, 'walk_foot_rise_ratio': 0.02, 'single_support_duration': 0.18, 'single_support_timesteps': 10, 'foot_length': 0.06, 'feet_spacing': 0.16, 'zmp_margin': 0.0, 'foot_zmp_target_x': 0.0, 'foot_zmp_target_y': -0.03, 'walk_max_dtheta': 1.0, 'walk_max_dy': 0.1, 'walk_max_dx_forward': 0.08, 'walk_max_dx_backward': 0.03, 'joints': ['left_hip_yaw', 'left_hip_roll', 'left_hip_pitch', 'left_knee', 'left_ankle', 'neck_pitch', 'head_pitch', 'head_yaw', 'head_roll', 'left_antenna', 'right_antenna', 'right_hip_yaw', 'right_hip_roll', 'right_hip_pitch', 'right_knee', 'right_ankle'], 'joint_angles': {'neck_pitch': 0, 'head_pitch': 0, 'head_yaw': 0, 'head_roll': 0, 'left_antenna': 0, 'right_antenna': 0}}\n"
     ]
    },
    {
     "name": "stderr",
     "output_type": "stream",
     "text": [
      "WARNING: Robot has the following self collisions in neutral position:\n",
      "  -head_assembly_5 collides with left_antenna_holder_1\n",
      "  -head_assembly_6 collides with right_antenna_holder_0\n",
      "WARNING: Can't find head frames in the model, camera_look_at won't work\n"
     ]
    },
    {
     "name": "stdout",
     "output_type": "stream",
     "text": [
      "Placing the robot in the initial position...\n",
      "Initial position reached\n",
      "{'left_hip_yaw': 0.03856073916697742, 'left_hip_roll': 0.07691234231316556, 'left_hip_pitch': -0.1508004296650294, 'left_knee': 0.737914879554754, 'left_ankle': -0.5002092270122876, 'neck_pitch': -0.00014650529827118036, 'head_pitch': -8.113406909632949e-05, 'head_yaw': 5.24007316640369e-06, 'head_roll': 3.1548197389333287e-06, 'left_antenna': 1.0947757521027012e-07, 'right_antenna': -1.1587403430728602e-07, 'right_hip_yaw': 0.047723089820247096, 'right_hip_roll': -0.029051215821507007, 'right_hip_pitch': 0.2964067682733741, 'right_knee': 1.0861277494285748, 'right_ankle': -0.7030056538707278}\n",
      "## period: 0.54\n",
      "center_y_pos: -0.08\n",
      "recorded 300 frames\n",
      "avg lin_vel_x 0.1265\n",
      "avg lin_vel_y 0.0884\n",
      "avg yaw -0.0158\n",
      "DONE, saving 38.json\n"
     ]
    },
    {
     "name": "stderr",
     "output_type": "stream",
     "text": [
      "<frozen importlib._bootstrap>:219: RuntimeWarning: to-Python converter for std::vector<std::__cxx11::basic_string<char, std::char_traits<char>, std::allocator<char> >, std::allocator<std::__cxx11::basic_string<char, std::char_traits<char>, std::allocator<char> > > > already registered; second conversion method ignored.\n",
      "<frozen importlib._bootstrap>:219: RuntimeWarning: to-Python converter for std::vector<double, std::allocator<double> > already registered; second conversion method ignored.\n",
      "<frozen importlib._bootstrap>:219: RuntimeWarning: to-Python converter for std::vector<int, std::allocator<int> > already registered; second conversion method ignored.\n"
     ]
    },
    {
     "name": "stdout",
     "output_type": "stream",
     "text": [
      "gait_parameters {'dx': -0.04, 'dy': 0.01, 'dtheta': 0.0, 'duration': 8, 'hardware': True, 'double_support_ratio': 0.5, 'startend_double_support_ratio': 1.0, 'planned_timesteps': 48, 'replan_timesteps': 10, 'walk_com_height': 0.19, 'walk_foot_height': 0.03, 'walk_trunk_pitch': -3, 'walk_foot_rise_ratio': 0.02, 'single_support_duration': 0.22, 'single_support_timesteps': 10, 'foot_length': 0.06, 'feet_spacing': 0.16, 'zmp_margin': 0.0, 'foot_zmp_target_x': 0.0, 'foot_zmp_target_y': -0.03, 'walk_max_dtheta': 1.0, 'walk_max_dy': 0.1, 'walk_max_dx_forward': 0.08, 'walk_max_dx_backward': 0.03, 'joints': ['left_hip_yaw', 'left_hip_roll', 'left_hip_pitch', 'left_knee', 'left_ankle', 'neck_pitch', 'head_pitch', 'head_yaw', 'head_roll', 'left_antenna', 'right_antenna', 'right_hip_yaw', 'right_hip_roll', 'right_hip_pitch', 'right_knee', 'right_ankle'], 'joint_angles': {'neck_pitch': 0, 'head_pitch': 0, 'head_yaw': 0, 'head_roll': 0, 'left_antenna': 0, 'right_antenna': 0}}\n"
     ]
    },
    {
     "name": "stderr",
     "output_type": "stream",
     "text": [
      "WARNING: Robot has the following self collisions in neutral position:\n",
      "  -head_assembly_5 collides with left_antenna_holder_1\n",
      "  -head_assembly_6 collides with right_antenna_holder_0\n",
      "WARNING: Can't find head frames in the model, camera_look_at won't work\n"
     ]
    },
    {
     "name": "stdout",
     "output_type": "stream",
     "text": [
      "Placing the robot in the initial position...\n",
      "Initial position reached\n",
      "{'left_hip_yaw': 0.04384448495867586, 'left_hip_roll': 0.08227996528371245, 'left_hip_pitch': -0.4319707158813395, 'left_knee': 0.8340599878238436, 'left_ankle': -0.45531071231336245, 'neck_pitch': -5.040117786021889e-05, 'head_pitch': -4.725233687447016e-05, 'head_yaw': 3.2485822468381597e-06, 'head_roll': 2.1419222210315492e-06, 'left_antenna': 1.8133491084059128e-07, 'right_antenna': -1.8591539899450453e-07, 'right_hip_yaw': 0.038234121045090934, 'right_hip_roll': -0.022202701579960495, 'right_hip_pitch': 0.5520527357704211, 'right_knee': 1.1206501538861333, 'right_ankle': -0.6216497736939007}\n",
      "## period: 0.6599999999999999\n",
      "center_y_pos: -0.08\n",
      "recorded 300 frames\n",
      "avg lin_vel_x -0.0933\n",
      "avg lin_vel_y 0.0058\n",
      "avg yaw 0.0\n",
      "DONE, saving 39.json\n"
     ]
    },
    {
     "name": "stderr",
     "output_type": "stream",
     "text": [
      "<frozen importlib._bootstrap>:219: RuntimeWarning: to-Python converter for std::vector<std::__cxx11::basic_string<char, std::char_traits<char>, std::allocator<char> >, std::allocator<std::__cxx11::basic_string<char, std::char_traits<char>, std::allocator<char> > > > already registered; second conversion method ignored.\n",
      "<frozen importlib._bootstrap>:219: RuntimeWarning: to-Python converter for std::vector<double, std::allocator<double> > already registered; second conversion method ignored.\n",
      "<frozen importlib._bootstrap>:219: RuntimeWarning: to-Python converter for std::vector<int, std::allocator<int> > already registered; second conversion method ignored.\n"
     ]
    },
    {
     "name": "stdout",
     "output_type": "stream",
     "text": [
      "gait_parameters {'dx': -0.02, 'dy': -0.04, 'dtheta': -0.16, 'duration': 8, 'hardware': True, 'double_support_ratio': 0.5, 'startend_double_support_ratio': 1.0, 'planned_timesteps': 48, 'replan_timesteps': 10, 'walk_com_height': 0.19, 'walk_foot_height': 0.03, 'walk_trunk_pitch': -3, 'walk_foot_rise_ratio': 0.02, 'single_support_duration': 0.22, 'single_support_timesteps': 10, 'foot_length': 0.06, 'feet_spacing': 0.16, 'zmp_margin': 0.0, 'foot_zmp_target_x': 0.0, 'foot_zmp_target_y': -0.03, 'walk_max_dtheta': 1.0, 'walk_max_dy': 0.1, 'walk_max_dx_forward': 0.08, 'walk_max_dx_backward': 0.03, 'joints': ['left_hip_yaw', 'left_hip_roll', 'left_hip_pitch', 'left_knee', 'left_ankle', 'neck_pitch', 'head_pitch', 'head_yaw', 'head_roll', 'left_antenna', 'right_antenna', 'right_hip_yaw', 'right_hip_roll', 'right_hip_pitch', 'right_knee', 'right_ankle'], 'joint_angles': {'neck_pitch': 0, 'head_pitch': 0, 'head_yaw': 0, 'head_roll': 0, 'left_antenna': 0, 'right_antenna': 0}}\n"
     ]
    },
    {
     "name": "stderr",
     "output_type": "stream",
     "text": [
      "WARNING: Robot has the following self collisions in neutral position:\n",
      "  -head_assembly_5 collides with left_antenna_holder_1\n",
      "  -head_assembly_6 collides with right_antenna_holder_0\n",
      "WARNING: Can't find head frames in the model, camera_look_at won't work\n"
     ]
    },
    {
     "name": "stdout",
     "output_type": "stream",
     "text": [
      "Placing the robot in the initial position...\n",
      "Initial position reached\n",
      "{'left_hip_yaw': 0.04384448495867586, 'left_hip_roll': 0.08227996528371245, 'left_hip_pitch': -0.4319707158813395, 'left_knee': 0.8340599878238436, 'left_ankle': -0.45531071231336245, 'neck_pitch': -5.040117786021889e-05, 'head_pitch': -4.725233687447016e-05, 'head_yaw': 3.2485822468381597e-06, 'head_roll': 2.1419222210315492e-06, 'left_antenna': 1.8133491084059128e-07, 'right_antenna': -1.8591539899450453e-07, 'right_hip_yaw': 0.038234121045090934, 'right_hip_roll': -0.022202701579960495, 'right_hip_pitch': 0.5520527357704211, 'right_knee': 1.1206501538861333, 'right_ankle': -0.6216497736939007}\n",
      "## period: 0.6599999999999999\n",
      "center_y_pos: -0.08\n",
      "recorded 300 frames\n",
      "avg lin_vel_x 0.1395\n",
      "avg lin_vel_y 0.0582\n",
      "avg yaw -0.0086\n",
      "DONE, saving 40.json\n"
     ]
    },
    {
     "name": "stderr",
     "output_type": "stream",
     "text": [
      "<frozen importlib._bootstrap>:219: RuntimeWarning: to-Python converter for std::vector<std::__cxx11::basic_string<char, std::char_traits<char>, std::allocator<char> >, std::allocator<std::__cxx11::basic_string<char, std::char_traits<char>, std::allocator<char> > > > already registered; second conversion method ignored.\n",
      "<frozen importlib._bootstrap>:219: RuntimeWarning: to-Python converter for std::vector<double, std::allocator<double> > already registered; second conversion method ignored.\n",
      "<frozen importlib._bootstrap>:219: RuntimeWarning: to-Python converter for std::vector<int, std::allocator<int> > already registered; second conversion method ignored.\n"
     ]
    },
    {
     "name": "stdout",
     "output_type": "stream",
     "text": [
      "gait_parameters {'dx': -0.03, 'dy': 0.02, 'dtheta': -0.06, 'duration': 8, 'hardware': True, 'double_support_ratio': 0.5, 'startend_double_support_ratio': 1.0, 'planned_timesteps': 48, 'replan_timesteps': 10, 'walk_com_height': 0.19, 'walk_foot_height': 0.03, 'walk_trunk_pitch': -3, 'walk_foot_rise_ratio': 0.02, 'single_support_duration': 0.22, 'single_support_timesteps': 10, 'foot_length': 0.06, 'feet_spacing': 0.16, 'zmp_margin': 0.0, 'foot_zmp_target_x': 0.0, 'foot_zmp_target_y': -0.03, 'walk_max_dtheta': 1.0, 'walk_max_dy': 0.1, 'walk_max_dx_forward': 0.08, 'walk_max_dx_backward': 0.03, 'joints': ['left_hip_yaw', 'left_hip_roll', 'left_hip_pitch', 'left_knee', 'left_ankle', 'neck_pitch', 'head_pitch', 'head_yaw', 'head_roll', 'left_antenna', 'right_antenna', 'right_hip_yaw', 'right_hip_roll', 'right_hip_pitch', 'right_knee', 'right_ankle'], 'joint_angles': {'neck_pitch': 0, 'head_pitch': 0, 'head_yaw': 0, 'head_roll': 0, 'left_antenna': 0, 'right_antenna': 0}}\n"
     ]
    },
    {
     "name": "stderr",
     "output_type": "stream",
     "text": [
      "WARNING: Robot has the following self collisions in neutral position:\n",
      "  -head_assembly_5 collides with left_antenna_holder_1\n",
      "  -head_assembly_6 collides with right_antenna_holder_0\n",
      "WARNING: Can't find head frames in the model, camera_look_at won't work\n"
     ]
    },
    {
     "name": "stdout",
     "output_type": "stream",
     "text": [
      "Placing the robot in the initial position...\n",
      "Initial position reached\n",
      "{'left_hip_yaw': 0.04384448495867586, 'left_hip_roll': 0.08227996528371245, 'left_hip_pitch': -0.4319707158813395, 'left_knee': 0.8340599878238436, 'left_ankle': -0.45531071231336245, 'neck_pitch': -5.040117786021889e-05, 'head_pitch': -4.725233687447016e-05, 'head_yaw': 3.2485822468381597e-06, 'head_roll': 2.1419222210315492e-06, 'left_antenna': 1.8133491084059128e-07, 'right_antenna': -1.8591539899450453e-07, 'right_hip_yaw': 0.038234121045090934, 'right_hip_roll': -0.022202701579960495, 'right_hip_pitch': 0.5520527357704211, 'right_knee': 1.1206501538861333, 'right_ankle': -0.6216497736939007}\n",
      "## period: 0.6599999999999999\n",
      "center_y_pos: -0.08\n",
      "recorded 300 frames\n",
      "avg lin_vel_x 0.0225\n",
      "avg lin_vel_y 0.1049\n",
      "avg yaw -0.0009\n",
      "DONE, saving 41.json\n"
     ]
    },
    {
     "name": "stderr",
     "output_type": "stream",
     "text": [
      "<frozen importlib._bootstrap>:219: RuntimeWarning: to-Python converter for std::vector<std::__cxx11::basic_string<char, std::char_traits<char>, std::allocator<char> >, std::allocator<std::__cxx11::basic_string<char, std::char_traits<char>, std::allocator<char> > > > already registered; second conversion method ignored.\n",
      "<frozen importlib._bootstrap>:219: RuntimeWarning: to-Python converter for std::vector<double, std::allocator<double> > already registered; second conversion method ignored.\n",
      "<frozen importlib._bootstrap>:219: RuntimeWarning: to-Python converter for std::vector<int, std::allocator<int> > already registered; second conversion method ignored.\n"
     ]
    },
    {
     "name": "stdout",
     "output_type": "stream",
     "text": [
      "gait_parameters {'dx': 0.03, 'dy': -0.02, 'dtheta': -0.09, 'duration': 8, 'hardware': True, 'double_support_ratio': 0.5, 'startend_double_support_ratio': 1.0, 'planned_timesteps': 48, 'replan_timesteps': 10, 'walk_com_height': 0.19, 'walk_foot_height': 0.03, 'walk_trunk_pitch': 5, 'walk_foot_rise_ratio': 0.02, 'single_support_duration': 0.18, 'single_support_timesteps': 10, 'foot_length': 0.06, 'feet_spacing': 0.16, 'zmp_margin': 0.0, 'foot_zmp_target_x': 0.0, 'foot_zmp_target_y': -0.03, 'walk_max_dtheta': 1.0, 'walk_max_dy': 0.1, 'walk_max_dx_forward': 0.08, 'walk_max_dx_backward': 0.03, 'joints': ['left_hip_yaw', 'left_hip_roll', 'left_hip_pitch', 'left_knee', 'left_ankle', 'neck_pitch', 'head_pitch', 'head_yaw', 'head_roll', 'left_antenna', 'right_antenna', 'right_hip_yaw', 'right_hip_roll', 'right_hip_pitch', 'right_knee', 'right_ankle'], 'joint_angles': {'neck_pitch': 0, 'head_pitch': 0, 'head_yaw': 0, 'head_roll': 0, 'left_antenna': 0, 'right_antenna': 0}}\n"
     ]
    },
    {
     "name": "stderr",
     "output_type": "stream",
     "text": [
      "WARNING: Robot has the following self collisions in neutral position:\n",
      "  -head_assembly_5 collides with left_antenna_holder_1\n",
      "  -head_assembly_6 collides with right_antenna_holder_0\n",
      "WARNING: Can't find head frames in the model, camera_look_at won't work\n"
     ]
    },
    {
     "name": "stdout",
     "output_type": "stream",
     "text": [
      "Placing the robot in the initial position...\n",
      "Initial position reached\n",
      "{'left_hip_yaw': 0.03856073916697742, 'left_hip_roll': 0.07691234231316556, 'left_hip_pitch': -0.1508004296650294, 'left_knee': 0.737914879554754, 'left_ankle': -0.5002092270122876, 'neck_pitch': -0.00014650529827118036, 'head_pitch': -8.113406909632949e-05, 'head_yaw': 5.24007316640369e-06, 'head_roll': 3.1548197389333287e-06, 'left_antenna': 1.0947757521027012e-07, 'right_antenna': -1.1587403430728602e-07, 'right_hip_yaw': 0.047723089820247096, 'right_hip_roll': -0.029051215821507007, 'right_hip_pitch': 0.2964067682733741, 'right_knee': 1.0861277494285748, 'right_ankle': -0.7030056538707278}\n",
      "## period: 0.54\n",
      "center_y_pos: -0.08\n",
      "recorded 300 frames\n",
      "avg lin_vel_x -0.1391\n",
      "avg lin_vel_y -0.0024\n",
      "avg yaw -0.0035\n",
      "DONE, saving 42.json\n"
     ]
    },
    {
     "name": "stderr",
     "output_type": "stream",
     "text": [
      "<frozen importlib._bootstrap>:219: RuntimeWarning: to-Python converter for std::vector<std::__cxx11::basic_string<char, std::char_traits<char>, std::allocator<char> >, std::allocator<std::__cxx11::basic_string<char, std::char_traits<char>, std::allocator<char> > > > already registered; second conversion method ignored.\n",
      "<frozen importlib._bootstrap>:219: RuntimeWarning: to-Python converter for std::vector<double, std::allocator<double> > already registered; second conversion method ignored.\n",
      "<frozen importlib._bootstrap>:219: RuntimeWarning: to-Python converter for std::vector<int, std::allocator<int> > already registered; second conversion method ignored.\n"
     ]
    },
    {
     "name": "stdout",
     "output_type": "stream",
     "text": [
      "gait_parameters {'dx': -0.02, 'dy': -0.05, 'dtheta': -0.2, 'duration': 8, 'hardware': True, 'double_support_ratio': 0.5, 'startend_double_support_ratio': 1.0, 'planned_timesteps': 48, 'replan_timesteps': 10, 'walk_com_height': 0.19, 'walk_foot_height': 0.03, 'walk_trunk_pitch': -3, 'walk_foot_rise_ratio': 0.02, 'single_support_duration': 0.22, 'single_support_timesteps': 10, 'foot_length': 0.06, 'feet_spacing': 0.16, 'zmp_margin': 0.0, 'foot_zmp_target_x': 0.0, 'foot_zmp_target_y': -0.03, 'walk_max_dtheta': 1.0, 'walk_max_dy': 0.1, 'walk_max_dx_forward': 0.08, 'walk_max_dx_backward': 0.03, 'joints': ['left_hip_yaw', 'left_hip_roll', 'left_hip_pitch', 'left_knee', 'left_ankle', 'neck_pitch', 'head_pitch', 'head_yaw', 'head_roll', 'left_antenna', 'right_antenna', 'right_hip_yaw', 'right_hip_roll', 'right_hip_pitch', 'right_knee', 'right_ankle'], 'joint_angles': {'neck_pitch': 0, 'head_pitch': 0, 'head_yaw': 0, 'head_roll': 0, 'left_antenna': 0, 'right_antenna': 0}}\n"
     ]
    },
    {
     "name": "stderr",
     "output_type": "stream",
     "text": [
      "WARNING: Robot has the following self collisions in neutral position:\n",
      "  -head_assembly_5 collides with left_antenna_holder_1\n",
      "  -head_assembly_6 collides with right_antenna_holder_0\n",
      "WARNING: Can't find head frames in the model, camera_look_at won't work\n"
     ]
    },
    {
     "name": "stdout",
     "output_type": "stream",
     "text": [
      "Placing the robot in the initial position...\n",
      "Initial position reached\n",
      "{'left_hip_yaw': 0.04384448495867586, 'left_hip_roll': 0.08227996528371245, 'left_hip_pitch': -0.4319707158813395, 'left_knee': 0.8340599878238436, 'left_ankle': -0.45531071231336245, 'neck_pitch': -5.040117786021889e-05, 'head_pitch': -4.725233687447016e-05, 'head_yaw': 3.2485822468381597e-06, 'head_roll': 2.1419222210315492e-06, 'left_antenna': 1.8133491084059128e-07, 'right_antenna': -1.8591539899450453e-07, 'right_hip_yaw': 0.038234121045090934, 'right_hip_roll': -0.022202701579960495, 'right_hip_pitch': 0.5520527357704211, 'right_knee': 1.1206501538861333, 'right_ankle': -0.6216497736939007}\n",
      "## period: 0.6599999999999999\n",
      "center_y_pos: -0.08\n",
      "recorded 300 frames\n",
      "avg lin_vel_x 0.164\n",
      "avg lin_vel_y -0.0121\n",
      "avg yaw -0.0113\n",
      "DONE, saving 43.json\n"
     ]
    },
    {
     "name": "stderr",
     "output_type": "stream",
     "text": [
      "<frozen importlib._bootstrap>:219: RuntimeWarning: to-Python converter for std::vector<std::__cxx11::basic_string<char, std::char_traits<char>, std::allocator<char> >, std::allocator<std::__cxx11::basic_string<char, std::char_traits<char>, std::allocator<char> > > > already registered; second conversion method ignored.\n",
      "<frozen importlib._bootstrap>:219: RuntimeWarning: to-Python converter for std::vector<double, std::allocator<double> > already registered; second conversion method ignored.\n",
      "<frozen importlib._bootstrap>:219: RuntimeWarning: to-Python converter for std::vector<int, std::allocator<int> > already registered; second conversion method ignored.\n"
     ]
    },
    {
     "name": "stdout",
     "output_type": "stream",
     "text": [
      "gait_parameters {'dx': -0.02, 'dy': 0.04, 'dtheta': -0.17, 'duration': 8, 'hardware': True, 'double_support_ratio': 0.5, 'startend_double_support_ratio': 1.0, 'planned_timesteps': 48, 'replan_timesteps': 10, 'walk_com_height': 0.19, 'walk_foot_height': 0.03, 'walk_trunk_pitch': -3, 'walk_foot_rise_ratio': 0.02, 'single_support_duration': 0.22, 'single_support_timesteps': 10, 'foot_length': 0.06, 'feet_spacing': 0.16, 'zmp_margin': 0.0, 'foot_zmp_target_x': 0.0, 'foot_zmp_target_y': -0.03, 'walk_max_dtheta': 1.0, 'walk_max_dy': 0.1, 'walk_max_dx_forward': 0.08, 'walk_max_dx_backward': 0.03, 'joints': ['left_hip_yaw', 'left_hip_roll', 'left_hip_pitch', 'left_knee', 'left_ankle', 'neck_pitch', 'head_pitch', 'head_yaw', 'head_roll', 'left_antenna', 'right_antenna', 'right_hip_yaw', 'right_hip_roll', 'right_hip_pitch', 'right_knee', 'right_ankle'], 'joint_angles': {'neck_pitch': 0, 'head_pitch': 0, 'head_yaw': 0, 'head_roll': 0, 'left_antenna': 0, 'right_antenna': 0}}\n"
     ]
    },
    {
     "name": "stderr",
     "output_type": "stream",
     "text": [
      "WARNING: Robot has the following self collisions in neutral position:\n",
      "  -head_assembly_5 collides with left_antenna_holder_1\n",
      "  -head_assembly_6 collides with right_antenna_holder_0\n",
      "WARNING: Can't find head frames in the model, camera_look_at won't work\n"
     ]
    },
    {
     "name": "stdout",
     "output_type": "stream",
     "text": [
      "Placing the robot in the initial position...\n",
      "Initial position reached\n",
      "{'left_hip_yaw': 0.04384448495867586, 'left_hip_roll': 0.08227996528371245, 'left_hip_pitch': -0.4319707158813395, 'left_knee': 0.8340599878238436, 'left_ankle': -0.45531071231336245, 'neck_pitch': -5.040117786021889e-05, 'head_pitch': -4.725233687447016e-05, 'head_yaw': 3.2485822468381597e-06, 'head_roll': 2.1419222210315492e-06, 'left_antenna': 1.8133491084059128e-07, 'right_antenna': -1.8591539899450453e-07, 'right_hip_yaw': 0.038234121045090934, 'right_hip_roll': -0.022202701579960495, 'right_hip_pitch': 0.5520527357704211, 'right_knee': 1.1206501538861333, 'right_ankle': -0.6216497736939007}\n",
      "## period: 0.6599999999999999\n",
      "center_y_pos: -0.08\n",
      "recorded 300 frames\n",
      "avg lin_vel_x -0.0395\n",
      "avg lin_vel_y -0.1163\n",
      "avg yaw -0.0098\n",
      "DONE, saving 44.json\n"
     ]
    },
    {
     "name": "stderr",
     "output_type": "stream",
     "text": [
      "<frozen importlib._bootstrap>:219: RuntimeWarning: to-Python converter for std::vector<std::__cxx11::basic_string<char, std::char_traits<char>, std::allocator<char> >, std::allocator<std::__cxx11::basic_string<char, std::char_traits<char>, std::allocator<char> > > > already registered; second conversion method ignored.\n",
      "<frozen importlib._bootstrap>:219: RuntimeWarning: to-Python converter for std::vector<double, std::allocator<double> > already registered; second conversion method ignored.\n",
      "<frozen importlib._bootstrap>:219: RuntimeWarning: to-Python converter for std::vector<int, std::allocator<int> > already registered; second conversion method ignored.\n"
     ]
    },
    {
     "name": "stdout",
     "output_type": "stream",
     "text": [
      "gait_parameters {'dx': -0.02, 'dy': -0.04, 'dtheta': -0.17, 'duration': 8, 'hardware': True, 'double_support_ratio': 0.5, 'startend_double_support_ratio': 1.0, 'planned_timesteps': 48, 'replan_timesteps': 10, 'walk_com_height': 0.19, 'walk_foot_height': 0.03, 'walk_trunk_pitch': 5, 'walk_foot_rise_ratio': 0.02, 'single_support_duration': 0.18, 'single_support_timesteps': 10, 'foot_length': 0.06, 'feet_spacing': 0.16, 'zmp_margin': 0.0, 'foot_zmp_target_x': 0.0, 'foot_zmp_target_y': -0.03, 'walk_max_dtheta': 1.0, 'walk_max_dy': 0.1, 'walk_max_dx_forward': 0.08, 'walk_max_dx_backward': 0.03, 'joints': ['left_hip_yaw', 'left_hip_roll', 'left_hip_pitch', 'left_knee', 'left_ankle', 'neck_pitch', 'head_pitch', 'head_yaw', 'head_roll', 'left_antenna', 'right_antenna', 'right_hip_yaw', 'right_hip_roll', 'right_hip_pitch', 'right_knee', 'right_ankle'], 'joint_angles': {'neck_pitch': 0, 'head_pitch': 0, 'head_yaw': 0, 'head_roll': 0, 'left_antenna': 0, 'right_antenna': 0}}\n"
     ]
    },
    {
     "name": "stderr",
     "output_type": "stream",
     "text": [
      "WARNING: Robot has the following self collisions in neutral position:\n",
      "  -head_assembly_5 collides with left_antenna_holder_1\n",
      "  -head_assembly_6 collides with right_antenna_holder_0\n",
      "WARNING: Can't find head frames in the model, camera_look_at won't work\n"
     ]
    },
    {
     "name": "stdout",
     "output_type": "stream",
     "text": [
      "Placing the robot in the initial position...\n",
      "Initial position reached\n",
      "{'left_hip_yaw': 0.03856073916697818, 'left_hip_roll': 0.07691234231315709, 'left_hip_pitch': -0.1508004296649631, 'left_knee': 0.7379148795546253, 'left_ankle': -0.500209227012225, 'neck_pitch': -0.00014650529827119025, 'head_pitch': -8.113406909633472e-05, 'head_yaw': 5.240073166405441e-06, 'head_roll': 3.154819738933434e-06, 'left_antenna': 1.0947757521027228e-07, 'right_antenna': -1.158740343072918e-07, 'right_hip_yaw': 0.04772308982024767, 'right_hip_roll': -0.02905121582151385, 'right_hip_pitch': 0.29640676827336243, 'right_knee': 1.0861277494285568, 'right_ankle': -0.7030056538707216}\n",
      "## period: 0.54\n",
      "center_y_pos: -0.08\n",
      "recorded 300 frames\n",
      "avg lin_vel_x 0.1159\n",
      "avg lin_vel_y -0.1133\n",
      "avg yaw -0.014\n",
      "DONE, saving 45.json\n"
     ]
    },
    {
     "name": "stderr",
     "output_type": "stream",
     "text": [
      "<frozen importlib._bootstrap>:219: RuntimeWarning: to-Python converter for std::vector<std::__cxx11::basic_string<char, std::char_traits<char>, std::allocator<char> >, std::allocator<std::__cxx11::basic_string<char, std::char_traits<char>, std::allocator<char> > > > already registered; second conversion method ignored.\n",
      "<frozen importlib._bootstrap>:219: RuntimeWarning: to-Python converter for std::vector<double, std::allocator<double> > already registered; second conversion method ignored.\n",
      "<frozen importlib._bootstrap>:219: RuntimeWarning: to-Python converter for std::vector<int, std::allocator<int> > already registered; second conversion method ignored.\n"
     ]
    },
    {
     "name": "stdout",
     "output_type": "stream",
     "text": [
      "gait_parameters {'dx': 0.05, 'dy': 0.03, 'dtheta': -0.21, 'duration': 8, 'hardware': True, 'double_support_ratio': 0.5, 'startend_double_support_ratio': 1.0, 'planned_timesteps': 48, 'replan_timesteps': 10, 'walk_com_height': 0.19, 'walk_foot_height': 0.03, 'walk_trunk_pitch': -3, 'walk_foot_rise_ratio': 0.02, 'single_support_duration': 0.22, 'single_support_timesteps': 10, 'foot_length': 0.06, 'feet_spacing': 0.16, 'zmp_margin': 0.0, 'foot_zmp_target_x': 0.0, 'foot_zmp_target_y': -0.03, 'walk_max_dtheta': 1.0, 'walk_max_dy': 0.1, 'walk_max_dx_forward': 0.08, 'walk_max_dx_backward': 0.03, 'joints': ['left_hip_yaw', 'left_hip_roll', 'left_hip_pitch', 'left_knee', 'left_ankle', 'neck_pitch', 'head_pitch', 'head_yaw', 'head_roll', 'left_antenna', 'right_antenna', 'right_hip_yaw', 'right_hip_roll', 'right_hip_pitch', 'right_knee', 'right_ankle'], 'joint_angles': {'neck_pitch': 0, 'head_pitch': 0, 'head_yaw': 0, 'head_roll': 0, 'left_antenna': 0, 'right_antenna': 0}}\n"
     ]
    },
    {
     "name": "stderr",
     "output_type": "stream",
     "text": [
      "WARNING: Robot has the following self collisions in neutral position:\n",
      "  -head_assembly_5 collides with left_antenna_holder_1\n",
      "  -head_assembly_6 collides with right_antenna_holder_0\n",
      "WARNING: Can't find head frames in the model, camera_look_at won't work\n"
     ]
    },
    {
     "name": "stdout",
     "output_type": "stream",
     "text": [
      "Placing the robot in the initial position...\n",
      "Initial position reached\n",
      "{'left_hip_yaw': 0.04384448495867586, 'left_hip_roll': 0.08227996528371245, 'left_hip_pitch': -0.4319707158813395, 'left_knee': 0.8340599878238436, 'left_ankle': -0.45531071231336245, 'neck_pitch': -5.040117786021889e-05, 'head_pitch': -4.725233687447016e-05, 'head_yaw': 3.2485822468381597e-06, 'head_roll': 2.1419222210315492e-06, 'left_antenna': 1.8133491084059128e-07, 'right_antenna': -1.8591539899450453e-07, 'right_hip_yaw': 0.038234121045090934, 'right_hip_roll': -0.022202701579960495, 'right_hip_pitch': 0.5520527357704211, 'right_knee': 1.1206501538861333, 'right_ankle': -0.6216497736939007}\n",
      "## period: 0.6599999999999999\n",
      "center_y_pos: -0.08\n",
      "recorded 300 frames\n",
      "avg lin_vel_x -0.0113\n",
      "avg lin_vel_y 0.1417\n",
      "avg yaw -0.0152\n",
      "DONE, saving 46.json\n"
     ]
    },
    {
     "name": "stderr",
     "output_type": "stream",
     "text": [
      "<frozen importlib._bootstrap>:219: RuntimeWarning: to-Python converter for std::vector<std::__cxx11::basic_string<char, std::char_traits<char>, std::allocator<char> >, std::allocator<std::__cxx11::basic_string<char, std::char_traits<char>, std::allocator<char> > > > already registered; second conversion method ignored.\n",
      "<frozen importlib._bootstrap>:219: RuntimeWarning: to-Python converter for std::vector<double, std::allocator<double> > already registered; second conversion method ignored.\n",
      "<frozen importlib._bootstrap>:219: RuntimeWarning: to-Python converter for std::vector<int, std::allocator<int> > already registered; second conversion method ignored.\n"
     ]
    },
    {
     "name": "stdout",
     "output_type": "stream",
     "text": [
      "gait_parameters {'dx': 0.02, 'dy': 0.05, 'dtheta': -0.23, 'duration': 8, 'hardware': True, 'double_support_ratio': 0.5, 'startend_double_support_ratio': 1.0, 'planned_timesteps': 48, 'replan_timesteps': 10, 'walk_com_height': 0.19, 'walk_foot_height': 0.03, 'walk_trunk_pitch': -3, 'walk_foot_rise_ratio': 0.02, 'single_support_duration': 0.22, 'single_support_timesteps': 10, 'foot_length': 0.06, 'feet_spacing': 0.16, 'zmp_margin': 0.0, 'foot_zmp_target_x': 0.0, 'foot_zmp_target_y': -0.03, 'walk_max_dtheta': 1.0, 'walk_max_dy': 0.1, 'walk_max_dx_forward': 0.08, 'walk_max_dx_backward': 0.03, 'joints': ['left_hip_yaw', 'left_hip_roll', 'left_hip_pitch', 'left_knee', 'left_ankle', 'neck_pitch', 'head_pitch', 'head_yaw', 'head_roll', 'left_antenna', 'right_antenna', 'right_hip_yaw', 'right_hip_roll', 'right_hip_pitch', 'right_knee', 'right_ankle'], 'joint_angles': {'neck_pitch': 0, 'head_pitch': 0, 'head_yaw': 0, 'head_roll': 0, 'left_antenna': 0, 'right_antenna': 0}}\n"
     ]
    },
    {
     "name": "stderr",
     "output_type": "stream",
     "text": [
      "WARNING: Robot has the following self collisions in neutral position:\n",
      "  -head_assembly_5 collides with left_antenna_holder_1\n",
      "  -head_assembly_6 collides with right_antenna_holder_0\n",
      "WARNING: Can't find head frames in the model, camera_look_at won't work\n"
     ]
    },
    {
     "name": "stdout",
     "output_type": "stream",
     "text": [
      "Placing the robot in the initial position...\n",
      "Initial position reached\n",
      "{'left_hip_yaw': 0.04384448495867586, 'left_hip_roll': 0.08227996528371245, 'left_hip_pitch': -0.4319707158813395, 'left_knee': 0.8340599878238436, 'left_ankle': -0.45531071231336245, 'neck_pitch': -5.040117786021889e-05, 'head_pitch': -4.725233687447016e-05, 'head_yaw': 3.2485822468381597e-06, 'head_roll': 2.1419222210315492e-06, 'left_antenna': 1.8133491084059128e-07, 'right_antenna': -1.8591539899450453e-07, 'right_hip_yaw': 0.038234121045090934, 'right_hip_roll': -0.022202701579960495, 'right_hip_pitch': 0.5520527357704211, 'right_knee': 1.1206501538861333, 'right_ankle': -0.6216497736939007}\n",
      "## period: 0.6599999999999999\n",
      "center_y_pos: -0.08\n",
      "recorded 300 frames\n",
      "avg lin_vel_x -0.0945\n",
      "avg lin_vel_y 0.0672\n",
      "avg yaw -0.0151\n",
      "DONE, saving 47.json\n"
     ]
    },
    {
     "name": "stderr",
     "output_type": "stream",
     "text": [
      "<frozen importlib._bootstrap>:219: RuntimeWarning: to-Python converter for std::vector<std::__cxx11::basic_string<char, std::char_traits<char>, std::allocator<char> >, std::allocator<std::__cxx11::basic_string<char, std::char_traits<char>, std::allocator<char> > > > already registered; second conversion method ignored.\n",
      "<frozen importlib._bootstrap>:219: RuntimeWarning: to-Python converter for std::vector<double, std::allocator<double> > already registered; second conversion method ignored.\n",
      "<frozen importlib._bootstrap>:219: RuntimeWarning: to-Python converter for std::vector<int, std::allocator<int> > already registered; second conversion method ignored.\n"
     ]
    },
    {
     "name": "stdout",
     "output_type": "stream",
     "text": [
      "gait_parameters {'dx': 0.02, 'dy': -0.0, 'dtheta': -0.12, 'duration': 8, 'hardware': True, 'double_support_ratio': 0.5, 'startend_double_support_ratio': 1.0, 'planned_timesteps': 48, 'replan_timesteps': 10, 'walk_com_height': 0.19, 'walk_foot_height': 0.03, 'walk_trunk_pitch': -3, 'walk_foot_rise_ratio': 0.02, 'single_support_duration': 0.22, 'single_support_timesteps': 10, 'foot_length': 0.06, 'feet_spacing': 0.16, 'zmp_margin': 0.0, 'foot_zmp_target_x': 0.0, 'foot_zmp_target_y': -0.03, 'walk_max_dtheta': 1.0, 'walk_max_dy': 0.1, 'walk_max_dx_forward': 0.08, 'walk_max_dx_backward': 0.03, 'joints': ['left_hip_yaw', 'left_hip_roll', 'left_hip_pitch', 'left_knee', 'left_ankle', 'neck_pitch', 'head_pitch', 'head_yaw', 'head_roll', 'left_antenna', 'right_antenna', 'right_hip_yaw', 'right_hip_roll', 'right_hip_pitch', 'right_knee', 'right_ankle'], 'joint_angles': {'neck_pitch': 0, 'head_pitch': 0, 'head_yaw': 0, 'head_roll': 0, 'left_antenna': 0, 'right_antenna': 0}}\n"
     ]
    },
    {
     "name": "stderr",
     "output_type": "stream",
     "text": [
      "WARNING: Robot has the following self collisions in neutral position:\n",
      "  -head_assembly_5 collides with left_antenna_holder_1\n",
      "  -head_assembly_6 collides with right_antenna_holder_0\n",
      "WARNING: Can't find head frames in the model, camera_look_at won't work\n"
     ]
    },
    {
     "name": "stdout",
     "output_type": "stream",
     "text": [
      "Placing the robot in the initial position...\n",
      "Initial position reached\n",
      "{'left_hip_yaw': 0.04384448495867586, 'left_hip_roll': 0.08227996528371245, 'left_hip_pitch': -0.4319707158813395, 'left_knee': 0.8340599878238436, 'left_ankle': -0.45531071231336245, 'neck_pitch': -5.040117786021889e-05, 'head_pitch': -4.725233687447016e-05, 'head_yaw': 3.2485822468381597e-06, 'head_roll': 2.1419222210315492e-06, 'left_antenna': 1.8133491084059128e-07, 'right_antenna': -1.8591539899450453e-07, 'right_hip_yaw': 0.038234121045090934, 'right_hip_roll': -0.022202701579960495, 'right_hip_pitch': 0.5520527357704211, 'right_knee': 1.1206501538861333, 'right_ankle': -0.6216497736939007}\n",
      "## period: 0.6599999999999999\n",
      "center_y_pos: -0.08\n",
      "recorded 300 frames\n",
      "avg lin_vel_x -0.0526\n",
      "avg lin_vel_y -0.005\n",
      "avg yaw -0.0046\n",
      "DONE, saving 48.json\n"
     ]
    },
    {
     "name": "stderr",
     "output_type": "stream",
     "text": [
      "<frozen importlib._bootstrap>:219: RuntimeWarning: to-Python converter for std::vector<std::__cxx11::basic_string<char, std::char_traits<char>, std::allocator<char> >, std::allocator<std::__cxx11::basic_string<char, std::char_traits<char>, std::allocator<char> > > > already registered; second conversion method ignored.\n",
      "<frozen importlib._bootstrap>:219: RuntimeWarning: to-Python converter for std::vector<double, std::allocator<double> > already registered; second conversion method ignored.\n",
      "<frozen importlib._bootstrap>:219: RuntimeWarning: to-Python converter for std::vector<int, std::allocator<int> > already registered; second conversion method ignored.\n"
     ]
    },
    {
     "name": "stdout",
     "output_type": "stream",
     "text": [
      "gait_parameters {'dx': 0.02, 'dy': 0.0, 'dtheta': -0.1, 'duration': 8, 'hardware': True, 'double_support_ratio': 0.5, 'startend_double_support_ratio': 1.0, 'planned_timesteps': 48, 'replan_timesteps': 10, 'walk_com_height': 0.19, 'walk_foot_height': 0.03, 'walk_trunk_pitch': 5, 'walk_foot_rise_ratio': 0.02, 'single_support_duration': 0.18, 'single_support_timesteps': 10, 'foot_length': 0.06, 'feet_spacing': 0.16, 'zmp_margin': 0.0, 'foot_zmp_target_x': 0.0, 'foot_zmp_target_y': -0.03, 'walk_max_dtheta': 1.0, 'walk_max_dy': 0.1, 'walk_max_dx_forward': 0.08, 'walk_max_dx_backward': 0.03, 'joints': ['left_hip_yaw', 'left_hip_roll', 'left_hip_pitch', 'left_knee', 'left_ankle', 'neck_pitch', 'head_pitch', 'head_yaw', 'head_roll', 'left_antenna', 'right_antenna', 'right_hip_yaw', 'right_hip_roll', 'right_hip_pitch', 'right_knee', 'right_ankle'], 'joint_angles': {'neck_pitch': 0, 'head_pitch': 0, 'head_yaw': 0, 'head_roll': 0, 'left_antenna': 0, 'right_antenna': 0}}\n"
     ]
    },
    {
     "name": "stderr",
     "output_type": "stream",
     "text": [
      "WARNING: Robot has the following self collisions in neutral position:\n",
      "  -head_assembly_5 collides with left_antenna_holder_1\n",
      "  -head_assembly_6 collides with right_antenna_holder_0\n",
      "WARNING: Can't find head frames in the model, camera_look_at won't work\n"
     ]
    },
    {
     "name": "stdout",
     "output_type": "stream",
     "text": [
      "Placing the robot in the initial position...\n",
      "Initial position reached\n",
      "{'left_hip_yaw': 0.03856073916697742, 'left_hip_roll': 0.07691234231316556, 'left_hip_pitch': -0.1508004296650294, 'left_knee': 0.737914879554754, 'left_ankle': -0.5002092270122876, 'neck_pitch': -0.00014650529827118036, 'head_pitch': -8.113406909632949e-05, 'head_yaw': 5.24007316640369e-06, 'head_roll': 3.1548197389333287e-06, 'left_antenna': 1.0947757521027012e-07, 'right_antenna': -1.1587403430728602e-07, 'right_hip_yaw': 0.047723089820247096, 'right_hip_roll': -0.029051215821507007, 'right_hip_pitch': 0.2964067682733741, 'right_knee': 1.0861277494285748, 'right_ankle': -0.7030056538707278}\n",
      "## period: 0.54\n",
      "center_y_pos: -0.08\n",
      "recorded 300 frames\n",
      "avg lin_vel_x -0.0763\n",
      "avg lin_vel_y -0.0199\n",
      "avg yaw -0.0044\n",
      "DONE, saving 49.json\n"
     ]
    },
    {
     "name": "stderr",
     "output_type": "stream",
     "text": [
      "<frozen importlib._bootstrap>:219: RuntimeWarning: to-Python converter for std::vector<std::__cxx11::basic_string<char, std::char_traits<char>, std::allocator<char> >, std::allocator<std::__cxx11::basic_string<char, std::char_traits<char>, std::allocator<char> > > > already registered; second conversion method ignored.\n",
      "<frozen importlib._bootstrap>:219: RuntimeWarning: to-Python converter for std::vector<double, std::allocator<double> > already registered; second conversion method ignored.\n",
      "<frozen importlib._bootstrap>:219: RuntimeWarning: to-Python converter for std::vector<int, std::allocator<int> > already registered; second conversion method ignored.\n"
     ]
    },
    {
     "name": "stdout",
     "output_type": "stream",
     "text": [
      "gait_parameters {'dx': -0.01, 'dy': 0.05, 'dtheta': 0.1, 'duration': 8, 'hardware': True, 'double_support_ratio': 0.5, 'startend_double_support_ratio': 1.0, 'planned_timesteps': 48, 'replan_timesteps': 10, 'walk_com_height': 0.19, 'walk_foot_height': 0.03, 'walk_trunk_pitch': 5, 'walk_foot_rise_ratio': 0.02, 'single_support_duration': 0.18, 'single_support_timesteps': 10, 'foot_length': 0.06, 'feet_spacing': 0.16, 'zmp_margin': 0.0, 'foot_zmp_target_x': 0.0, 'foot_zmp_target_y': -0.03, 'walk_max_dtheta': 1.0, 'walk_max_dy': 0.1, 'walk_max_dx_forward': 0.08, 'walk_max_dx_backward': 0.03, 'joints': ['left_hip_yaw', 'left_hip_roll', 'left_hip_pitch', 'left_knee', 'left_ankle', 'neck_pitch', 'head_pitch', 'head_yaw', 'head_roll', 'left_antenna', 'right_antenna', 'right_hip_yaw', 'right_hip_roll', 'right_hip_pitch', 'right_knee', 'right_ankle'], 'joint_angles': {'neck_pitch': 0, 'head_pitch': 0, 'head_yaw': 0, 'head_roll': 0, 'left_antenna': 0, 'right_antenna': 0}}\n"
     ]
    },
    {
     "name": "stderr",
     "output_type": "stream",
     "text": [
      "WARNING: Robot has the following self collisions in neutral position:\n",
      "  -head_assembly_5 collides with left_antenna_holder_1\n",
      "  -head_assembly_6 collides with right_antenna_holder_0\n",
      "WARNING: Can't find head frames in the model, camera_look_at won't work\n"
     ]
    },
    {
     "name": "stdout",
     "output_type": "stream",
     "text": [
      "Placing the robot in the initial position...\n",
      "Initial position reached\n",
      "{'left_hip_yaw': 0.03856073916697818, 'left_hip_roll': 0.07691234231315709, 'left_hip_pitch': -0.1508004296649631, 'left_knee': 0.7379148795546253, 'left_ankle': -0.500209227012225, 'neck_pitch': -0.00014650529827119025, 'head_pitch': -8.113406909633472e-05, 'head_yaw': 5.240073166405441e-06, 'head_roll': 3.154819738933434e-06, 'left_antenna': 1.0947757521027228e-07, 'right_antenna': -1.158740343072918e-07, 'right_hip_yaw': 0.04772308982024767, 'right_hip_roll': -0.02905121582151385, 'right_hip_pitch': 0.29640676827336243, 'right_knee': 1.0861277494285568, 'right_ankle': -0.7030056538707216}\n",
      "## period: 0.54\n",
      "center_y_pos: -0.08\n",
      "recorded 300 frames\n",
      "avg lin_vel_x 0.0334\n",
      "avg lin_vel_y -0.1831\n",
      "avg yaw 0.0053\n",
      "DONE, saving 50.json\n"
     ]
    },
    {
     "name": "stderr",
     "output_type": "stream",
     "text": [
      "<frozen importlib._bootstrap>:219: RuntimeWarning: to-Python converter for std::vector<std::__cxx11::basic_string<char, std::char_traits<char>, std::allocator<char> >, std::allocator<std::__cxx11::basic_string<char, std::char_traits<char>, std::allocator<char> > > > already registered; second conversion method ignored.\n",
      "<frozen importlib._bootstrap>:219: RuntimeWarning: to-Python converter for std::vector<double, std::allocator<double> > already registered; second conversion method ignored.\n",
      "<frozen importlib._bootstrap>:219: RuntimeWarning: to-Python converter for std::vector<int, std::allocator<int> > already registered; second conversion method ignored.\n"
     ]
    },
    {
     "name": "stdout",
     "output_type": "stream",
     "text": [
      "gait_parameters {'dx': -0.04, 'dy': -0.02, 'dtheta': -0.1, 'duration': 8, 'hardware': True, 'double_support_ratio': 0.5, 'startend_double_support_ratio': 1.0, 'planned_timesteps': 48, 'replan_timesteps': 10, 'walk_com_height': 0.19, 'walk_foot_height': 0.03, 'walk_trunk_pitch': 5, 'walk_foot_rise_ratio': 0.02, 'single_support_duration': 0.18, 'single_support_timesteps': 10, 'foot_length': 0.06, 'feet_spacing': 0.16, 'zmp_margin': 0.0, 'foot_zmp_target_x': 0.0, 'foot_zmp_target_y': -0.03, 'walk_max_dtheta': 1.0, 'walk_max_dy': 0.1, 'walk_max_dx_forward': 0.08, 'walk_max_dx_backward': 0.03, 'joints': ['left_hip_yaw', 'left_hip_roll', 'left_hip_pitch', 'left_knee', 'left_ankle', 'neck_pitch', 'head_pitch', 'head_yaw', 'head_roll', 'left_antenna', 'right_antenna', 'right_hip_yaw', 'right_hip_roll', 'right_hip_pitch', 'right_knee', 'right_ankle'], 'joint_angles': {'neck_pitch': 0, 'head_pitch': 0, 'head_yaw': 0, 'head_roll': 0, 'left_antenna': 0, 'right_antenna': 0}}\n"
     ]
    },
    {
     "name": "stderr",
     "output_type": "stream",
     "text": [
      "WARNING: Robot has the following self collisions in neutral position:\n",
      "  -head_assembly_5 collides with left_antenna_holder_1\n",
      "  -head_assembly_6 collides with right_antenna_holder_0\n",
      "WARNING: Can't find head frames in the model, camera_look_at won't work\n"
     ]
    },
    {
     "name": "stdout",
     "output_type": "stream",
     "text": [
      "Placing the robot in the initial position...\n",
      "Initial position reached\n",
      "{'left_hip_yaw': 0.03856073916697742, 'left_hip_roll': 0.07691234231316556, 'left_hip_pitch': -0.1508004296650294, 'left_knee': 0.737914879554754, 'left_ankle': -0.5002092270122876, 'neck_pitch': -0.00014650529827118036, 'head_pitch': -8.113406909632949e-05, 'head_yaw': 5.24007316640369e-06, 'head_roll': 3.1548197389333287e-06, 'left_antenna': 1.0947757521027012e-07, 'right_antenna': -1.1587403430728602e-07, 'right_hip_yaw': 0.047723089820247096, 'right_hip_roll': -0.029051215821507007, 'right_hip_pitch': 0.2964067682733741, 'right_knee': 1.0861277494285748, 'right_ankle': -0.7030056538707278}\n",
      "## period: 0.54\n",
      "center_y_pos: -0.08\n",
      "recorded 300 frames\n",
      "avg lin_vel_x 0.0089\n",
      "avg lin_vel_y 0.1219\n",
      "avg yaw -0.0024\n",
      "DONE, saving 51.json\n"
     ]
    },
    {
     "name": "stderr",
     "output_type": "stream",
     "text": [
      "<frozen importlib._bootstrap>:219: RuntimeWarning: to-Python converter for std::vector<std::__cxx11::basic_string<char, std::char_traits<char>, std::allocator<char> >, std::allocator<std::__cxx11::basic_string<char, std::char_traits<char>, std::allocator<char> > > > already registered; second conversion method ignored.\n",
      "<frozen importlib._bootstrap>:219: RuntimeWarning: to-Python converter for std::vector<double, std::allocator<double> > already registered; second conversion method ignored.\n",
      "<frozen importlib._bootstrap>:219: RuntimeWarning: to-Python converter for std::vector<int, std::allocator<int> > already registered; second conversion method ignored.\n"
     ]
    },
    {
     "name": "stdout",
     "output_type": "stream",
     "text": [
      "gait_parameters {'dx': 0.01, 'dy': -0.03, 'dtheta': -0.07, 'duration': 8, 'hardware': True, 'double_support_ratio': 0.5, 'startend_double_support_ratio': 1.0, 'planned_timesteps': 48, 'replan_timesteps': 10, 'walk_com_height': 0.19, 'walk_foot_height': 0.03, 'walk_trunk_pitch': 5, 'walk_foot_rise_ratio': 0.02, 'single_support_duration': 0.18, 'single_support_timesteps': 10, 'foot_length': 0.06, 'feet_spacing': 0.16, 'zmp_margin': 0.0, 'foot_zmp_target_x': 0.0, 'foot_zmp_target_y': -0.03, 'walk_max_dtheta': 1.0, 'walk_max_dy': 0.1, 'walk_max_dx_forward': 0.08, 'walk_max_dx_backward': 0.03, 'joints': ['left_hip_yaw', 'left_hip_roll', 'left_hip_pitch', 'left_knee', 'left_ankle', 'neck_pitch', 'head_pitch', 'head_yaw', 'head_roll', 'left_antenna', 'right_antenna', 'right_hip_yaw', 'right_hip_roll', 'right_hip_pitch', 'right_knee', 'right_ankle'], 'joint_angles': {'neck_pitch': 0, 'head_pitch': 0, 'head_yaw': 0, 'head_roll': 0, 'left_antenna': 0, 'right_antenna': 0}}\n"
     ]
    },
    {
     "name": "stderr",
     "output_type": "stream",
     "text": [
      "WARNING: Robot has the following self collisions in neutral position:\n",
      "  -head_assembly_5 collides with left_antenna_holder_1\n",
      "  -head_assembly_6 collides with right_antenna_holder_0\n",
      "WARNING: Can't find head frames in the model, camera_look_at won't work\n"
     ]
    },
    {
     "name": "stdout",
     "output_type": "stream",
     "text": [
      "Placing the robot in the initial position...\n",
      "Initial position reached\n",
      "{'left_hip_yaw': 0.03856073916697742, 'left_hip_roll': 0.07691234231316556, 'left_hip_pitch': -0.1508004296650294, 'left_knee': 0.737914879554754, 'left_ankle': -0.5002092270122876, 'neck_pitch': -0.00014650529827118036, 'head_pitch': -8.113406909632949e-05, 'head_yaw': 5.24007316640369e-06, 'head_roll': 3.1548197389333287e-06, 'left_antenna': 1.0947757521027012e-07, 'right_antenna': -1.1587403430728602e-07, 'right_hip_yaw': 0.047723089820247096, 'right_hip_roll': -0.029051215821507007, 'right_hip_pitch': 0.2964067682733741, 'right_knee': 1.0861277494285748, 'right_ankle': -0.7030056538707278}\n",
      "## period: 0.54\n",
      "center_y_pos: -0.08\n",
      "recorded 300 frames\n",
      "avg lin_vel_x -0.1201\n",
      "avg lin_vel_y -0.0006\n",
      "avg yaw -0.002\n",
      "DONE, saving 52.json\n"
     ]
    },
    {
     "name": "stderr",
     "output_type": "stream",
     "text": [
      "<frozen importlib._bootstrap>:219: RuntimeWarning: to-Python converter for std::vector<std::__cxx11::basic_string<char, std::char_traits<char>, std::allocator<char> >, std::allocator<std::__cxx11::basic_string<char, std::char_traits<char>, std::allocator<char> > > > already registered; second conversion method ignored.\n",
      "<frozen importlib._bootstrap>:219: RuntimeWarning: to-Python converter for std::vector<double, std::allocator<double> > already registered; second conversion method ignored.\n",
      "<frozen importlib._bootstrap>:219: RuntimeWarning: to-Python converter for std::vector<int, std::allocator<int> > already registered; second conversion method ignored.\n"
     ]
    },
    {
     "name": "stdout",
     "output_type": "stream",
     "text": [
      "gait_parameters {'dx': -0.03, 'dy': 0.01, 'dtheta': -0.21, 'duration': 8, 'hardware': True, 'double_support_ratio': 0.5, 'startend_double_support_ratio': 1.0, 'planned_timesteps': 48, 'replan_timesteps': 10, 'walk_com_height': 0.19, 'walk_foot_height': 0.03, 'walk_trunk_pitch': -3, 'walk_foot_rise_ratio': 0.02, 'single_support_duration': 0.22, 'single_support_timesteps': 10, 'foot_length': 0.06, 'feet_spacing': 0.16, 'zmp_margin': 0.0, 'foot_zmp_target_x': 0.0, 'foot_zmp_target_y': -0.03, 'walk_max_dtheta': 1.0, 'walk_max_dy': 0.1, 'walk_max_dx_forward': 0.08, 'walk_max_dx_backward': 0.03, 'joints': ['left_hip_yaw', 'left_hip_roll', 'left_hip_pitch', 'left_knee', 'left_ankle', 'neck_pitch', 'head_pitch', 'head_yaw', 'head_roll', 'left_antenna', 'right_antenna', 'right_hip_yaw', 'right_hip_roll', 'right_hip_pitch', 'right_knee', 'right_ankle'], 'joint_angles': {'neck_pitch': 0, 'head_pitch': 0, 'head_yaw': 0, 'head_roll': 0, 'left_antenna': 0, 'right_antenna': 0}}\n"
     ]
    },
    {
     "name": "stderr",
     "output_type": "stream",
     "text": [
      "WARNING: Robot has the following self collisions in neutral position:\n",
      "  -head_assembly_5 collides with left_antenna_holder_1\n",
      "  -head_assembly_6 collides with right_antenna_holder_0\n",
      "WARNING: Can't find head frames in the model, camera_look_at won't work\n"
     ]
    },
    {
     "name": "stdout",
     "output_type": "stream",
     "text": [
      "Placing the robot in the initial position...\n",
      "Initial position reached\n",
      "{'left_hip_yaw': 0.04384448495867586, 'left_hip_roll': 0.08227996528371245, 'left_hip_pitch': -0.4319707158813395, 'left_knee': 0.8340599878238436, 'left_ankle': -0.45531071231336245, 'neck_pitch': -5.040117786021889e-05, 'head_pitch': -4.725233687447016e-05, 'head_yaw': 3.2485822468381597e-06, 'head_roll': 2.1419222210315492e-06, 'left_antenna': 1.8133491084059128e-07, 'right_antenna': -1.8591539899450453e-07, 'right_hip_yaw': 0.038234121045090934, 'right_hip_roll': -0.022202701579960495, 'right_hip_pitch': 0.5520527357704211, 'right_knee': 1.1206501538861333, 'right_ankle': -0.6216497736939007}\n",
      "## period: 0.6599999999999999\n",
      "center_y_pos: -0.08\n",
      "recorded 300 frames\n",
      "avg lin_vel_x -0.0315\n",
      "avg lin_vel_y -0.0936\n",
      "avg yaw -0.0144\n",
      "DONE, saving 53.json\n"
     ]
    },
    {
     "name": "stderr",
     "output_type": "stream",
     "text": [
      "<frozen importlib._bootstrap>:219: RuntimeWarning: to-Python converter for std::vector<std::__cxx11::basic_string<char, std::char_traits<char>, std::allocator<char> >, std::allocator<std::__cxx11::basic_string<char, std::char_traits<char>, std::allocator<char> > > > already registered; second conversion method ignored.\n",
      "<frozen importlib._bootstrap>:219: RuntimeWarning: to-Python converter for std::vector<double, std::allocator<double> > already registered; second conversion method ignored.\n",
      "<frozen importlib._bootstrap>:219: RuntimeWarning: to-Python converter for std::vector<int, std::allocator<int> > already registered; second conversion method ignored.\n"
     ]
    },
    {
     "name": "stdout",
     "output_type": "stream",
     "text": [
      "gait_parameters {'dx': -0.01, 'dy': -0.01, 'dtheta': 0.0, 'duration': 8, 'hardware': True, 'double_support_ratio': 0.5, 'startend_double_support_ratio': 1.0, 'planned_timesteps': 48, 'replan_timesteps': 10, 'walk_com_height': 0.19, 'walk_foot_height': 0.03, 'walk_trunk_pitch': -3, 'walk_foot_rise_ratio': 0.02, 'single_support_duration': 0.22, 'single_support_timesteps': 10, 'foot_length': 0.06, 'feet_spacing': 0.16, 'zmp_margin': 0.0, 'foot_zmp_target_x': 0.0, 'foot_zmp_target_y': -0.03, 'walk_max_dtheta': 1.0, 'walk_max_dy': 0.1, 'walk_max_dx_forward': 0.08, 'walk_max_dx_backward': 0.03, 'joints': ['left_hip_yaw', 'left_hip_roll', 'left_hip_pitch', 'left_knee', 'left_ankle', 'neck_pitch', 'head_pitch', 'head_yaw', 'head_roll', 'left_antenna', 'right_antenna', 'right_hip_yaw', 'right_hip_roll', 'right_hip_pitch', 'right_knee', 'right_ankle'], 'joint_angles': {'neck_pitch': 0, 'head_pitch': 0, 'head_yaw': 0, 'head_roll': 0, 'left_antenna': 0, 'right_antenna': 0}}\n"
     ]
    },
    {
     "name": "stderr",
     "output_type": "stream",
     "text": [
      "WARNING: Robot has the following self collisions in neutral position:\n",
      "  -head_assembly_5 collides with left_antenna_holder_1\n",
      "  -head_assembly_6 collides with right_antenna_holder_0\n",
      "WARNING: Can't find head frames in the model, camera_look_at won't work\n"
     ]
    },
    {
     "name": "stdout",
     "output_type": "stream",
     "text": [
      "Placing the robot in the initial position...\n",
      "Initial position reached\n",
      "{'left_hip_yaw': 0.04384448495867586, 'left_hip_roll': 0.08227996528371245, 'left_hip_pitch': -0.4319707158813395, 'left_knee': 0.8340599878238436, 'left_ankle': -0.45531071231336245, 'neck_pitch': -5.040117786021889e-05, 'head_pitch': -4.725233687447016e-05, 'head_yaw': 3.2485822468381597e-06, 'head_roll': 2.1419222210315492e-06, 'left_antenna': 1.8133491084059128e-07, 'right_antenna': -1.8591539899450453e-07, 'right_hip_yaw': 0.038234121045090934, 'right_hip_roll': -0.022202701579960495, 'right_hip_pitch': 0.5520527357704211, 'right_knee': 1.1206501538861333, 'right_ankle': -0.6216497736939007}\n",
      "## period: 0.6599999999999999\n",
      "center_y_pos: -0.08\n",
      "recorded 300 frames\n",
      "avg lin_vel_x -0.0214\n",
      "avg lin_vel_y -0.037\n",
      "avg yaw 0.0\n",
      "DONE, saving 54.json\n"
     ]
    },
    {
     "name": "stderr",
     "output_type": "stream",
     "text": [
      "<frozen importlib._bootstrap>:219: RuntimeWarning: to-Python converter for std::vector<std::__cxx11::basic_string<char, std::char_traits<char>, std::allocator<char> >, std::allocator<std::__cxx11::basic_string<char, std::char_traits<char>, std::allocator<char> > > > already registered; second conversion method ignored.\n",
      "<frozen importlib._bootstrap>:219: RuntimeWarning: to-Python converter for std::vector<double, std::allocator<double> > already registered; second conversion method ignored.\n",
      "<frozen importlib._bootstrap>:219: RuntimeWarning: to-Python converter for std::vector<int, std::allocator<int> > already registered; second conversion method ignored.\n"
     ]
    },
    {
     "name": "stdout",
     "output_type": "stream",
     "text": [
      "gait_parameters {'dx': 0.03, 'dy': -0.03, 'dtheta': -0.12, 'duration': 8, 'hardware': True, 'double_support_ratio': 0.5, 'startend_double_support_ratio': 1.0, 'planned_timesteps': 48, 'replan_timesteps': 10, 'walk_com_height': 0.19, 'walk_foot_height': 0.03, 'walk_trunk_pitch': 5, 'walk_foot_rise_ratio': 0.02, 'single_support_duration': 0.18, 'single_support_timesteps': 10, 'foot_length': 0.06, 'feet_spacing': 0.16, 'zmp_margin': 0.0, 'foot_zmp_target_x': 0.0, 'foot_zmp_target_y': -0.03, 'walk_max_dtheta': 1.0, 'walk_max_dy': 0.1, 'walk_max_dx_forward': 0.08, 'walk_max_dx_backward': 0.03, 'joints': ['left_hip_yaw', 'left_hip_roll', 'left_hip_pitch', 'left_knee', 'left_ankle', 'neck_pitch', 'head_pitch', 'head_yaw', 'head_roll', 'left_antenna', 'right_antenna', 'right_hip_yaw', 'right_hip_roll', 'right_hip_pitch', 'right_knee', 'right_ankle'], 'joint_angles': {'neck_pitch': 0, 'head_pitch': 0, 'head_yaw': 0, 'head_roll': 0, 'left_antenna': 0, 'right_antenna': 0}}\n"
     ]
    },
    {
     "name": "stderr",
     "output_type": "stream",
     "text": [
      "WARNING: Robot has the following self collisions in neutral position:\n",
      "  -head_assembly_5 collides with left_antenna_holder_1\n",
      "  -head_assembly_6 collides with right_antenna_holder_0\n",
      "WARNING: Can't find head frames in the model, camera_look_at won't work\n"
     ]
    },
    {
     "name": "stdout",
     "output_type": "stream",
     "text": [
      "Placing the robot in the initial position...\n",
      "Initial position reached\n",
      "{'left_hip_yaw': 0.03856073916697742, 'left_hip_roll': 0.07691234231316556, 'left_hip_pitch': -0.1508004296650294, 'left_knee': 0.737914879554754, 'left_ankle': -0.5002092270122876, 'neck_pitch': -0.00014650529827118036, 'head_pitch': -8.113406909632949e-05, 'head_yaw': 5.24007316640369e-06, 'head_roll': 3.1548197389333287e-06, 'left_antenna': 1.0947757521027012e-07, 'right_antenna': -1.1587403430728602e-07, 'right_hip_yaw': 0.047723089820247096, 'right_hip_roll': -0.029051215821507007, 'right_hip_pitch': 0.2964067682733741, 'right_knee': 1.0861277494285748, 'right_ankle': -0.7030056538707278}\n",
      "## period: 0.54\n",
      "center_y_pos: -0.08\n",
      "recorded 300 frames\n",
      "avg lin_vel_x -0.0693\n",
      "avg lin_vel_y 0.1471\n",
      "avg yaw -0.0066\n",
      "DONE, saving 55.json\n"
     ]
    },
    {
     "name": "stderr",
     "output_type": "stream",
     "text": [
      "<frozen importlib._bootstrap>:219: RuntimeWarning: to-Python converter for std::vector<std::__cxx11::basic_string<char, std::char_traits<char>, std::allocator<char> >, std::allocator<std::__cxx11::basic_string<char, std::char_traits<char>, std::allocator<char> > > > already registered; second conversion method ignored.\n",
      "<frozen importlib._bootstrap>:219: RuntimeWarning: to-Python converter for std::vector<double, std::allocator<double> > already registered; second conversion method ignored.\n",
      "<frozen importlib._bootstrap>:219: RuntimeWarning: to-Python converter for std::vector<int, std::allocator<int> > already registered; second conversion method ignored.\n"
     ]
    },
    {
     "name": "stdout",
     "output_type": "stream",
     "text": [
      "gait_parameters {'dx': 0.02, 'dy': -0.05, 'dtheta': 0.17, 'duration': 8, 'hardware': True, 'double_support_ratio': 0.5, 'startend_double_support_ratio': 1.0, 'planned_timesteps': 48, 'replan_timesteps': 10, 'walk_com_height': 0.19, 'walk_foot_height': 0.03, 'walk_trunk_pitch': -3, 'walk_foot_rise_ratio': 0.02, 'single_support_duration': 0.22, 'single_support_timesteps': 10, 'foot_length': 0.06, 'feet_spacing': 0.16, 'zmp_margin': 0.0, 'foot_zmp_target_x': 0.0, 'foot_zmp_target_y': -0.03, 'walk_max_dtheta': 1.0, 'walk_max_dy': 0.1, 'walk_max_dx_forward': 0.08, 'walk_max_dx_backward': 0.03, 'joints': ['left_hip_yaw', 'left_hip_roll', 'left_hip_pitch', 'left_knee', 'left_ankle', 'neck_pitch', 'head_pitch', 'head_yaw', 'head_roll', 'left_antenna', 'right_antenna', 'right_hip_yaw', 'right_hip_roll', 'right_hip_pitch', 'right_knee', 'right_ankle'], 'joint_angles': {'neck_pitch': 0, 'head_pitch': 0, 'head_yaw': 0, 'head_roll': 0, 'left_antenna': 0, 'right_antenna': 0}}\n"
     ]
    },
    {
     "name": "stderr",
     "output_type": "stream",
     "text": [
      "WARNING: Robot has the following self collisions in neutral position:\n",
      "  -head_assembly_5 collides with left_antenna_holder_1\n",
      "  -head_assembly_6 collides with right_antenna_holder_0\n",
      "WARNING: Can't find head frames in the model, camera_look_at won't work\n"
     ]
    },
    {
     "name": "stdout",
     "output_type": "stream",
     "text": [
      "Placing the robot in the initial position...\n",
      "Initial position reached\n",
      "{'left_hip_yaw': 0.04384448495867586, 'left_hip_roll': 0.08227996528371245, 'left_hip_pitch': -0.4319707158813395, 'left_knee': 0.8340599878238436, 'left_ankle': -0.45531071231336245, 'neck_pitch': -5.040117786021889e-05, 'head_pitch': -4.725233687447016e-05, 'head_yaw': 3.2485822468381597e-06, 'head_roll': 2.1419222210315492e-06, 'left_antenna': 1.8133491084059128e-07, 'right_antenna': -1.8591539899450453e-07, 'right_hip_yaw': 0.038234121045090934, 'right_hip_roll': -0.022202701579960495, 'right_hip_pitch': 0.5520527357704211, 'right_knee': 1.1206501538861333, 'right_ankle': -0.6216497736939007}\n",
      "## period: 0.6599999999999999\n",
      "center_y_pos: -0.08\n",
      "recorded 300 frames\n",
      "avg lin_vel_x -0.1351\n",
      "avg lin_vel_y 0.0131\n",
      "avg yaw 0.01\n",
      "DONE, saving 56.json\n"
     ]
    },
    {
     "name": "stderr",
     "output_type": "stream",
     "text": [
      "<frozen importlib._bootstrap>:219: RuntimeWarning: to-Python converter for std::vector<std::__cxx11::basic_string<char, std::char_traits<char>, std::allocator<char> >, std::allocator<std::__cxx11::basic_string<char, std::char_traits<char>, std::allocator<char> > > > already registered; second conversion method ignored.\n",
      "<frozen importlib._bootstrap>:219: RuntimeWarning: to-Python converter for std::vector<double, std::allocator<double> > already registered; second conversion method ignored.\n",
      "<frozen importlib._bootstrap>:219: RuntimeWarning: to-Python converter for std::vector<int, std::allocator<int> > already registered; second conversion method ignored.\n"
     ]
    },
    {
     "name": "stdout",
     "output_type": "stream",
     "text": [
      "gait_parameters {'dx': -0.05, 'dy': -0.0, 'dtheta': -0.06, 'duration': 8, 'hardware': True, 'double_support_ratio': 0.5, 'startend_double_support_ratio': 1.0, 'planned_timesteps': 48, 'replan_timesteps': 10, 'walk_com_height': 0.19, 'walk_foot_height': 0.03, 'walk_trunk_pitch': 5, 'walk_foot_rise_ratio': 0.02, 'single_support_duration': 0.18, 'single_support_timesteps': 10, 'foot_length': 0.06, 'feet_spacing': 0.16, 'zmp_margin': 0.0, 'foot_zmp_target_x': 0.0, 'foot_zmp_target_y': -0.03, 'walk_max_dtheta': 1.0, 'walk_max_dy': 0.1, 'walk_max_dx_forward': 0.08, 'walk_max_dx_backward': 0.03, 'joints': ['left_hip_yaw', 'left_hip_roll', 'left_hip_pitch', 'left_knee', 'left_ankle', 'neck_pitch', 'head_pitch', 'head_yaw', 'head_roll', 'left_antenna', 'right_antenna', 'right_hip_yaw', 'right_hip_roll', 'right_hip_pitch', 'right_knee', 'right_ankle'], 'joint_angles': {'neck_pitch': 0, 'head_pitch': 0, 'head_yaw': 0, 'head_roll': 0, 'left_antenna': 0, 'right_antenna': 0}}\n"
     ]
    },
    {
     "name": "stderr",
     "output_type": "stream",
     "text": [
      "WARNING: Robot has the following self collisions in neutral position:\n",
      "  -head_assembly_5 collides with left_antenna_holder_1\n",
      "  -head_assembly_6 collides with right_antenna_holder_0\n",
      "WARNING: Can't find head frames in the model, camera_look_at won't work\n"
     ]
    },
    {
     "name": "stdout",
     "output_type": "stream",
     "text": [
      "Placing the robot in the initial position...\n",
      "Initial position reached\n",
      "{'left_hip_yaw': 0.03856073916697742, 'left_hip_roll': 0.07691234231316556, 'left_hip_pitch': -0.1508004296650294, 'left_knee': 0.737914879554754, 'left_ankle': -0.5002092270122876, 'neck_pitch': -0.00014650529827118036, 'head_pitch': -8.113406909632949e-05, 'head_yaw': 5.24007316640369e-06, 'head_roll': 3.1548197389333287e-06, 'left_antenna': 1.0947757521027012e-07, 'right_antenna': -1.1587403430728602e-07, 'right_hip_yaw': 0.047723089820247096, 'right_hip_roll': -0.029051215821507007, 'right_hip_pitch': 0.2964067682733741, 'right_knee': 1.0861277494285748, 'right_ankle': -0.7030056538707278}\n",
      "## period: 0.54\n",
      "center_y_pos: -0.08\n",
      "recorded 300 frames\n",
      "avg lin_vel_x -0.0628\n",
      "avg lin_vel_y 0.0938\n",
      "avg yaw -0.0005\n",
      "DONE, saving 57.json\n"
     ]
    },
    {
     "name": "stderr",
     "output_type": "stream",
     "text": [
      "<frozen importlib._bootstrap>:219: RuntimeWarning: to-Python converter for std::vector<std::__cxx11::basic_string<char, std::char_traits<char>, std::allocator<char> >, std::allocator<std::__cxx11::basic_string<char, std::char_traits<char>, std::allocator<char> > > > already registered; second conversion method ignored.\n",
      "<frozen importlib._bootstrap>:219: RuntimeWarning: to-Python converter for std::vector<double, std::allocator<double> > already registered; second conversion method ignored.\n",
      "<frozen importlib._bootstrap>:219: RuntimeWarning: to-Python converter for std::vector<int, std::allocator<int> > already registered; second conversion method ignored.\n"
     ]
    },
    {
     "name": "stdout",
     "output_type": "stream",
     "text": [
      "gait_parameters {'dx': 0.02, 'dy': -0.04, 'dtheta': -0.2, 'duration': 8, 'hardware': True, 'double_support_ratio': 0.5, 'startend_double_support_ratio': 1.0, 'planned_timesteps': 48, 'replan_timesteps': 10, 'walk_com_height': 0.19, 'walk_foot_height': 0.03, 'walk_trunk_pitch': -3, 'walk_foot_rise_ratio': 0.02, 'single_support_duration': 0.22, 'single_support_timesteps': 10, 'foot_length': 0.06, 'feet_spacing': 0.16, 'zmp_margin': 0.0, 'foot_zmp_target_x': 0.0, 'foot_zmp_target_y': -0.03, 'walk_max_dtheta': 1.0, 'walk_max_dy': 0.1, 'walk_max_dx_forward': 0.08, 'walk_max_dx_backward': 0.03, 'joints': ['left_hip_yaw', 'left_hip_roll', 'left_hip_pitch', 'left_knee', 'left_ankle', 'neck_pitch', 'head_pitch', 'head_yaw', 'head_roll', 'left_antenna', 'right_antenna', 'right_hip_yaw', 'right_hip_roll', 'right_hip_pitch', 'right_knee', 'right_ankle'], 'joint_angles': {'neck_pitch': 0, 'head_pitch': 0, 'head_yaw': 0, 'head_roll': 0, 'left_antenna': 0, 'right_antenna': 0}}\n"
     ]
    },
    {
     "name": "stderr",
     "output_type": "stream",
     "text": [
      "WARNING: Robot has the following self collisions in neutral position:\n",
      "  -head_assembly_5 collides with left_antenna_holder_1\n",
      "  -head_assembly_6 collides with right_antenna_holder_0\n",
      "WARNING: Can't find head frames in the model, camera_look_at won't work\n"
     ]
    },
    {
     "name": "stdout",
     "output_type": "stream",
     "text": [
      "Placing the robot in the initial position...\n",
      "Initial position reached\n",
      "{'left_hip_yaw': 0.04384448495867586, 'left_hip_roll': 0.08227996528371245, 'left_hip_pitch': -0.4319707158813395, 'left_knee': 0.8340599878238436, 'left_ankle': -0.45531071231336245, 'neck_pitch': -5.040117786021889e-05, 'head_pitch': -4.725233687447016e-05, 'head_yaw': 3.2485822468381597e-06, 'head_roll': 2.1419222210315492e-06, 'left_antenna': 1.8133491084059128e-07, 'right_antenna': -1.8591539899450453e-07, 'right_hip_yaw': 0.038234121045090934, 'right_hip_roll': -0.022202701579960495, 'right_hip_pitch': 0.5520527357704211, 'right_knee': 1.1206501538861333, 'right_ankle': -0.6216497736939007}\n",
      "## period: 0.6599999999999999\n",
      "center_y_pos: -0.08\n",
      "recorded 300 frames\n",
      "avg lin_vel_x 0.1394\n",
      "avg lin_vel_y 0.0233\n",
      "avg yaw -0.0137\n",
      "DONE, saving 58.json\n"
     ]
    },
    {
     "name": "stderr",
     "output_type": "stream",
     "text": [
      "<frozen importlib._bootstrap>:219: RuntimeWarning: to-Python converter for std::vector<std::__cxx11::basic_string<char, std::char_traits<char>, std::allocator<char> >, std::allocator<std::__cxx11::basic_string<char, std::char_traits<char>, std::allocator<char> > > > already registered; second conversion method ignored.\n",
      "<frozen importlib._bootstrap>:219: RuntimeWarning: to-Python converter for std::vector<double, std::allocator<double> > already registered; second conversion method ignored.\n",
      "<frozen importlib._bootstrap>:219: RuntimeWarning: to-Python converter for std::vector<int, std::allocator<int> > already registered; second conversion method ignored.\n"
     ]
    },
    {
     "name": "stdout",
     "output_type": "stream",
     "text": [
      "gait_parameters {'dx': -0.03, 'dy': 0.02, 'dtheta': 0.09, 'duration': 8, 'hardware': True, 'double_support_ratio': 0.5, 'startend_double_support_ratio': 1.0, 'planned_timesteps': 48, 'replan_timesteps': 10, 'walk_com_height': 0.19, 'walk_foot_height': 0.03, 'walk_trunk_pitch': 5, 'walk_foot_rise_ratio': 0.02, 'single_support_duration': 0.18, 'single_support_timesteps': 10, 'foot_length': 0.06, 'feet_spacing': 0.16, 'zmp_margin': 0.0, 'foot_zmp_target_x': 0.0, 'foot_zmp_target_y': -0.03, 'walk_max_dtheta': 1.0, 'walk_max_dy': 0.1, 'walk_max_dx_forward': 0.08, 'walk_max_dx_backward': 0.03, 'joints': ['left_hip_yaw', 'left_hip_roll', 'left_hip_pitch', 'left_knee', 'left_ankle', 'neck_pitch', 'head_pitch', 'head_yaw', 'head_roll', 'left_antenna', 'right_antenna', 'right_hip_yaw', 'right_hip_roll', 'right_hip_pitch', 'right_knee', 'right_ankle'], 'joint_angles': {'neck_pitch': 0, 'head_pitch': 0, 'head_yaw': 0, 'head_roll': 0, 'left_antenna': 0, 'right_antenna': 0}}\n"
     ]
    },
    {
     "name": "stderr",
     "output_type": "stream",
     "text": [
      "WARNING: Robot has the following self collisions in neutral position:\n",
      "  -head_assembly_5 collides with left_antenna_holder_1\n",
      "  -head_assembly_6 collides with right_antenna_holder_0\n",
      "WARNING: Can't find head frames in the model, camera_look_at won't work\n"
     ]
    },
    {
     "name": "stdout",
     "output_type": "stream",
     "text": [
      "Placing the robot in the initial position...\n",
      "Initial position reached\n",
      "{'left_hip_yaw': 0.03856073916697742, 'left_hip_roll': 0.07691234231316556, 'left_hip_pitch': -0.1508004296650294, 'left_knee': 0.737914879554754, 'left_ankle': -0.5002092270122876, 'neck_pitch': -0.00014650529827118036, 'head_pitch': -8.113406909632949e-05, 'head_yaw': 5.24007316640369e-06, 'head_roll': 3.1548197389333287e-06, 'left_antenna': 1.0947757521027012e-07, 'right_antenna': -1.1587403430728602e-07, 'right_hip_yaw': 0.047723089820247096, 'right_hip_roll': -0.029051215821507007, 'right_hip_pitch': 0.2964067682733741, 'right_knee': 1.0861277494285748, 'right_ankle': -0.7030056538707278}\n",
      "## period: 0.54\n",
      "center_y_pos: -0.08\n",
      "recorded 300 frames\n",
      "avg lin_vel_x 0.1074\n",
      "avg lin_vel_y -0.0923\n",
      "avg yaw 0.0051\n",
      "DONE, saving 59.json\n"
     ]
    },
    {
     "name": "stderr",
     "output_type": "stream",
     "text": [
      "<frozen importlib._bootstrap>:219: RuntimeWarning: to-Python converter for std::vector<std::__cxx11::basic_string<char, std::char_traits<char>, std::allocator<char> >, std::allocator<std::__cxx11::basic_string<char, std::char_traits<char>, std::allocator<char> > > > already registered; second conversion method ignored.\n",
      "<frozen importlib._bootstrap>:219: RuntimeWarning: to-Python converter for std::vector<double, std::allocator<double> > already registered; second conversion method ignored.\n",
      "<frozen importlib._bootstrap>:219: RuntimeWarning: to-Python converter for std::vector<int, std::allocator<int> > already registered; second conversion method ignored.\n"
     ]
    },
    {
     "name": "stdout",
     "output_type": "stream",
     "text": [
      "gait_parameters {'dx': -0.05, 'dy': 0.03, 'dtheta': -0.13, 'duration': 8, 'hardware': True, 'double_support_ratio': 0.5, 'startend_double_support_ratio': 1.0, 'planned_timesteps': 48, 'replan_timesteps': 10, 'walk_com_height': 0.19, 'walk_foot_height': 0.03, 'walk_trunk_pitch': 5, 'walk_foot_rise_ratio': 0.02, 'single_support_duration': 0.18, 'single_support_timesteps': 10, 'foot_length': 0.06, 'feet_spacing': 0.16, 'zmp_margin': 0.0, 'foot_zmp_target_x': 0.0, 'foot_zmp_target_y': -0.03, 'walk_max_dtheta': 1.0, 'walk_max_dy': 0.1, 'walk_max_dx_forward': 0.08, 'walk_max_dx_backward': 0.03, 'joints': ['left_hip_yaw', 'left_hip_roll', 'left_hip_pitch', 'left_knee', 'left_ankle', 'neck_pitch', 'head_pitch', 'head_yaw', 'head_roll', 'left_antenna', 'right_antenna', 'right_hip_yaw', 'right_hip_roll', 'right_hip_pitch', 'right_knee', 'right_ankle'], 'joint_angles': {'neck_pitch': 0, 'head_pitch': 0, 'head_yaw': 0, 'head_roll': 0, 'left_antenna': 0, 'right_antenna': 0}}\n"
     ]
    },
    {
     "name": "stderr",
     "output_type": "stream",
     "text": [
      "WARNING: Robot has the following self collisions in neutral position:\n",
      "  -head_assembly_5 collides with left_antenna_holder_1\n",
      "  -head_assembly_6 collides with right_antenna_holder_0\n",
      "WARNING: Can't find head frames in the model, camera_look_at won't work\n"
     ]
    },
    {
     "name": "stdout",
     "output_type": "stream",
     "text": [
      "Placing the robot in the initial position...\n",
      "Initial position reached\n",
      "{'left_hip_yaw': 0.03856073916697742, 'left_hip_roll': 0.07691234231316556, 'left_hip_pitch': -0.1508004296650294, 'left_knee': 0.737914879554754, 'left_ankle': -0.5002092270122876, 'neck_pitch': -0.00014650529827118036, 'head_pitch': -8.113406909632949e-05, 'head_yaw': 5.24007316640369e-06, 'head_roll': 3.1548197389333287e-06, 'left_antenna': 1.0947757521027012e-07, 'right_antenna': -1.1587403430728602e-07, 'right_hip_yaw': 0.047723089820247096, 'right_hip_roll': -0.029051215821507007, 'right_hip_pitch': 0.2964067682733741, 'right_knee': 1.0861277494285748, 'right_ankle': -0.7030056538707278}\n",
      "## period: 0.54\n",
      "center_y_pos: -0.08\n",
      "recorded 300 frames\n",
      "avg lin_vel_x 0.1187\n",
      "avg lin_vel_y 0.0431\n",
      "avg yaw -0.0027\n",
      "DONE, saving 60.json\n"
     ]
    },
    {
     "name": "stderr",
     "output_type": "stream",
     "text": [
      "<frozen importlib._bootstrap>:219: RuntimeWarning: to-Python converter for std::vector<std::__cxx11::basic_string<char, std::char_traits<char>, std::allocator<char> >, std::allocator<std::__cxx11::basic_string<char, std::char_traits<char>, std::allocator<char> > > > already registered; second conversion method ignored.\n",
      "<frozen importlib._bootstrap>:219: RuntimeWarning: to-Python converter for std::vector<double, std::allocator<double> > already registered; second conversion method ignored.\n",
      "<frozen importlib._bootstrap>:219: RuntimeWarning: to-Python converter for std::vector<int, std::allocator<int> > already registered; second conversion method ignored.\n"
     ]
    },
    {
     "name": "stdout",
     "output_type": "stream",
     "text": [
      "gait_parameters {'dx': 0.04, 'dy': 0.04, 'dtheta': 0.1, 'duration': 8, 'hardware': True, 'double_support_ratio': 0.5, 'startend_double_support_ratio': 1.0, 'planned_timesteps': 48, 'replan_timesteps': 10, 'walk_com_height': 0.19, 'walk_foot_height': 0.03, 'walk_trunk_pitch': -3, 'walk_foot_rise_ratio': 0.02, 'single_support_duration': 0.22, 'single_support_timesteps': 10, 'foot_length': 0.06, 'feet_spacing': 0.16, 'zmp_margin': 0.0, 'foot_zmp_target_x': 0.0, 'foot_zmp_target_y': -0.03, 'walk_max_dtheta': 1.0, 'walk_max_dy': 0.1, 'walk_max_dx_forward': 0.08, 'walk_max_dx_backward': 0.03, 'joints': ['left_hip_yaw', 'left_hip_roll', 'left_hip_pitch', 'left_knee', 'left_ankle', 'neck_pitch', 'head_pitch', 'head_yaw', 'head_roll', 'left_antenna', 'right_antenna', 'right_hip_yaw', 'right_hip_roll', 'right_hip_pitch', 'right_knee', 'right_ankle'], 'joint_angles': {'neck_pitch': 0, 'head_pitch': 0, 'head_yaw': 0, 'head_roll': 0, 'left_antenna': 0, 'right_antenna': 0}}\n"
     ]
    },
    {
     "name": "stderr",
     "output_type": "stream",
     "text": [
      "WARNING: Robot has the following self collisions in neutral position:\n",
      "  -head_assembly_5 collides with left_antenna_holder_1\n",
      "  -head_assembly_6 collides with right_antenna_holder_0\n",
      "WARNING: Can't find head frames in the model, camera_look_at won't work\n"
     ]
    },
    {
     "name": "stdout",
     "output_type": "stream",
     "text": [
      "Placing the robot in the initial position...\n",
      "Initial position reached\n",
      "{'left_hip_yaw': 0.04384448495867586, 'left_hip_roll': 0.08227996528371245, 'left_hip_pitch': -0.4319707158813395, 'left_knee': 0.8340599878238436, 'left_ankle': -0.45531071231336245, 'neck_pitch': -5.040117786021889e-05, 'head_pitch': -4.725233687447016e-05, 'head_yaw': 3.2485822468381597e-06, 'head_roll': 2.1419222210315492e-06, 'left_antenna': 1.8133491084059128e-07, 'right_antenna': -1.8591539899450453e-07, 'right_hip_yaw': 0.038234121045090934, 'right_hip_roll': -0.022202701579960495, 'right_hip_pitch': 0.5520527357704211, 'right_knee': 1.1206501538861333, 'right_ankle': -0.6216497736939007}\n",
      "## period: 0.6599999999999999\n",
      "center_y_pos: -0.08\n",
      "recorded 300 frames\n",
      "avg lin_vel_x -0.1647\n",
      "avg lin_vel_y -0.0776\n",
      "avg yaw 0.0045\n",
      "DONE, saving 61.json\n"
     ]
    },
    {
     "name": "stderr",
     "output_type": "stream",
     "text": [
      "<frozen importlib._bootstrap>:219: RuntimeWarning: to-Python converter for std::vector<std::__cxx11::basic_string<char, std::char_traits<char>, std::allocator<char> >, std::allocator<std::__cxx11::basic_string<char, std::char_traits<char>, std::allocator<char> > > > already registered; second conversion method ignored.\n",
      "<frozen importlib._bootstrap>:219: RuntimeWarning: to-Python converter for std::vector<double, std::allocator<double> > already registered; second conversion method ignored.\n",
      "<frozen importlib._bootstrap>:219: RuntimeWarning: to-Python converter for std::vector<int, std::allocator<int> > already registered; second conversion method ignored.\n"
     ]
    },
    {
     "name": "stdout",
     "output_type": "stream",
     "text": [
      "gait_parameters {'dx': 0.03, 'dy': -0.0, 'dtheta': -0.22, 'duration': 8, 'hardware': True, 'double_support_ratio': 0.5, 'startend_double_support_ratio': 1.0, 'planned_timesteps': 48, 'replan_timesteps': 10, 'walk_com_height': 0.19, 'walk_foot_height': 0.03, 'walk_trunk_pitch': 5, 'walk_foot_rise_ratio': 0.02, 'single_support_duration': 0.18, 'single_support_timesteps': 10, 'foot_length': 0.06, 'feet_spacing': 0.16, 'zmp_margin': 0.0, 'foot_zmp_target_x': 0.0, 'foot_zmp_target_y': -0.03, 'walk_max_dtheta': 1.0, 'walk_max_dy': 0.1, 'walk_max_dx_forward': 0.08, 'walk_max_dx_backward': 0.03, 'joints': ['left_hip_yaw', 'left_hip_roll', 'left_hip_pitch', 'left_knee', 'left_ankle', 'neck_pitch', 'head_pitch', 'head_yaw', 'head_roll', 'left_antenna', 'right_antenna', 'right_hip_yaw', 'right_hip_roll', 'right_hip_pitch', 'right_knee', 'right_ankle'], 'joint_angles': {'neck_pitch': 0, 'head_pitch': 0, 'head_yaw': 0, 'head_roll': 0, 'left_antenna': 0, 'right_antenna': 0}}\n"
     ]
    },
    {
     "name": "stderr",
     "output_type": "stream",
     "text": [
      "WARNING: Robot has the following self collisions in neutral position:\n",
      "  -head_assembly_5 collides with left_antenna_holder_1\n",
      "  -head_assembly_6 collides with right_antenna_holder_0\n",
      "WARNING: Can't find head frames in the model, camera_look_at won't work\n"
     ]
    },
    {
     "name": "stdout",
     "output_type": "stream",
     "text": [
      "Placing the robot in the initial position...\n",
      "Initial position reached\n",
      "{'left_hip_yaw': 0.03856073916697742, 'left_hip_roll': 0.07691234231316556, 'left_hip_pitch': -0.1508004296650294, 'left_knee': 0.737914879554754, 'left_ankle': -0.5002092270122876, 'neck_pitch': -0.00014650529827118036, 'head_pitch': -8.113406909632949e-05, 'head_yaw': 5.24007316640369e-06, 'head_roll': 3.1548197389333287e-06, 'left_antenna': 1.0947757521027012e-07, 'right_antenna': -1.1587403430728602e-07, 'right_hip_yaw': 0.047723089820247096, 'right_hip_roll': -0.029051215821507007, 'right_hip_pitch': 0.2964067682733741, 'right_knee': 1.0861277494285748, 'right_ankle': -0.7030056538707278}\n",
      "## period: 0.54\n",
      "center_y_pos: -0.08\n",
      "recorded 300 frames\n",
      "avg lin_vel_x 0.0985\n",
      "avg lin_vel_y -0.0495\n",
      "avg yaw -0.024\n",
      "DONE, saving 62.json\n"
     ]
    },
    {
     "name": "stderr",
     "output_type": "stream",
     "text": [
      "<frozen importlib._bootstrap>:219: RuntimeWarning: to-Python converter for std::vector<std::__cxx11::basic_string<char, std::char_traits<char>, std::allocator<char> >, std::allocator<std::__cxx11::basic_string<char, std::char_traits<char>, std::allocator<char> > > > already registered; second conversion method ignored.\n",
      "<frozen importlib._bootstrap>:219: RuntimeWarning: to-Python converter for std::vector<double, std::allocator<double> > already registered; second conversion method ignored.\n",
      "<frozen importlib._bootstrap>:219: RuntimeWarning: to-Python converter for std::vector<int, std::allocator<int> > already registered; second conversion method ignored.\n"
     ]
    },
    {
     "name": "stdout",
     "output_type": "stream",
     "text": [
      "gait_parameters {'dx': 0.02, 'dy': -0.0, 'dtheta': -0.13, 'duration': 8, 'hardware': True, 'double_support_ratio': 0.5, 'startend_double_support_ratio': 1.0, 'planned_timesteps': 48, 'replan_timesteps': 10, 'walk_com_height': 0.19, 'walk_foot_height': 0.03, 'walk_trunk_pitch': 5, 'walk_foot_rise_ratio': 0.02, 'single_support_duration': 0.18, 'single_support_timesteps': 10, 'foot_length': 0.06, 'feet_spacing': 0.16, 'zmp_margin': 0.0, 'foot_zmp_target_x': 0.0, 'foot_zmp_target_y': -0.03, 'walk_max_dtheta': 1.0, 'walk_max_dy': 0.1, 'walk_max_dx_forward': 0.08, 'walk_max_dx_backward': 0.03, 'joints': ['left_hip_yaw', 'left_hip_roll', 'left_hip_pitch', 'left_knee', 'left_ankle', 'neck_pitch', 'head_pitch', 'head_yaw', 'head_roll', 'left_antenna', 'right_antenna', 'right_hip_yaw', 'right_hip_roll', 'right_hip_pitch', 'right_knee', 'right_ankle'], 'joint_angles': {'neck_pitch': 0, 'head_pitch': 0, 'head_yaw': 0, 'head_roll': 0, 'left_antenna': 0, 'right_antenna': 0}}\n"
     ]
    },
    {
     "name": "stderr",
     "output_type": "stream",
     "text": [
      "WARNING: Robot has the following self collisions in neutral position:\n",
      "  -head_assembly_5 collides with left_antenna_holder_1\n",
      "  -head_assembly_6 collides with right_antenna_holder_0\n",
      "WARNING: Can't find head frames in the model, camera_look_at won't work\n"
     ]
    },
    {
     "name": "stdout",
     "output_type": "stream",
     "text": [
      "Placing the robot in the initial position...\n",
      "Initial position reached\n",
      "{'left_hip_yaw': 0.03856073916697742, 'left_hip_roll': 0.07691234231316556, 'left_hip_pitch': -0.1508004296650294, 'left_knee': 0.737914879554754, 'left_ankle': -0.5002092270122876, 'neck_pitch': -0.00014650529827118036, 'head_pitch': -8.113406909632949e-05, 'head_yaw': 5.24007316640369e-06, 'head_roll': 3.1548197389333287e-06, 'left_antenna': 1.0947757521027012e-07, 'right_antenna': -1.1587403430728602e-07, 'right_hip_yaw': 0.047723089820247096, 'right_hip_roll': -0.029051215821507007, 'right_hip_pitch': 0.2964067682733741, 'right_knee': 1.0861277494285748, 'right_ankle': -0.7030056538707278}\n",
      "## period: 0.54\n",
      "center_y_pos: -0.08\n",
      "recorded 300 frames\n",
      "avg lin_vel_x -0.0592\n",
      "avg lin_vel_y 0.052\n",
      "avg yaw -0.0079\n",
      "DONE, saving 63.json\n"
     ]
    },
    {
     "name": "stderr",
     "output_type": "stream",
     "text": [
      "<frozen importlib._bootstrap>:219: RuntimeWarning: to-Python converter for std::vector<std::__cxx11::basic_string<char, std::char_traits<char>, std::allocator<char> >, std::allocator<std::__cxx11::basic_string<char, std::char_traits<char>, std::allocator<char> > > > already registered; second conversion method ignored.\n",
      "<frozen importlib._bootstrap>:219: RuntimeWarning: to-Python converter for std::vector<double, std::allocator<double> > already registered; second conversion method ignored.\n",
      "<frozen importlib._bootstrap>:219: RuntimeWarning: to-Python converter for std::vector<int, std::allocator<int> > already registered; second conversion method ignored.\n"
     ]
    },
    {
     "name": "stdout",
     "output_type": "stream",
     "text": [
      "gait_parameters {'dx': 0.02, 'dy': 0.01, 'dtheta': 0.23, 'duration': 8, 'hardware': True, 'double_support_ratio': 0.5, 'startend_double_support_ratio': 1.0, 'planned_timesteps': 48, 'replan_timesteps': 10, 'walk_com_height': 0.19, 'walk_foot_height': 0.03, 'walk_trunk_pitch': -3, 'walk_foot_rise_ratio': 0.02, 'single_support_duration': 0.22, 'single_support_timesteps': 10, 'foot_length': 0.06, 'feet_spacing': 0.16, 'zmp_margin': 0.0, 'foot_zmp_target_x': 0.0, 'foot_zmp_target_y': -0.03, 'walk_max_dtheta': 1.0, 'walk_max_dy': 0.1, 'walk_max_dx_forward': 0.08, 'walk_max_dx_backward': 0.03, 'joints': ['left_hip_yaw', 'left_hip_roll', 'left_hip_pitch', 'left_knee', 'left_ankle', 'neck_pitch', 'head_pitch', 'head_yaw', 'head_roll', 'left_antenna', 'right_antenna', 'right_hip_yaw', 'right_hip_roll', 'right_hip_pitch', 'right_knee', 'right_ankle'], 'joint_angles': {'neck_pitch': 0, 'head_pitch': 0, 'head_yaw': 0, 'head_roll': 0, 'left_antenna': 0, 'right_antenna': 0}}\n"
     ]
    },
    {
     "name": "stderr",
     "output_type": "stream",
     "text": [
      "WARNING: Robot has the following self collisions in neutral position:\n",
      "  -head_assembly_5 collides with left_antenna_holder_1\n",
      "  -head_assembly_6 collides with right_antenna_holder_0\n",
      "WARNING: Can't find head frames in the model, camera_look_at won't work\n"
     ]
    },
    {
     "name": "stdout",
     "output_type": "stream",
     "text": [
      "Placing the robot in the initial position...\n",
      "Initial position reached\n",
      "{'left_hip_yaw': 0.04384448495867586, 'left_hip_roll': 0.08227996528371245, 'left_hip_pitch': -0.4319707158813395, 'left_knee': 0.8340599878238436, 'left_ankle': -0.45531071231336245, 'neck_pitch': -5.040117786021889e-05, 'head_pitch': -4.725233687447016e-05, 'head_yaw': 3.2485822468381597e-06, 'head_roll': 2.1419222210315492e-06, 'left_antenna': 1.8133491084059128e-07, 'right_antenna': -1.8591539899450453e-07, 'right_hip_yaw': 0.038234121045090934, 'right_hip_roll': -0.022202701579960495, 'right_hip_pitch': 0.5520527357704211, 'right_knee': 1.1206501538861333, 'right_ankle': -0.6216497736939007}\n",
      "## period: 0.6599999999999999\n",
      "center_y_pos: -0.08\n",
      "recorded 300 frames\n",
      "avg lin_vel_x 0.0798\n",
      "avg lin_vel_y 0.0335\n",
      "avg yaw 0.0217\n",
      "DONE, saving 64.json\n"
     ]
    },
    {
     "name": "stderr",
     "output_type": "stream",
     "text": [
      "<frozen importlib._bootstrap>:219: RuntimeWarning: to-Python converter for std::vector<std::__cxx11::basic_string<char, std::char_traits<char>, std::allocator<char> >, std::allocator<std::__cxx11::basic_string<char, std::char_traits<char>, std::allocator<char> > > > already registered; second conversion method ignored.\n",
      "<frozen importlib._bootstrap>:219: RuntimeWarning: to-Python converter for std::vector<double, std::allocator<double> > already registered; second conversion method ignored.\n",
      "<frozen importlib._bootstrap>:219: RuntimeWarning: to-Python converter for std::vector<int, std::allocator<int> > already registered; second conversion method ignored.\n"
     ]
    },
    {
     "name": "stdout",
     "output_type": "stream",
     "text": [
      "gait_parameters {'dx': -0.02, 'dy': -0.02, 'dtheta': 0.23, 'duration': 8, 'hardware': True, 'double_support_ratio': 0.5, 'startend_double_support_ratio': 1.0, 'planned_timesteps': 48, 'replan_timesteps': 10, 'walk_com_height': 0.19, 'walk_foot_height': 0.03, 'walk_trunk_pitch': -3, 'walk_foot_rise_ratio': 0.02, 'single_support_duration': 0.22, 'single_support_timesteps': 10, 'foot_length': 0.06, 'feet_spacing': 0.16, 'zmp_margin': 0.0, 'foot_zmp_target_x': 0.0, 'foot_zmp_target_y': -0.03, 'walk_max_dtheta': 1.0, 'walk_max_dy': 0.1, 'walk_max_dx_forward': 0.08, 'walk_max_dx_backward': 0.03, 'joints': ['left_hip_yaw', 'left_hip_roll', 'left_hip_pitch', 'left_knee', 'left_ankle', 'neck_pitch', 'head_pitch', 'head_yaw', 'head_roll', 'left_antenna', 'right_antenna', 'right_hip_yaw', 'right_hip_roll', 'right_hip_pitch', 'right_knee', 'right_ankle'], 'joint_angles': {'neck_pitch': 0, 'head_pitch': 0, 'head_yaw': 0, 'head_roll': 0, 'left_antenna': 0, 'right_antenna': 0}}\n"
     ]
    },
    {
     "name": "stderr",
     "output_type": "stream",
     "text": [
      "WARNING: Robot has the following self collisions in neutral position:\n",
      "  -head_assembly_5 collides with left_antenna_holder_1\n",
      "  -head_assembly_6 collides with right_antenna_holder_0\n",
      "WARNING: Can't find head frames in the model, camera_look_at won't work\n"
     ]
    },
    {
     "name": "stdout",
     "output_type": "stream",
     "text": [
      "Placing the robot in the initial position...\n",
      "Initial position reached\n",
      "{'left_hip_yaw': 0.04384448495867586, 'left_hip_roll': 0.08227996528371245, 'left_hip_pitch': -0.4319707158813395, 'left_knee': 0.8340599878238436, 'left_ankle': -0.45531071231336245, 'neck_pitch': -5.040117786021889e-05, 'head_pitch': -4.725233687447016e-05, 'head_yaw': 3.2485822468381597e-06, 'head_roll': 2.1419222210315492e-06, 'left_antenna': 1.8133491084059128e-07, 'right_antenna': -1.8591539899450453e-07, 'right_hip_yaw': 0.038234121045090934, 'right_hip_roll': -0.022202701579960495, 'right_hip_pitch': 0.5520527357704211, 'right_knee': 1.1206501538861333, 'right_ankle': -0.6216497736939007}\n",
      "## period: 0.6599999999999999\n",
      "center_y_pos: -0.08\n",
      "recorded 300 frames\n",
      "avg lin_vel_x -0.0438\n",
      "avg lin_vel_y -0.0287\n",
      "avg yaw 0.0217\n",
      "DONE, saving 65.json\n"
     ]
    },
    {
     "name": "stderr",
     "output_type": "stream",
     "text": [
      "<frozen importlib._bootstrap>:219: RuntimeWarning: to-Python converter for std::vector<std::__cxx11::basic_string<char, std::char_traits<char>, std::allocator<char> >, std::allocator<std::__cxx11::basic_string<char, std::char_traits<char>, std::allocator<char> > > > already registered; second conversion method ignored.\n",
      "<frozen importlib._bootstrap>:219: RuntimeWarning: to-Python converter for std::vector<double, std::allocator<double> > already registered; second conversion method ignored.\n",
      "<frozen importlib._bootstrap>:219: RuntimeWarning: to-Python converter for std::vector<int, std::allocator<int> > already registered; second conversion method ignored.\n"
     ]
    },
    {
     "name": "stdout",
     "output_type": "stream",
     "text": [
      "gait_parameters {'dx': 0.01, 'dy': -0.02, 'dtheta': -0.03, 'duration': 8, 'hardware': True, 'double_support_ratio': 0.5, 'startend_double_support_ratio': 1.0, 'planned_timesteps': 48, 'replan_timesteps': 10, 'walk_com_height': 0.19, 'walk_foot_height': 0.03, 'walk_trunk_pitch': -3, 'walk_foot_rise_ratio': 0.02, 'single_support_duration': 0.22, 'single_support_timesteps': 10, 'foot_length': 0.06, 'feet_spacing': 0.16, 'zmp_margin': 0.0, 'foot_zmp_target_x': 0.0, 'foot_zmp_target_y': -0.03, 'walk_max_dtheta': 1.0, 'walk_max_dy': 0.1, 'walk_max_dx_forward': 0.08, 'walk_max_dx_backward': 0.03, 'joints': ['left_hip_yaw', 'left_hip_roll', 'left_hip_pitch', 'left_knee', 'left_ankle', 'neck_pitch', 'head_pitch', 'head_yaw', 'head_roll', 'left_antenna', 'right_antenna', 'right_hip_yaw', 'right_hip_roll', 'right_hip_pitch', 'right_knee', 'right_ankle'], 'joint_angles': {'neck_pitch': 0, 'head_pitch': 0, 'head_yaw': 0, 'head_roll': 0, 'left_antenna': 0, 'right_antenna': 0}}\n"
     ]
    },
    {
     "name": "stderr",
     "output_type": "stream",
     "text": [
      "WARNING: Robot has the following self collisions in neutral position:\n",
      "  -head_assembly_5 collides with left_antenna_holder_1\n",
      "  -head_assembly_6 collides with right_antenna_holder_0\n",
      "WARNING: Can't find head frames in the model, camera_look_at won't work\n"
     ]
    },
    {
     "name": "stdout",
     "output_type": "stream",
     "text": [
      "Placing the robot in the initial position...\n",
      "Initial position reached\n",
      "{'left_hip_yaw': 0.04384448495867586, 'left_hip_roll': 0.08227996528371245, 'left_hip_pitch': -0.4319707158813395, 'left_knee': 0.8340599878238436, 'left_ankle': -0.45531071231336245, 'neck_pitch': -5.040117786021889e-05, 'head_pitch': -4.725233687447016e-05, 'head_yaw': 3.2485822468381597e-06, 'head_roll': 2.1419222210315492e-06, 'left_antenna': 1.8133491084059128e-07, 'right_antenna': -1.8591539899450453e-07, 'right_hip_yaw': 0.038234121045090934, 'right_hip_roll': -0.022202701579960495, 'right_hip_pitch': 0.5520527357704211, 'right_knee': 1.1206501538861333, 'right_ankle': -0.6216497736939007}\n",
      "## period: 0.6599999999999999\n",
      "center_y_pos: -0.08\n",
      "recorded 300 frames\n",
      "avg lin_vel_x -0.0067\n",
      "avg lin_vel_y -0.0704\n",
      "avg yaw -0.0002\n",
      "DONE, saving 66.json\n"
     ]
    },
    {
     "name": "stderr",
     "output_type": "stream",
     "text": [
      "<frozen importlib._bootstrap>:219: RuntimeWarning: to-Python converter for std::vector<std::__cxx11::basic_string<char, std::char_traits<char>, std::allocator<char> >, std::allocator<std::__cxx11::basic_string<char, std::char_traits<char>, std::allocator<char> > > > already registered; second conversion method ignored.\n",
      "<frozen importlib._bootstrap>:219: RuntimeWarning: to-Python converter for std::vector<double, std::allocator<double> > already registered; second conversion method ignored.\n",
      "<frozen importlib._bootstrap>:219: RuntimeWarning: to-Python converter for std::vector<int, std::allocator<int> > already registered; second conversion method ignored.\n"
     ]
    },
    {
     "name": "stdout",
     "output_type": "stream",
     "text": [
      "gait_parameters {'dx': -0.03, 'dy': -0.01, 'dtheta': 0.22, 'duration': 8, 'hardware': True, 'double_support_ratio': 0.5, 'startend_double_support_ratio': 1.0, 'planned_timesteps': 48, 'replan_timesteps': 10, 'walk_com_height': 0.19, 'walk_foot_height': 0.03, 'walk_trunk_pitch': 5, 'walk_foot_rise_ratio': 0.02, 'single_support_duration': 0.18, 'single_support_timesteps': 10, 'foot_length': 0.06, 'feet_spacing': 0.16, 'zmp_margin': 0.0, 'foot_zmp_target_x': 0.0, 'foot_zmp_target_y': -0.03, 'walk_max_dtheta': 1.0, 'walk_max_dy': 0.1, 'walk_max_dx_forward': 0.08, 'walk_max_dx_backward': 0.03, 'joints': ['left_hip_yaw', 'left_hip_roll', 'left_hip_pitch', 'left_knee', 'left_ankle', 'neck_pitch', 'head_pitch', 'head_yaw', 'head_roll', 'left_antenna', 'right_antenna', 'right_hip_yaw', 'right_hip_roll', 'right_hip_pitch', 'right_knee', 'right_ankle'], 'joint_angles': {'neck_pitch': 0, 'head_pitch': 0, 'head_yaw': 0, 'head_roll': 0, 'left_antenna': 0, 'right_antenna': 0}}\n"
     ]
    },
    {
     "name": "stderr",
     "output_type": "stream",
     "text": [
      "WARNING: Robot has the following self collisions in neutral position:\n",
      "  -head_assembly_5 collides with left_antenna_holder_1\n",
      "  -head_assembly_6 collides with right_antenna_holder_0\n",
      "WARNING: Can't find head frames in the model, camera_look_at won't work\n"
     ]
    },
    {
     "name": "stdout",
     "output_type": "stream",
     "text": [
      "Placing the robot in the initial position...\n",
      "Initial position reached\n",
      "{'left_hip_yaw': 0.03856073916697742, 'left_hip_roll': 0.07691234231316556, 'left_hip_pitch': -0.1508004296650294, 'left_knee': 0.737914879554754, 'left_ankle': -0.5002092270122876, 'neck_pitch': -0.00014650529827118036, 'head_pitch': -8.113406909632949e-05, 'head_yaw': 5.24007316640369e-06, 'head_roll': 3.1548197389333287e-06, 'left_antenna': 1.0947757521027012e-07, 'right_antenna': -1.1587403430728602e-07, 'right_hip_yaw': 0.047723089820247096, 'right_hip_roll': -0.029051215821507007, 'right_hip_pitch': 0.2964067682733741, 'right_knee': 1.0861277494285748, 'right_ankle': -0.7030056538707278}\n",
      "## period: 0.54\n",
      "center_y_pos: -0.08\n",
      "recorded 300 frames\n",
      "avg lin_vel_x -0.0722\n",
      "avg lin_vel_y -0.079\n",
      "avg yaw 0.0266\n",
      "DONE, saving 67.json\n"
     ]
    },
    {
     "name": "stderr",
     "output_type": "stream",
     "text": [
      "<frozen importlib._bootstrap>:219: RuntimeWarning: to-Python converter for std::vector<std::__cxx11::basic_string<char, std::char_traits<char>, std::allocator<char> >, std::allocator<std::__cxx11::basic_string<char, std::char_traits<char>, std::allocator<char> > > > already registered; second conversion method ignored.\n",
      "<frozen importlib._bootstrap>:219: RuntimeWarning: to-Python converter for std::vector<double, std::allocator<double> > already registered; second conversion method ignored.\n",
      "<frozen importlib._bootstrap>:219: RuntimeWarning: to-Python converter for std::vector<int, std::allocator<int> > already registered; second conversion method ignored.\n"
     ]
    },
    {
     "name": "stdout",
     "output_type": "stream",
     "text": [
      "gait_parameters {'dx': 0.05, 'dy': -0.03, 'dtheta': -0.12, 'duration': 8, 'hardware': True, 'double_support_ratio': 0.5, 'startend_double_support_ratio': 1.0, 'planned_timesteps': 48, 'replan_timesteps': 10, 'walk_com_height': 0.19, 'walk_foot_height': 0.03, 'walk_trunk_pitch': -3, 'walk_foot_rise_ratio': 0.02, 'single_support_duration': 0.22, 'single_support_timesteps': 10, 'foot_length': 0.06, 'feet_spacing': 0.16, 'zmp_margin': 0.0, 'foot_zmp_target_x': 0.0, 'foot_zmp_target_y': -0.03, 'walk_max_dtheta': 1.0, 'walk_max_dy': 0.1, 'walk_max_dx_forward': 0.08, 'walk_max_dx_backward': 0.03, 'joints': ['left_hip_yaw', 'left_hip_roll', 'left_hip_pitch', 'left_knee', 'left_ankle', 'neck_pitch', 'head_pitch', 'head_yaw', 'head_roll', 'left_antenna', 'right_antenna', 'right_hip_yaw', 'right_hip_roll', 'right_hip_pitch', 'right_knee', 'right_ankle'], 'joint_angles': {'neck_pitch': 0, 'head_pitch': 0, 'head_yaw': 0, 'head_roll': 0, 'left_antenna': 0, 'right_antenna': 0}}\n"
     ]
    },
    {
     "name": "stderr",
     "output_type": "stream",
     "text": [
      "WARNING: Robot has the following self collisions in neutral position:\n",
      "  -head_assembly_5 collides with left_antenna_holder_1\n",
      "  -head_assembly_6 collides with right_antenna_holder_0\n",
      "WARNING: Can't find head frames in the model, camera_look_at won't work\n"
     ]
    },
    {
     "name": "stdout",
     "output_type": "stream",
     "text": [
      "Placing the robot in the initial position...\n",
      "Initial position reached\n",
      "{'left_hip_yaw': 0.04384448495867586, 'left_hip_roll': 0.08227996528371245, 'left_hip_pitch': -0.4319707158813395, 'left_knee': 0.8340599878238436, 'left_ankle': -0.45531071231336245, 'neck_pitch': -5.040117786021889e-05, 'head_pitch': -4.725233687447016e-05, 'head_yaw': 3.2485822468381597e-06, 'head_roll': 2.1419222210315492e-06, 'left_antenna': 1.8133491084059128e-07, 'right_antenna': -1.8591539899450453e-07, 'right_hip_yaw': 0.038234121045090934, 'right_hip_roll': -0.022202701579960495, 'right_hip_pitch': 0.5520527357704211, 'right_knee': 1.1206501538861333, 'right_ankle': -0.6216497736939007}\n",
      "## period: 0.6599999999999999\n",
      "center_y_pos: -0.08\n",
      "recorded 300 frames\n",
      "avg lin_vel_x -0.1668\n",
      "avg lin_vel_y 0.0513\n",
      "avg yaw -0.0046\n",
      "DONE, saving 68.json\n"
     ]
    },
    {
     "name": "stderr",
     "output_type": "stream",
     "text": [
      "<frozen importlib._bootstrap>:219: RuntimeWarning: to-Python converter for std::vector<std::__cxx11::basic_string<char, std::char_traits<char>, std::allocator<char> >, std::allocator<std::__cxx11::basic_string<char, std::char_traits<char>, std::allocator<char> > > > already registered; second conversion method ignored.\n",
      "<frozen importlib._bootstrap>:219: RuntimeWarning: to-Python converter for std::vector<double, std::allocator<double> > already registered; second conversion method ignored.\n",
      "<frozen importlib._bootstrap>:219: RuntimeWarning: to-Python converter for std::vector<int, std::allocator<int> > already registered; second conversion method ignored.\n"
     ]
    },
    {
     "name": "stdout",
     "output_type": "stream",
     "text": [
      "gait_parameters {'dx': -0.05, 'dy': -0.01, 'dtheta': -0.06, 'duration': 8, 'hardware': True, 'double_support_ratio': 0.5, 'startend_double_support_ratio': 1.0, 'planned_timesteps': 48, 'replan_timesteps': 10, 'walk_com_height': 0.19, 'walk_foot_height': 0.03, 'walk_trunk_pitch': 5, 'walk_foot_rise_ratio': 0.02, 'single_support_duration': 0.18, 'single_support_timesteps': 10, 'foot_length': 0.06, 'feet_spacing': 0.16, 'zmp_margin': 0.0, 'foot_zmp_target_x': 0.0, 'foot_zmp_target_y': -0.03, 'walk_max_dtheta': 1.0, 'walk_max_dy': 0.1, 'walk_max_dx_forward': 0.08, 'walk_max_dx_backward': 0.03, 'joints': ['left_hip_yaw', 'left_hip_roll', 'left_hip_pitch', 'left_knee', 'left_ankle', 'neck_pitch', 'head_pitch', 'head_yaw', 'head_roll', 'left_antenna', 'right_antenna', 'right_hip_yaw', 'right_hip_roll', 'right_hip_pitch', 'right_knee', 'right_ankle'], 'joint_angles': {'neck_pitch': 0, 'head_pitch': 0, 'head_yaw': 0, 'head_roll': 0, 'left_antenna': 0, 'right_antenna': 0}}\n"
     ]
    },
    {
     "name": "stderr",
     "output_type": "stream",
     "text": [
      "WARNING: Robot has the following self collisions in neutral position:\n",
      "  -head_assembly_5 collides with left_antenna_holder_1\n",
      "  -head_assembly_6 collides with right_antenna_holder_0\n",
      "WARNING: Can't find head frames in the model, camera_look_at won't work\n"
     ]
    },
    {
     "name": "stdout",
     "output_type": "stream",
     "text": [
      "Placing the robot in the initial position...\n",
      "Initial position reached\n",
      "{'left_hip_yaw': 0.03856073916697742, 'left_hip_roll': 0.07691234231316556, 'left_hip_pitch': -0.1508004296650294, 'left_knee': 0.737914879554754, 'left_ankle': -0.5002092270122876, 'neck_pitch': -0.00014650529827118036, 'head_pitch': -8.113406909632949e-05, 'head_yaw': 5.24007316640369e-06, 'head_roll': 3.1548197389333287e-06, 'left_antenna': 1.0947757521027012e-07, 'right_antenna': -1.1587403430728602e-07, 'right_hip_yaw': 0.047723089820247096, 'right_hip_roll': -0.029051215821507007, 'right_hip_pitch': 0.2964067682733741, 'right_knee': 1.0861277494285748, 'right_ankle': -0.7030056538707278}\n",
      "## period: 0.54\n",
      "center_y_pos: -0.08\n",
      "recorded 300 frames\n",
      "avg lin_vel_x -0.0814\n",
      "avg lin_vel_y 0.0803\n",
      "avg yaw -0.0005\n",
      "DONE, saving 69.json\n"
     ]
    },
    {
     "name": "stderr",
     "output_type": "stream",
     "text": [
      "<frozen importlib._bootstrap>:219: RuntimeWarning: to-Python converter for std::vector<std::__cxx11::basic_string<char, std::char_traits<char>, std::allocator<char> >, std::allocator<std::__cxx11::basic_string<char, std::char_traits<char>, std::allocator<char> > > > already registered; second conversion method ignored.\n",
      "<frozen importlib._bootstrap>:219: RuntimeWarning: to-Python converter for std::vector<double, std::allocator<double> > already registered; second conversion method ignored.\n",
      "<frozen importlib._bootstrap>:219: RuntimeWarning: to-Python converter for std::vector<int, std::allocator<int> > already registered; second conversion method ignored.\n"
     ]
    },
    {
     "name": "stdout",
     "output_type": "stream",
     "text": [
      "gait_parameters {'dx': 0.0, 'dy': -0.02, 'dtheta': 0.14, 'duration': 8, 'hardware': True, 'double_support_ratio': 0.5, 'startend_double_support_ratio': 1.0, 'planned_timesteps': 48, 'replan_timesteps': 10, 'walk_com_height': 0.19, 'walk_foot_height': 0.03, 'walk_trunk_pitch': 5, 'walk_foot_rise_ratio': 0.02, 'single_support_duration': 0.18, 'single_support_timesteps': 10, 'foot_length': 0.06, 'feet_spacing': 0.16, 'zmp_margin': 0.0, 'foot_zmp_target_x': 0.0, 'foot_zmp_target_y': -0.03, 'walk_max_dtheta': 1.0, 'walk_max_dy': 0.1, 'walk_max_dx_forward': 0.08, 'walk_max_dx_backward': 0.03, 'joints': ['left_hip_yaw', 'left_hip_roll', 'left_hip_pitch', 'left_knee', 'left_ankle', 'neck_pitch', 'head_pitch', 'head_yaw', 'head_roll', 'left_antenna', 'right_antenna', 'right_hip_yaw', 'right_hip_roll', 'right_hip_pitch', 'right_knee', 'right_ankle'], 'joint_angles': {'neck_pitch': 0, 'head_pitch': 0, 'head_yaw': 0, 'head_roll': 0, 'left_antenna': 0, 'right_antenna': 0}}\n"
     ]
    },
    {
     "name": "stderr",
     "output_type": "stream",
     "text": [
      "WARNING: Robot has the following self collisions in neutral position:\n",
      "  -head_assembly_5 collides with left_antenna_holder_1\n",
      "  -head_assembly_6 collides with right_antenna_holder_0\n",
      "WARNING: Can't find head frames in the model, camera_look_at won't work\n"
     ]
    },
    {
     "name": "stdout",
     "output_type": "stream",
     "text": [
      "Placing the robot in the initial position...\n",
      "Initial position reached\n",
      "{'left_hip_yaw': 0.03856073916697757, 'left_hip_roll': 0.07691234231316382, 'left_hip_pitch': -0.1508004296650313, 'left_knee': 0.7379148795547577, 'left_ankle': -0.5002092270122889, 'neck_pitch': -0.0001465052982711769, 'head_pitch': -8.113406909632722e-05, 'head_yaw': 5.240073166404728e-06, 'head_roll': 3.154819738933417e-06, 'left_antenna': 1.0947757521026423e-07, 'right_antenna': -1.1587403430728153e-07, 'right_hip_yaw': 0.04772308982024729, 'right_hip_roll': -0.02905121582150938, 'right_hip_pitch': 0.29640676827338475, 'right_knee': 1.0861277494285952, 'right_ankle': -0.7030056538707377}\n",
      "## period: 0.54\n",
      "center_y_pos: -0.08\n",
      "recorded 300 frames\n",
      "avg lin_vel_x -0.0559\n",
      "avg lin_vel_y 0.0057\n",
      "avg yaw 0.0121\n",
      "DONE, saving 70.json\n"
     ]
    },
    {
     "name": "stderr",
     "output_type": "stream",
     "text": [
      "<frozen importlib._bootstrap>:219: RuntimeWarning: to-Python converter for std::vector<std::__cxx11::basic_string<char, std::char_traits<char>, std::allocator<char> >, std::allocator<std::__cxx11::basic_string<char, std::char_traits<char>, std::allocator<char> > > > already registered; second conversion method ignored.\n",
      "<frozen importlib._bootstrap>:219: RuntimeWarning: to-Python converter for std::vector<double, std::allocator<double> > already registered; second conversion method ignored.\n",
      "<frozen importlib._bootstrap>:219: RuntimeWarning: to-Python converter for std::vector<int, std::allocator<int> > already registered; second conversion method ignored.\n"
     ]
    },
    {
     "name": "stdout",
     "output_type": "stream",
     "text": [
      "gait_parameters {'dx': 0.02, 'dy': -0.01, 'dtheta': 0.22, 'duration': 8, 'hardware': True, 'double_support_ratio': 0.5, 'startend_double_support_ratio': 1.0, 'planned_timesteps': 48, 'replan_timesteps': 10, 'walk_com_height': 0.19, 'walk_foot_height': 0.03, 'walk_trunk_pitch': 5, 'walk_foot_rise_ratio': 0.02, 'single_support_duration': 0.18, 'single_support_timesteps': 10, 'foot_length': 0.06, 'feet_spacing': 0.16, 'zmp_margin': 0.0, 'foot_zmp_target_x': 0.0, 'foot_zmp_target_y': -0.03, 'walk_max_dtheta': 1.0, 'walk_max_dy': 0.1, 'walk_max_dx_forward': 0.08, 'walk_max_dx_backward': 0.03, 'joints': ['left_hip_yaw', 'left_hip_roll', 'left_hip_pitch', 'left_knee', 'left_ankle', 'neck_pitch', 'head_pitch', 'head_yaw', 'head_roll', 'left_antenna', 'right_antenna', 'right_hip_yaw', 'right_hip_roll', 'right_hip_pitch', 'right_knee', 'right_ankle'], 'joint_angles': {'neck_pitch': 0, 'head_pitch': 0, 'head_yaw': 0, 'head_roll': 0, 'left_antenna': 0, 'right_antenna': 0}}\n"
     ]
    },
    {
     "name": "stderr",
     "output_type": "stream",
     "text": [
      "WARNING: Robot has the following self collisions in neutral position:\n",
      "  -head_assembly_5 collides with left_antenna_holder_1\n",
      "  -head_assembly_6 collides with right_antenna_holder_0\n",
      "WARNING: Can't find head frames in the model, camera_look_at won't work\n"
     ]
    },
    {
     "name": "stdout",
     "output_type": "stream",
     "text": [
      "Placing the robot in the initial position...\n",
      "Initial position reached\n",
      "{'left_hip_yaw': 0.03856073916697742, 'left_hip_roll': 0.07691234231316556, 'left_hip_pitch': -0.1508004296650294, 'left_knee': 0.737914879554754, 'left_ankle': -0.5002092270122876, 'neck_pitch': -0.00014650529827118036, 'head_pitch': -8.113406909632949e-05, 'head_yaw': 5.24007316640369e-06, 'head_roll': 3.1548197389333287e-06, 'left_antenna': 1.0947757521027012e-07, 'right_antenna': -1.1587403430728602e-07, 'right_hip_yaw': 0.047723089820247096, 'right_hip_roll': -0.029051215821507007, 'right_hip_pitch': 0.2964067682733741, 'right_knee': 1.0861277494285748, 'right_ankle': -0.7030056538707278}\n",
      "## period: 0.54\n",
      "center_y_pos: -0.08\n",
      "recorded 300 frames\n",
      "avg lin_vel_x 0.041\n",
      "avg lin_vel_y 0.0389\n",
      "avg yaw 0.0286\n",
      "DONE, saving 71.json\n"
     ]
    },
    {
     "name": "stderr",
     "output_type": "stream",
     "text": [
      "<frozen importlib._bootstrap>:219: RuntimeWarning: to-Python converter for std::vector<std::__cxx11::basic_string<char, std::char_traits<char>, std::allocator<char> >, std::allocator<std::__cxx11::basic_string<char, std::char_traits<char>, std::allocator<char> > > > already registered; second conversion method ignored.\n",
      "<frozen importlib._bootstrap>:219: RuntimeWarning: to-Python converter for std::vector<double, std::allocator<double> > already registered; second conversion method ignored.\n",
      "<frozen importlib._bootstrap>:219: RuntimeWarning: to-Python converter for std::vector<int, std::allocator<int> > already registered; second conversion method ignored.\n"
     ]
    },
    {
     "name": "stdout",
     "output_type": "stream",
     "text": [
      "gait_parameters {'dx': 0.03, 'dy': 0.05, 'dtheta': -0.02, 'duration': 8, 'hardware': True, 'double_support_ratio': 0.5, 'startend_double_support_ratio': 1.0, 'planned_timesteps': 48, 'replan_timesteps': 10, 'walk_com_height': 0.19, 'walk_foot_height': 0.03, 'walk_trunk_pitch': 5, 'walk_foot_rise_ratio': 0.02, 'single_support_duration': 0.18, 'single_support_timesteps': 10, 'foot_length': 0.06, 'feet_spacing': 0.16, 'zmp_margin': 0.0, 'foot_zmp_target_x': 0.0, 'foot_zmp_target_y': -0.03, 'walk_max_dtheta': 1.0, 'walk_max_dy': 0.1, 'walk_max_dx_forward': 0.08, 'walk_max_dx_backward': 0.03, 'joints': ['left_hip_yaw', 'left_hip_roll', 'left_hip_pitch', 'left_knee', 'left_ankle', 'neck_pitch', 'head_pitch', 'head_yaw', 'head_roll', 'left_antenna', 'right_antenna', 'right_hip_yaw', 'right_hip_roll', 'right_hip_pitch', 'right_knee', 'right_ankle'], 'joint_angles': {'neck_pitch': 0, 'head_pitch': 0, 'head_yaw': 0, 'head_roll': 0, 'left_antenna': 0, 'right_antenna': 0}}\n"
     ]
    },
    {
     "name": "stderr",
     "output_type": "stream",
     "text": [
      "WARNING: Robot has the following self collisions in neutral position:\n",
      "  -head_assembly_5 collides with left_antenna_holder_1\n",
      "  -head_assembly_6 collides with right_antenna_holder_0\n",
      "WARNING: Can't find head frames in the model, camera_look_at won't work\n"
     ]
    },
    {
     "name": "stdout",
     "output_type": "stream",
     "text": [
      "Placing the robot in the initial position...\n",
      "Initial position reached\n",
      "{'left_hip_yaw': 0.03856073916697742, 'left_hip_roll': 0.07691234231316556, 'left_hip_pitch': -0.1508004296650294, 'left_knee': 0.737914879554754, 'left_ankle': -0.5002092270122876, 'neck_pitch': -0.00014650529827118036, 'head_pitch': -8.113406909632949e-05, 'head_yaw': 5.24007316640369e-06, 'head_roll': 3.1548197389333287e-06, 'left_antenna': 1.0947757521027012e-07, 'right_antenna': -1.1587403430728602e-07, 'right_hip_yaw': 0.047723089820247096, 'right_hip_roll': -0.029051215821507007, 'right_hip_pitch': 0.2964067682733741, 'right_knee': 1.0861277494285748, 'right_ankle': -0.7030056538707278}\n",
      "## period: 0.54\n",
      "center_y_pos: -0.08\n",
      "recorded 300 frames\n",
      "avg lin_vel_x 0.1431\n",
      "avg lin_vel_y 0.1348\n",
      "avg yaw -0.0\n",
      "DONE, saving 72.json\n"
     ]
    },
    {
     "name": "stderr",
     "output_type": "stream",
     "text": [
      "<frozen importlib._bootstrap>:219: RuntimeWarning: to-Python converter for std::vector<std::__cxx11::basic_string<char, std::char_traits<char>, std::allocator<char> >, std::allocator<std::__cxx11::basic_string<char, std::char_traits<char>, std::allocator<char> > > > already registered; second conversion method ignored.\n",
      "<frozen importlib._bootstrap>:219: RuntimeWarning: to-Python converter for std::vector<double, std::allocator<double> > already registered; second conversion method ignored.\n",
      "<frozen importlib._bootstrap>:219: RuntimeWarning: to-Python converter for std::vector<int, std::allocator<int> > already registered; second conversion method ignored.\n"
     ]
    },
    {
     "name": "stdout",
     "output_type": "stream",
     "text": [
      "gait_parameters {'dx': -0.0, 'dy': 0.02, 'dtheta': -0.11, 'duration': 8, 'hardware': True, 'double_support_ratio': 0.5, 'startend_double_support_ratio': 1.0, 'planned_timesteps': 48, 'replan_timesteps': 10, 'walk_com_height': 0.19, 'walk_foot_height': 0.03, 'walk_trunk_pitch': -3, 'walk_foot_rise_ratio': 0.02, 'single_support_duration': 0.22, 'single_support_timesteps': 10, 'foot_length': 0.06, 'feet_spacing': 0.16, 'zmp_margin': 0.0, 'foot_zmp_target_x': 0.0, 'foot_zmp_target_y': -0.03, 'walk_max_dtheta': 1.0, 'walk_max_dy': 0.1, 'walk_max_dx_forward': 0.08, 'walk_max_dx_backward': 0.03, 'joints': ['left_hip_yaw', 'left_hip_roll', 'left_hip_pitch', 'left_knee', 'left_ankle', 'neck_pitch', 'head_pitch', 'head_yaw', 'head_roll', 'left_antenna', 'right_antenna', 'right_hip_yaw', 'right_hip_roll', 'right_hip_pitch', 'right_knee', 'right_ankle'], 'joint_angles': {'neck_pitch': 0, 'head_pitch': 0, 'head_yaw': 0, 'head_roll': 0, 'left_antenna': 0, 'right_antenna': 0}}\n"
     ]
    },
    {
     "name": "stderr",
     "output_type": "stream",
     "text": [
      "WARNING: Robot has the following self collisions in neutral position:\n",
      "  -head_assembly_5 collides with left_antenna_holder_1\n",
      "  -head_assembly_6 collides with right_antenna_holder_0\n",
      "WARNING: Can't find head frames in the model, camera_look_at won't work\n"
     ]
    },
    {
     "name": "stdout",
     "output_type": "stream",
     "text": [
      "Placing the robot in the initial position...\n",
      "Initial position reached\n",
      "{'left_hip_yaw': 0.04384448495867586, 'left_hip_roll': 0.08227996528371245, 'left_hip_pitch': -0.4319707158813395, 'left_knee': 0.8340599878238436, 'left_ankle': -0.45531071231336245, 'neck_pitch': -5.040117786021889e-05, 'head_pitch': -4.725233687447016e-05, 'head_yaw': 3.2485822468381597e-06, 'head_roll': 2.1419222210315492e-06, 'left_antenna': 1.8133491084059128e-07, 'right_antenna': -1.8591539899450453e-07, 'right_hip_yaw': 0.038234121045090934, 'right_hip_roll': -0.022202701579960495, 'right_hip_pitch': 0.5520527357704211, 'right_knee': 1.1206501538861333, 'right_ankle': -0.6216497736939007}\n",
      "## period: 0.6599999999999999\n",
      "center_y_pos: -0.08\n",
      "recorded 300 frames\n",
      "avg lin_vel_x 0.0334\n",
      "avg lin_vel_y -0.0366\n",
      "avg yaw -0.0038\n",
      "DONE, saving 73.json\n"
     ]
    },
    {
     "name": "stderr",
     "output_type": "stream",
     "text": [
      "<frozen importlib._bootstrap>:219: RuntimeWarning: to-Python converter for std::vector<std::__cxx11::basic_string<char, std::char_traits<char>, std::allocator<char> >, std::allocator<std::__cxx11::basic_string<char, std::char_traits<char>, std::allocator<char> > > > already registered; second conversion method ignored.\n",
      "<frozen importlib._bootstrap>:219: RuntimeWarning: to-Python converter for std::vector<double, std::allocator<double> > already registered; second conversion method ignored.\n",
      "<frozen importlib._bootstrap>:219: RuntimeWarning: to-Python converter for std::vector<int, std::allocator<int> > already registered; second conversion method ignored.\n"
     ]
    },
    {
     "name": "stdout",
     "output_type": "stream",
     "text": [
      "gait_parameters {'dx': -0.01, 'dy': -0.05, 'dtheta': 0.24, 'duration': 8, 'hardware': True, 'double_support_ratio': 0.5, 'startend_double_support_ratio': 1.0, 'planned_timesteps': 48, 'replan_timesteps': 10, 'walk_com_height': 0.19, 'walk_foot_height': 0.03, 'walk_trunk_pitch': 5, 'walk_foot_rise_ratio': 0.02, 'single_support_duration': 0.18, 'single_support_timesteps': 10, 'foot_length': 0.06, 'feet_spacing': 0.16, 'zmp_margin': 0.0, 'foot_zmp_target_x': 0.0, 'foot_zmp_target_y': -0.03, 'walk_max_dtheta': 1.0, 'walk_max_dy': 0.1, 'walk_max_dx_forward': 0.08, 'walk_max_dx_backward': 0.03, 'joints': ['left_hip_yaw', 'left_hip_roll', 'left_hip_pitch', 'left_knee', 'left_ankle', 'neck_pitch', 'head_pitch', 'head_yaw', 'head_roll', 'left_antenna', 'right_antenna', 'right_hip_yaw', 'right_hip_roll', 'right_hip_pitch', 'right_knee', 'right_ankle'], 'joint_angles': {'neck_pitch': 0, 'head_pitch': 0, 'head_yaw': 0, 'head_roll': 0, 'left_antenna': 0, 'right_antenna': 0}}\n"
     ]
    },
    {
     "name": "stderr",
     "output_type": "stream",
     "text": [
      "WARNING: Robot has the following self collisions in neutral position:\n",
      "  -head_assembly_5 collides with left_antenna_holder_1\n",
      "  -head_assembly_6 collides with right_antenna_holder_0\n",
      "WARNING: Can't find head frames in the model, camera_look_at won't work\n"
     ]
    },
    {
     "name": "stdout",
     "output_type": "stream",
     "text": [
      "Placing the robot in the initial position...\n",
      "Initial position reached\n",
      "{'left_hip_yaw': 0.03856073916697742, 'left_hip_roll': 0.07691234231316556, 'left_hip_pitch': -0.1508004296650294, 'left_knee': 0.737914879554754, 'left_ankle': -0.5002092270122876, 'neck_pitch': -0.00014650529827118036, 'head_pitch': -8.113406909632949e-05, 'head_yaw': 5.24007316640369e-06, 'head_roll': 3.1548197389333287e-06, 'left_antenna': 1.0947757521027012e-07, 'right_antenna': -1.1587403430728602e-07, 'right_hip_yaw': 0.047723089820247096, 'right_hip_roll': -0.029051215821507007, 'right_hip_pitch': 0.2964067682733741, 'right_knee': 1.0861277494285748, 'right_ankle': -0.7030056538707278}\n",
      "## period: 0.54\n",
      "center_y_pos: -0.08\n",
      "recorded 300 frames\n",
      "avg lin_vel_x 0.0719\n",
      "avg lin_vel_y -0.1223\n",
      "avg yaw 0.0277\n",
      "DONE, saving 74.json\n"
     ]
    },
    {
     "name": "stderr",
     "output_type": "stream",
     "text": [
      "<frozen importlib._bootstrap>:219: RuntimeWarning: to-Python converter for std::vector<std::__cxx11::basic_string<char, std::char_traits<char>, std::allocator<char> >, std::allocator<std::__cxx11::basic_string<char, std::char_traits<char>, std::allocator<char> > > > already registered; second conversion method ignored.\n",
      "<frozen importlib._bootstrap>:219: RuntimeWarning: to-Python converter for std::vector<double, std::allocator<double> > already registered; second conversion method ignored.\n",
      "<frozen importlib._bootstrap>:219: RuntimeWarning: to-Python converter for std::vector<int, std::allocator<int> > already registered; second conversion method ignored.\n"
     ]
    },
    {
     "name": "stdout",
     "output_type": "stream",
     "text": [
      "gait_parameters {'dx': 0.01, 'dy': -0.04, 'dtheta': -0.09, 'duration': 8, 'hardware': True, 'double_support_ratio': 0.5, 'startend_double_support_ratio': 1.0, 'planned_timesteps': 48, 'replan_timesteps': 10, 'walk_com_height': 0.19, 'walk_foot_height': 0.03, 'walk_trunk_pitch': -3, 'walk_foot_rise_ratio': 0.02, 'single_support_duration': 0.22, 'single_support_timesteps': 10, 'foot_length': 0.06, 'feet_spacing': 0.16, 'zmp_margin': 0.0, 'foot_zmp_target_x': 0.0, 'foot_zmp_target_y': -0.03, 'walk_max_dtheta': 1.0, 'walk_max_dy': 0.1, 'walk_max_dx_forward': 0.08, 'walk_max_dx_backward': 0.03, 'joints': ['left_hip_yaw', 'left_hip_roll', 'left_hip_pitch', 'left_knee', 'left_ankle', 'neck_pitch', 'head_pitch', 'head_yaw', 'head_roll', 'left_antenna', 'right_antenna', 'right_hip_yaw', 'right_hip_roll', 'right_hip_pitch', 'right_knee', 'right_ankle'], 'joint_angles': {'neck_pitch': 0, 'head_pitch': 0, 'head_yaw': 0, 'head_roll': 0, 'left_antenna': 0, 'right_antenna': 0}}\n"
     ]
    },
    {
     "name": "stderr",
     "output_type": "stream",
     "text": [
      "WARNING: Robot has the following self collisions in neutral position:\n",
      "  -head_assembly_5 collides with left_antenna_holder_1\n",
      "  -head_assembly_6 collides with right_antenna_holder_0\n",
      "WARNING: Can't find head frames in the model, camera_look_at won't work\n"
     ]
    },
    {
     "name": "stdout",
     "output_type": "stream",
     "text": [
      "Placing the robot in the initial position...\n",
      "Initial position reached\n",
      "{'left_hip_yaw': 0.04384448495867586, 'left_hip_roll': 0.08227996528371245, 'left_hip_pitch': -0.4319707158813395, 'left_knee': 0.8340599878238436, 'left_ankle': -0.45531071231336245, 'neck_pitch': -5.040117786021889e-05, 'head_pitch': -4.725233687447016e-05, 'head_yaw': 3.2485822468381597e-06, 'head_roll': 2.1419222210315492e-06, 'left_antenna': 1.8133491084059128e-07, 'right_antenna': -1.8591539899450453e-07, 'right_hip_yaw': 0.038234121045090934, 'right_hip_roll': -0.022202701579960495, 'right_hip_pitch': 0.5520527357704211, 'right_knee': 1.1206501538861333, 'right_ankle': -0.6216497736939007}\n",
      "## period: 0.6599999999999999\n",
      "center_y_pos: -0.08\n",
      "recorded 300 frames\n",
      "avg lin_vel_x -0.1269\n",
      "avg lin_vel_y 0.0384\n",
      "avg yaw -0.0025\n",
      "DONE, saving 75.json\n"
     ]
    },
    {
     "name": "stderr",
     "output_type": "stream",
     "text": [
      "<frozen importlib._bootstrap>:219: RuntimeWarning: to-Python converter for std::vector<std::__cxx11::basic_string<char, std::char_traits<char>, std::allocator<char> >, std::allocator<std::__cxx11::basic_string<char, std::char_traits<char>, std::allocator<char> > > > already registered; second conversion method ignored.\n",
      "<frozen importlib._bootstrap>:219: RuntimeWarning: to-Python converter for std::vector<double, std::allocator<double> > already registered; second conversion method ignored.\n",
      "<frozen importlib._bootstrap>:219: RuntimeWarning: to-Python converter for std::vector<int, std::allocator<int> > already registered; second conversion method ignored.\n"
     ]
    },
    {
     "name": "stdout",
     "output_type": "stream",
     "text": [
      "gait_parameters {'dx': 0.03, 'dy': 0.04, 'dtheta': 0.2, 'duration': 8, 'hardware': True, 'double_support_ratio': 0.5, 'startend_double_support_ratio': 1.0, 'planned_timesteps': 48, 'replan_timesteps': 10, 'walk_com_height': 0.19, 'walk_foot_height': 0.03, 'walk_trunk_pitch': 5, 'walk_foot_rise_ratio': 0.02, 'single_support_duration': 0.18, 'single_support_timesteps': 10, 'foot_length': 0.06, 'feet_spacing': 0.16, 'zmp_margin': 0.0, 'foot_zmp_target_x': 0.0, 'foot_zmp_target_y': -0.03, 'walk_max_dtheta': 1.0, 'walk_max_dy': 0.1, 'walk_max_dx_forward': 0.08, 'walk_max_dx_backward': 0.03, 'joints': ['left_hip_yaw', 'left_hip_roll', 'left_hip_pitch', 'left_knee', 'left_ankle', 'neck_pitch', 'head_pitch', 'head_yaw', 'head_roll', 'left_antenna', 'right_antenna', 'right_hip_yaw', 'right_hip_roll', 'right_hip_pitch', 'right_knee', 'right_ankle'], 'joint_angles': {'neck_pitch': 0, 'head_pitch': 0, 'head_yaw': 0, 'head_roll': 0, 'left_antenna': 0, 'right_antenna': 0}}\n"
     ]
    },
    {
     "name": "stderr",
     "output_type": "stream",
     "text": [
      "WARNING: Robot has the following self collisions in neutral position:\n",
      "  -head_assembly_5 collides with left_antenna_holder_1\n",
      "  -head_assembly_6 collides with right_antenna_holder_0\n",
      "WARNING: Can't find head frames in the model, camera_look_at won't work\n"
     ]
    },
    {
     "name": "stdout",
     "output_type": "stream",
     "text": [
      "Placing the robot in the initial position...\n",
      "Initial position reached\n",
      "{'left_hip_yaw': 0.03856073916697742, 'left_hip_roll': 0.07691234231316556, 'left_hip_pitch': -0.1508004296650294, 'left_knee': 0.737914879554754, 'left_ankle': -0.5002092270122876, 'neck_pitch': -0.00014650529827118036, 'head_pitch': -8.113406909632949e-05, 'head_yaw': 5.24007316640369e-06, 'head_roll': 3.1548197389333287e-06, 'left_antenna': 1.0947757521027012e-07, 'right_antenna': -1.1587403430728602e-07, 'right_hip_yaw': 0.047723089820247096, 'right_hip_roll': -0.029051215821507007, 'right_hip_pitch': 0.2964067682733741, 'right_knee': 1.0861277494285748, 'right_ankle': -0.7030056538707278}\n",
      "## period: 0.54\n",
      "center_y_pos: -0.08\n",
      "recorded 300 frames\n",
      "avg lin_vel_x 0.0334\n",
      "avg lin_vel_y 0.1766\n",
      "avg yaw 0.0238\n",
      "DONE, saving 76.json\n"
     ]
    },
    {
     "name": "stderr",
     "output_type": "stream",
     "text": [
      "<frozen importlib._bootstrap>:219: RuntimeWarning: to-Python converter for std::vector<std::__cxx11::basic_string<char, std::char_traits<char>, std::allocator<char> >, std::allocator<std::__cxx11::basic_string<char, std::char_traits<char>, std::allocator<char> > > > already registered; second conversion method ignored.\n",
      "<frozen importlib._bootstrap>:219: RuntimeWarning: to-Python converter for std::vector<double, std::allocator<double> > already registered; second conversion method ignored.\n",
      "<frozen importlib._bootstrap>:219: RuntimeWarning: to-Python converter for std::vector<int, std::allocator<int> > already registered; second conversion method ignored.\n"
     ]
    },
    {
     "name": "stdout",
     "output_type": "stream",
     "text": [
      "gait_parameters {'dx': 0.02, 'dy': 0.03, 'dtheta': -0.09, 'duration': 8, 'hardware': True, 'double_support_ratio': 0.5, 'startend_double_support_ratio': 1.0, 'planned_timesteps': 48, 'replan_timesteps': 10, 'walk_com_height': 0.19, 'walk_foot_height': 0.03, 'walk_trunk_pitch': -3, 'walk_foot_rise_ratio': 0.02, 'single_support_duration': 0.22, 'single_support_timesteps': 10, 'foot_length': 0.06, 'feet_spacing': 0.16, 'zmp_margin': 0.0, 'foot_zmp_target_x': 0.0, 'foot_zmp_target_y': -0.03, 'walk_max_dtheta': 1.0, 'walk_max_dy': 0.1, 'walk_max_dx_forward': 0.08, 'walk_max_dx_backward': 0.03, 'joints': ['left_hip_yaw', 'left_hip_roll', 'left_hip_pitch', 'left_knee', 'left_ankle', 'neck_pitch', 'head_pitch', 'head_yaw', 'head_roll', 'left_antenna', 'right_antenna', 'right_hip_yaw', 'right_hip_roll', 'right_hip_pitch', 'right_knee', 'right_ankle'], 'joint_angles': {'neck_pitch': 0, 'head_pitch': 0, 'head_yaw': 0, 'head_roll': 0, 'left_antenna': 0, 'right_antenna': 0}}\n"
     ]
    },
    {
     "name": "stderr",
     "output_type": "stream",
     "text": [
      "WARNING: Robot has the following self collisions in neutral position:\n",
      "  -head_assembly_5 collides with left_antenna_holder_1\n",
      "  -head_assembly_6 collides with right_antenna_holder_0\n",
      "WARNING: Can't find head frames in the model, camera_look_at won't work\n"
     ]
    },
    {
     "name": "stdout",
     "output_type": "stream",
     "text": [
      "Placing the robot in the initial position...\n",
      "Initial position reached\n",
      "{'left_hip_yaw': 0.04384448495867586, 'left_hip_roll': 0.08227996528371245, 'left_hip_pitch': -0.4319707158813395, 'left_knee': 0.8340599878238436, 'left_ankle': -0.45531071231336245, 'neck_pitch': -5.040117786021889e-05, 'head_pitch': -4.725233687447016e-05, 'head_yaw': 3.2485822468381597e-06, 'head_roll': 2.1419222210315492e-06, 'left_antenna': 1.8133491084059128e-07, 'right_antenna': -1.8591539899450453e-07, 'right_hip_yaw': 0.038234121045090934, 'right_hip_roll': -0.022202701579960495, 'right_hip_pitch': 0.5520527357704211, 'right_knee': 1.1206501538861333, 'right_ankle': -0.6216497736939007}\n",
      "## period: 0.6599999999999999\n",
      "center_y_pos: -0.08\n",
      "recorded 300 frames\n",
      "avg lin_vel_x 0.0474\n",
      "avg lin_vel_y -0.0858\n",
      "avg yaw -0.0025\n",
      "DONE, saving 77.json\n"
     ]
    },
    {
     "name": "stderr",
     "output_type": "stream",
     "text": [
      "<frozen importlib._bootstrap>:219: RuntimeWarning: to-Python converter for std::vector<std::__cxx11::basic_string<char, std::char_traits<char>, std::allocator<char> >, std::allocator<std::__cxx11::basic_string<char, std::char_traits<char>, std::allocator<char> > > > already registered; second conversion method ignored.\n",
      "<frozen importlib._bootstrap>:219: RuntimeWarning: to-Python converter for std::vector<double, std::allocator<double> > already registered; second conversion method ignored.\n",
      "<frozen importlib._bootstrap>:219: RuntimeWarning: to-Python converter for std::vector<int, std::allocator<int> > already registered; second conversion method ignored.\n"
     ]
    },
    {
     "name": "stdout",
     "output_type": "stream",
     "text": [
      "gait_parameters {'dx': -0.01, 'dy': 0.04, 'dtheta': -0.2, 'duration': 8, 'hardware': True, 'double_support_ratio': 0.5, 'startend_double_support_ratio': 1.0, 'planned_timesteps': 48, 'replan_timesteps': 10, 'walk_com_height': 0.19, 'walk_foot_height': 0.03, 'walk_trunk_pitch': -3, 'walk_foot_rise_ratio': 0.02, 'single_support_duration': 0.22, 'single_support_timesteps': 10, 'foot_length': 0.06, 'feet_spacing': 0.16, 'zmp_margin': 0.0, 'foot_zmp_target_x': 0.0, 'foot_zmp_target_y': -0.03, 'walk_max_dtheta': 1.0, 'walk_max_dy': 0.1, 'walk_max_dx_forward': 0.08, 'walk_max_dx_backward': 0.03, 'joints': ['left_hip_yaw', 'left_hip_roll', 'left_hip_pitch', 'left_knee', 'left_ankle', 'neck_pitch', 'head_pitch', 'head_yaw', 'head_roll', 'left_antenna', 'right_antenna', 'right_hip_yaw', 'right_hip_roll', 'right_hip_pitch', 'right_knee', 'right_ankle'], 'joint_angles': {'neck_pitch': 0, 'head_pitch': 0, 'head_yaw': 0, 'head_roll': 0, 'left_antenna': 0, 'right_antenna': 0}}\n"
     ]
    },
    {
     "name": "stderr",
     "output_type": "stream",
     "text": [
      "WARNING: Robot has the following self collisions in neutral position:\n",
      "  -head_assembly_5 collides with left_antenna_holder_1\n",
      "  -head_assembly_6 collides with right_antenna_holder_0\n",
      "WARNING: Can't find head frames in the model, camera_look_at won't work\n"
     ]
    },
    {
     "name": "stdout",
     "output_type": "stream",
     "text": [
      "Placing the robot in the initial position...\n",
      "Initial position reached\n",
      "{'left_hip_yaw': 0.04384448495867586, 'left_hip_roll': 0.08227996528371245, 'left_hip_pitch': -0.4319707158813395, 'left_knee': 0.8340599878238436, 'left_ankle': -0.45531071231336245, 'neck_pitch': -5.040117786021889e-05, 'head_pitch': -4.725233687447016e-05, 'head_yaw': 3.2485822468381597e-06, 'head_roll': 2.1419222210315492e-06, 'left_antenna': 1.8133491084059128e-07, 'right_antenna': -1.8591539899450453e-07, 'right_hip_yaw': 0.038234121045090934, 'right_hip_roll': -0.022202701579960495, 'right_hip_pitch': 0.5520527357704211, 'right_knee': 1.1206501538861333, 'right_ankle': -0.6216497736939007}\n",
      "## period: 0.6599999999999999\n",
      "center_y_pos: -0.08\n",
      "recorded 300 frames\n",
      "avg lin_vel_x -0.1003\n",
      "avg lin_vel_y -0.0304\n",
      "avg yaw -0.0137\n",
      "DONE, saving 78.json\n"
     ]
    },
    {
     "name": "stderr",
     "output_type": "stream",
     "text": [
      "<frozen importlib._bootstrap>:219: RuntimeWarning: to-Python converter for std::vector<std::__cxx11::basic_string<char, std::char_traits<char>, std::allocator<char> >, std::allocator<std::__cxx11::basic_string<char, std::char_traits<char>, std::allocator<char> > > > already registered; second conversion method ignored.\n",
      "<frozen importlib._bootstrap>:219: RuntimeWarning: to-Python converter for std::vector<double, std::allocator<double> > already registered; second conversion method ignored.\n",
      "<frozen importlib._bootstrap>:219: RuntimeWarning: to-Python converter for std::vector<int, std::allocator<int> > already registered; second conversion method ignored.\n"
     ]
    },
    {
     "name": "stdout",
     "output_type": "stream",
     "text": [
      "gait_parameters {'dx': 0.02, 'dy': -0.02, 'dtheta': -0.14, 'duration': 8, 'hardware': True, 'double_support_ratio': 0.5, 'startend_double_support_ratio': 1.0, 'planned_timesteps': 48, 'replan_timesteps': 10, 'walk_com_height': 0.19, 'walk_foot_height': 0.03, 'walk_trunk_pitch': 5, 'walk_foot_rise_ratio': 0.02, 'single_support_duration': 0.18, 'single_support_timesteps': 10, 'foot_length': 0.06, 'feet_spacing': 0.16, 'zmp_margin': 0.0, 'foot_zmp_target_x': 0.0, 'foot_zmp_target_y': -0.03, 'walk_max_dtheta': 1.0, 'walk_max_dy': 0.1, 'walk_max_dx_forward': 0.08, 'walk_max_dx_backward': 0.03, 'joints': ['left_hip_yaw', 'left_hip_roll', 'left_hip_pitch', 'left_knee', 'left_ankle', 'neck_pitch', 'head_pitch', 'head_yaw', 'head_roll', 'left_antenna', 'right_antenna', 'right_hip_yaw', 'right_hip_roll', 'right_hip_pitch', 'right_knee', 'right_ankle'], 'joint_angles': {'neck_pitch': 0, 'head_pitch': 0, 'head_yaw': 0, 'head_roll': 0, 'left_antenna': 0, 'right_antenna': 0}}\n"
     ]
    },
    {
     "name": "stderr",
     "output_type": "stream",
     "text": [
      "WARNING: Robot has the following self collisions in neutral position:\n",
      "  -head_assembly_5 collides with left_antenna_holder_1\n",
      "  -head_assembly_6 collides with right_antenna_holder_0\n",
      "WARNING: Can't find head frames in the model, camera_look_at won't work\n"
     ]
    },
    {
     "name": "stdout",
     "output_type": "stream",
     "text": [
      "Placing the robot in the initial position...\n",
      "Initial position reached\n",
      "{'left_hip_yaw': 0.03856073916697742, 'left_hip_roll': 0.07691234231316556, 'left_hip_pitch': -0.1508004296650294, 'left_knee': 0.737914879554754, 'left_ankle': -0.5002092270122876, 'neck_pitch': -0.00014650529827118036, 'head_pitch': -8.113406909632949e-05, 'head_yaw': 5.24007316640369e-06, 'head_roll': 3.1548197389333287e-06, 'left_antenna': 1.0947757521027012e-07, 'right_antenna': -1.1587403430728602e-07, 'right_hip_yaw': 0.047723089820247096, 'right_hip_roll': -0.029051215821507007, 'right_hip_pitch': 0.2964067682733741, 'right_knee': 1.0861277494285748, 'right_ankle': -0.7030056538707278}\n",
      "## period: 0.54\n",
      "center_y_pos: -0.08\n",
      "recorded 300 frames\n",
      "avg lin_vel_x 0.0212\n",
      "avg lin_vel_y 0.1084\n",
      "avg yaw -0.0092\n",
      "DONE, saving 79.json\n"
     ]
    },
    {
     "name": "stderr",
     "output_type": "stream",
     "text": [
      "<frozen importlib._bootstrap>:219: RuntimeWarning: to-Python converter for std::vector<std::__cxx11::basic_string<char, std::char_traits<char>, std::allocator<char> >, std::allocator<std::__cxx11::basic_string<char, std::char_traits<char>, std::allocator<char> > > > already registered; second conversion method ignored.\n",
      "<frozen importlib._bootstrap>:219: RuntimeWarning: to-Python converter for std::vector<double, std::allocator<double> > already registered; second conversion method ignored.\n",
      "<frozen importlib._bootstrap>:219: RuntimeWarning: to-Python converter for std::vector<int, std::allocator<int> > already registered; second conversion method ignored.\n"
     ]
    },
    {
     "name": "stdout",
     "output_type": "stream",
     "text": [
      "gait_parameters {'dx': -0.02, 'dy': -0.05, 'dtheta': 0.08, 'duration': 8, 'hardware': True, 'double_support_ratio': 0.5, 'startend_double_support_ratio': 1.0, 'planned_timesteps': 48, 'replan_timesteps': 10, 'walk_com_height': 0.19, 'walk_foot_height': 0.03, 'walk_trunk_pitch': 5, 'walk_foot_rise_ratio': 0.02, 'single_support_duration': 0.18, 'single_support_timesteps': 10, 'foot_length': 0.06, 'feet_spacing': 0.16, 'zmp_margin': 0.0, 'foot_zmp_target_x': 0.0, 'foot_zmp_target_y': -0.03, 'walk_max_dtheta': 1.0, 'walk_max_dy': 0.1, 'walk_max_dx_forward': 0.08, 'walk_max_dx_backward': 0.03, 'joints': ['left_hip_yaw', 'left_hip_roll', 'left_hip_pitch', 'left_knee', 'left_ankle', 'neck_pitch', 'head_pitch', 'head_yaw', 'head_roll', 'left_antenna', 'right_antenna', 'right_hip_yaw', 'right_hip_roll', 'right_hip_pitch', 'right_knee', 'right_ankle'], 'joint_angles': {'neck_pitch': 0, 'head_pitch': 0, 'head_yaw': 0, 'head_roll': 0, 'left_antenna': 0, 'right_antenna': 0}}\n"
     ]
    },
    {
     "name": "stderr",
     "output_type": "stream",
     "text": [
      "WARNING: Robot has the following self collisions in neutral position:\n",
      "  -head_assembly_5 collides with left_antenna_holder_1\n",
      "  -head_assembly_6 collides with right_antenna_holder_0\n",
      "WARNING: Can't find head frames in the model, camera_look_at won't work\n"
     ]
    },
    {
     "name": "stdout",
     "output_type": "stream",
     "text": [
      "Placing the robot in the initial position...\n",
      "Initial position reached\n",
      "{'left_hip_yaw': 0.03856073916697742, 'left_hip_roll': 0.07691234231316556, 'left_hip_pitch': -0.1508004296650294, 'left_knee': 0.737914879554754, 'left_ankle': -0.5002092270122876, 'neck_pitch': -0.00014650529827118036, 'head_pitch': -8.113406909632949e-05, 'head_yaw': 5.24007316640369e-06, 'head_roll': 3.1548197389333287e-06, 'left_antenna': 1.0947757521027012e-07, 'right_antenna': -1.1587403430728602e-07, 'right_hip_yaw': 0.047723089820247096, 'right_hip_roll': -0.029051215821507007, 'right_hip_pitch': 0.2964067682733741, 'right_knee': 1.0861277494285748, 'right_ankle': -0.7030056538707278}\n",
      "## period: 0.54\n",
      "center_y_pos: -0.08\n",
      "recorded 300 frames\n",
      "avg lin_vel_x 0.1487\n",
      "avg lin_vel_y 0.0941\n",
      "avg yaw 0.0036\n",
      "DONE, saving 80.json\n"
     ]
    },
    {
     "name": "stderr",
     "output_type": "stream",
     "text": [
      "<frozen importlib._bootstrap>:219: RuntimeWarning: to-Python converter for std::vector<std::__cxx11::basic_string<char, std::char_traits<char>, std::allocator<char> >, std::allocator<std::__cxx11::basic_string<char, std::char_traits<char>, std::allocator<char> > > > already registered; second conversion method ignored.\n",
      "<frozen importlib._bootstrap>:219: RuntimeWarning: to-Python converter for std::vector<double, std::allocator<double> > already registered; second conversion method ignored.\n",
      "<frozen importlib._bootstrap>:219: RuntimeWarning: to-Python converter for std::vector<int, std::allocator<int> > already registered; second conversion method ignored.\n"
     ]
    },
    {
     "name": "stdout",
     "output_type": "stream",
     "text": [
      "gait_parameters {'dx': 0.04, 'dy': -0.01, 'dtheta': -0.15, 'duration': 8, 'hardware': True, 'double_support_ratio': 0.5, 'startend_double_support_ratio': 1.0, 'planned_timesteps': 48, 'replan_timesteps': 10, 'walk_com_height': 0.19, 'walk_foot_height': 0.03, 'walk_trunk_pitch': -3, 'walk_foot_rise_ratio': 0.02, 'single_support_duration': 0.22, 'single_support_timesteps': 10, 'foot_length': 0.06, 'feet_spacing': 0.16, 'zmp_margin': 0.0, 'foot_zmp_target_x': 0.0, 'foot_zmp_target_y': -0.03, 'walk_max_dtheta': 1.0, 'walk_max_dy': 0.1, 'walk_max_dx_forward': 0.08, 'walk_max_dx_backward': 0.03, 'joints': ['left_hip_yaw', 'left_hip_roll', 'left_hip_pitch', 'left_knee', 'left_ankle', 'neck_pitch', 'head_pitch', 'head_yaw', 'head_roll', 'left_antenna', 'right_antenna', 'right_hip_yaw', 'right_hip_roll', 'right_hip_pitch', 'right_knee', 'right_ankle'], 'joint_angles': {'neck_pitch': 0, 'head_pitch': 0, 'head_yaw': 0, 'head_roll': 0, 'left_antenna': 0, 'right_antenna': 0}}\n"
     ]
    },
    {
     "name": "stderr",
     "output_type": "stream",
     "text": [
      "WARNING: Robot has the following self collisions in neutral position:\n",
      "  -head_assembly_5 collides with left_antenna_holder_1\n",
      "  -head_assembly_6 collides with right_antenna_holder_0\n",
      "WARNING: Can't find head frames in the model, camera_look_at won't work\n"
     ]
    },
    {
     "name": "stdout",
     "output_type": "stream",
     "text": [
      "Placing the robot in the initial position...\n",
      "Initial position reached\n",
      "{'left_hip_yaw': 0.04384448495867586, 'left_hip_roll': 0.08227996528371245, 'left_hip_pitch': -0.4319707158813395, 'left_knee': 0.8340599878238436, 'left_ankle': -0.45531071231336245, 'neck_pitch': -5.040117786021889e-05, 'head_pitch': -4.725233687447016e-05, 'head_yaw': 3.2485822468381597e-06, 'head_roll': 2.1419222210315492e-06, 'left_antenna': 1.8133491084059128e-07, 'right_antenna': -1.8591539899450453e-07, 'right_hip_yaw': 0.038234121045090934, 'right_hip_roll': -0.022202701579960495, 'right_hip_pitch': 0.5520527357704211, 'right_knee': 1.1206501538861333, 'right_ankle': -0.6216497736939007}\n",
      "## period: 0.6599999999999999\n",
      "center_y_pos: -0.08\n",
      "recorded 300 frames\n",
      "avg lin_vel_x -0.0783\n",
      "avg lin_vel_y 0.086\n",
      "avg yaw -0.0075\n",
      "DONE, saving 81.json\n"
     ]
    },
    {
     "name": "stderr",
     "output_type": "stream",
     "text": [
      "<frozen importlib._bootstrap>:219: RuntimeWarning: to-Python converter for std::vector<std::__cxx11::basic_string<char, std::char_traits<char>, std::allocator<char> >, std::allocator<std::__cxx11::basic_string<char, std::char_traits<char>, std::allocator<char> > > > already registered; second conversion method ignored.\n",
      "<frozen importlib._bootstrap>:219: RuntimeWarning: to-Python converter for std::vector<double, std::allocator<double> > already registered; second conversion method ignored.\n",
      "<frozen importlib._bootstrap>:219: RuntimeWarning: to-Python converter for std::vector<int, std::allocator<int> > already registered; second conversion method ignored.\n"
     ]
    },
    {
     "name": "stdout",
     "output_type": "stream",
     "text": [
      "gait_parameters {'dx': -0.04, 'dy': 0.03, 'dtheta': -0.09, 'duration': 8, 'hardware': True, 'double_support_ratio': 0.5, 'startend_double_support_ratio': 1.0, 'planned_timesteps': 48, 'replan_timesteps': 10, 'walk_com_height': 0.19, 'walk_foot_height': 0.03, 'walk_trunk_pitch': 5, 'walk_foot_rise_ratio': 0.02, 'single_support_duration': 0.18, 'single_support_timesteps': 10, 'foot_length': 0.06, 'feet_spacing': 0.16, 'zmp_margin': 0.0, 'foot_zmp_target_x': 0.0, 'foot_zmp_target_y': -0.03, 'walk_max_dtheta': 1.0, 'walk_max_dy': 0.1, 'walk_max_dx_forward': 0.08, 'walk_max_dx_backward': 0.03, 'joints': ['left_hip_yaw', 'left_hip_roll', 'left_hip_pitch', 'left_knee', 'left_ankle', 'neck_pitch', 'head_pitch', 'head_yaw', 'head_roll', 'left_antenna', 'right_antenna', 'right_hip_yaw', 'right_hip_roll', 'right_hip_pitch', 'right_knee', 'right_ankle'], 'joint_angles': {'neck_pitch': 0, 'head_pitch': 0, 'head_yaw': 0, 'head_roll': 0, 'left_antenna': 0, 'right_antenna': 0}}\n"
     ]
    },
    {
     "name": "stderr",
     "output_type": "stream",
     "text": [
      "WARNING: Robot has the following self collisions in neutral position:\n",
      "  -head_assembly_5 collides with left_antenna_holder_1\n",
      "  -head_assembly_6 collides with right_antenna_holder_0\n",
      "WARNING: Can't find head frames in the model, camera_look_at won't work\n"
     ]
    },
    {
     "name": "stdout",
     "output_type": "stream",
     "text": [
      "Placing the robot in the initial position...\n",
      "Initial position reached\n",
      "{'left_hip_yaw': 0.03856073916697742, 'left_hip_roll': 0.07691234231316556, 'left_hip_pitch': -0.1508004296650294, 'left_knee': 0.737914879554754, 'left_ankle': -0.5002092270122876, 'neck_pitch': -0.00014650529827118036, 'head_pitch': -8.113406909632949e-05, 'head_yaw': 5.24007316640369e-06, 'head_roll': 3.1548197389333287e-06, 'left_antenna': 1.0947757521027012e-07, 'right_antenna': -1.1587403430728602e-07, 'right_hip_yaw': 0.047723089820247096, 'right_hip_roll': -0.029051215821507007, 'right_hip_pitch': 0.2964067682733741, 'right_knee': 1.0861277494285748, 'right_ankle': -0.7030056538707278}\n",
      "## period: 0.54\n",
      "center_y_pos: -0.08\n",
      "recorded 300 frames\n",
      "avg lin_vel_x 0.1104\n",
      "avg lin_vel_y 0.0798\n",
      "avg yaw -0.0019\n",
      "DONE, saving 82.json\n"
     ]
    },
    {
     "name": "stderr",
     "output_type": "stream",
     "text": [
      "<frozen importlib._bootstrap>:219: RuntimeWarning: to-Python converter for std::vector<std::__cxx11::basic_string<char, std::char_traits<char>, std::allocator<char> >, std::allocator<std::__cxx11::basic_string<char, std::char_traits<char>, std::allocator<char> > > > already registered; second conversion method ignored.\n",
      "<frozen importlib._bootstrap>:219: RuntimeWarning: to-Python converter for std::vector<double, std::allocator<double> > already registered; second conversion method ignored.\n",
      "<frozen importlib._bootstrap>:219: RuntimeWarning: to-Python converter for std::vector<int, std::allocator<int> > already registered; second conversion method ignored.\n"
     ]
    },
    {
     "name": "stdout",
     "output_type": "stream",
     "text": [
      "gait_parameters {'dx': -0.0, 'dy': -0.03, 'dtheta': -0.22, 'duration': 8, 'hardware': True, 'double_support_ratio': 0.5, 'startend_double_support_ratio': 1.0, 'planned_timesteps': 48, 'replan_timesteps': 10, 'walk_com_height': 0.19, 'walk_foot_height': 0.03, 'walk_trunk_pitch': -3, 'walk_foot_rise_ratio': 0.02, 'single_support_duration': 0.22, 'single_support_timesteps': 10, 'foot_length': 0.06, 'feet_spacing': 0.16, 'zmp_margin': 0.0, 'foot_zmp_target_x': 0.0, 'foot_zmp_target_y': -0.03, 'walk_max_dtheta': 1.0, 'walk_max_dy': 0.1, 'walk_max_dx_forward': 0.08, 'walk_max_dx_backward': 0.03, 'joints': ['left_hip_yaw', 'left_hip_roll', 'left_hip_pitch', 'left_knee', 'left_ankle', 'neck_pitch', 'head_pitch', 'head_yaw', 'head_roll', 'left_antenna', 'right_antenna', 'right_hip_yaw', 'right_hip_roll', 'right_hip_pitch', 'right_knee', 'right_ankle'], 'joint_angles': {'neck_pitch': 0, 'head_pitch': 0, 'head_yaw': 0, 'head_roll': 0, 'left_antenna': 0, 'right_antenna': 0}}\n"
     ]
    },
    {
     "name": "stderr",
     "output_type": "stream",
     "text": [
      "WARNING: Robot has the following self collisions in neutral position:\n",
      "  -head_assembly_5 collides with left_antenna_holder_1\n",
      "  -head_assembly_6 collides with right_antenna_holder_0\n",
      "WARNING: Can't find head frames in the model, camera_look_at won't work\n"
     ]
    },
    {
     "name": "stdout",
     "output_type": "stream",
     "text": [
      "Placing the robot in the initial position...\n",
      "Initial position reached\n",
      "{'left_hip_yaw': 0.04384448495867586, 'left_hip_roll': 0.08227996528371245, 'left_hip_pitch': -0.4319707158813395, 'left_knee': 0.8340599878238436, 'left_ankle': -0.45531071231336245, 'neck_pitch': -5.040117786021889e-05, 'head_pitch': -4.725233687447016e-05, 'head_yaw': 3.2485822468381597e-06, 'head_roll': 2.1419222210315492e-06, 'left_antenna': 1.8133491084059128e-07, 'right_antenna': -1.8591539899450453e-07, 'right_hip_yaw': 0.038234121045090934, 'right_hip_roll': -0.022202701579960495, 'right_hip_pitch': 0.5520527357704211, 'right_knee': 1.1206501538861333, 'right_ankle': -0.6216497736939007}\n",
      "## period: 0.6599999999999999\n",
      "center_y_pos: -0.08\n",
      "recorded 300 frames\n",
      "avg lin_vel_x 0.0748\n",
      "avg lin_vel_y -0.0777\n",
      "avg yaw -0.0168\n",
      "DONE, saving 83.json\n"
     ]
    },
    {
     "name": "stderr",
     "output_type": "stream",
     "text": [
      "<frozen importlib._bootstrap>:219: RuntimeWarning: to-Python converter for std::vector<std::__cxx11::basic_string<char, std::char_traits<char>, std::allocator<char> >, std::allocator<std::__cxx11::basic_string<char, std::char_traits<char>, std::allocator<char> > > > already registered; second conversion method ignored.\n",
      "<frozen importlib._bootstrap>:219: RuntimeWarning: to-Python converter for std::vector<double, std::allocator<double> > already registered; second conversion method ignored.\n",
      "<frozen importlib._bootstrap>:219: RuntimeWarning: to-Python converter for std::vector<int, std::allocator<int> > already registered; second conversion method ignored.\n"
     ]
    },
    {
     "name": "stdout",
     "output_type": "stream",
     "text": [
      "gait_parameters {'dx': -0.02, 'dy': -0.0, 'dtheta': 0.06, 'duration': 8, 'hardware': True, 'double_support_ratio': 0.5, 'startend_double_support_ratio': 1.0, 'planned_timesteps': 48, 'replan_timesteps': 10, 'walk_com_height': 0.19, 'walk_foot_height': 0.03, 'walk_trunk_pitch': 5, 'walk_foot_rise_ratio': 0.02, 'single_support_duration': 0.18, 'single_support_timesteps': 10, 'foot_length': 0.06, 'feet_spacing': 0.16, 'zmp_margin': 0.0, 'foot_zmp_target_x': 0.0, 'foot_zmp_target_y': -0.03, 'walk_max_dtheta': 1.0, 'walk_max_dy': 0.1, 'walk_max_dx_forward': 0.08, 'walk_max_dx_backward': 0.03, 'joints': ['left_hip_yaw', 'left_hip_roll', 'left_hip_pitch', 'left_knee', 'left_ankle', 'neck_pitch', 'head_pitch', 'head_yaw', 'head_roll', 'left_antenna', 'right_antenna', 'right_hip_yaw', 'right_hip_roll', 'right_hip_pitch', 'right_knee', 'right_ankle'], 'joint_angles': {'neck_pitch': 0, 'head_pitch': 0, 'head_yaw': 0, 'head_roll': 0, 'left_antenna': 0, 'right_antenna': 0}}\n"
     ]
    },
    {
     "name": "stderr",
     "output_type": "stream",
     "text": [
      "WARNING: Robot has the following self collisions in neutral position:\n",
      "  -head_assembly_5 collides with left_antenna_holder_1\n",
      "  -head_assembly_6 collides with right_antenna_holder_0\n",
      "WARNING: Can't find head frames in the model, camera_look_at won't work\n"
     ]
    },
    {
     "name": "stdout",
     "output_type": "stream",
     "text": [
      "Placing the robot in the initial position...\n",
      "Initial position reached\n",
      "{'left_hip_yaw': 0.03856073916697742, 'left_hip_roll': 0.07691234231316556, 'left_hip_pitch': -0.1508004296650294, 'left_knee': 0.737914879554754, 'left_ankle': -0.5002092270122876, 'neck_pitch': -0.00014650529827118036, 'head_pitch': -8.113406909632949e-05, 'head_yaw': 5.24007316640369e-06, 'head_roll': 3.1548197389333287e-06, 'left_antenna': 1.0947757521027012e-07, 'right_antenna': -1.1587403430728602e-07, 'right_hip_yaw': 0.047723089820247096, 'right_hip_roll': -0.029051215821507007, 'right_hip_pitch': 0.2964067682733741, 'right_knee': 1.0861277494285748, 'right_ankle': -0.7030056538707278}\n",
      "## period: 0.54\n",
      "center_y_pos: -0.08\n",
      "recorded 300 frames\n",
      "avg lin_vel_x 0.0378\n",
      "avg lin_vel_y -0.0694\n",
      "avg yaw 0.0026\n",
      "DONE, saving 84.json\n"
     ]
    },
    {
     "name": "stderr",
     "output_type": "stream",
     "text": [
      "<frozen importlib._bootstrap>:219: RuntimeWarning: to-Python converter for std::vector<std::__cxx11::basic_string<char, std::char_traits<char>, std::allocator<char> >, std::allocator<std::__cxx11::basic_string<char, std::char_traits<char>, std::allocator<char> > > > already registered; second conversion method ignored.\n",
      "<frozen importlib._bootstrap>:219: RuntimeWarning: to-Python converter for std::vector<double, std::allocator<double> > already registered; second conversion method ignored.\n",
      "<frozen importlib._bootstrap>:219: RuntimeWarning: to-Python converter for std::vector<int, std::allocator<int> > already registered; second conversion method ignored.\n"
     ]
    },
    {
     "name": "stdout",
     "output_type": "stream",
     "text": [
      "gait_parameters {'dx': -0.04, 'dy': 0.02, 'dtheta': -0.07, 'duration': 8, 'hardware': True, 'double_support_ratio': 0.5, 'startend_double_support_ratio': 1.0, 'planned_timesteps': 48, 'replan_timesteps': 10, 'walk_com_height': 0.19, 'walk_foot_height': 0.03, 'walk_trunk_pitch': 5, 'walk_foot_rise_ratio': 0.02, 'single_support_duration': 0.18, 'single_support_timesteps': 10, 'foot_length': 0.06, 'feet_spacing': 0.16, 'zmp_margin': 0.0, 'foot_zmp_target_x': 0.0, 'foot_zmp_target_y': -0.03, 'walk_max_dtheta': 1.0, 'walk_max_dy': 0.1, 'walk_max_dx_forward': 0.08, 'walk_max_dx_backward': 0.03, 'joints': ['left_hip_yaw', 'left_hip_roll', 'left_hip_pitch', 'left_knee', 'left_ankle', 'neck_pitch', 'head_pitch', 'head_yaw', 'head_roll', 'left_antenna', 'right_antenna', 'right_hip_yaw', 'right_hip_roll', 'right_hip_pitch', 'right_knee', 'right_ankle'], 'joint_angles': {'neck_pitch': 0, 'head_pitch': 0, 'head_yaw': 0, 'head_roll': 0, 'left_antenna': 0, 'right_antenna': 0}}\n"
     ]
    },
    {
     "name": "stderr",
     "output_type": "stream",
     "text": [
      "WARNING: Robot has the following self collisions in neutral position:\n",
      "  -head_assembly_5 collides with left_antenna_holder_1\n",
      "  -head_assembly_6 collides with right_antenna_holder_0\n",
      "WARNING: Can't find head frames in the model, camera_look_at won't work\n"
     ]
    },
    {
     "name": "stdout",
     "output_type": "stream",
     "text": [
      "Placing the robot in the initial position...\n",
      "Initial position reached\n",
      "{'left_hip_yaw': 0.03856073916697742, 'left_hip_roll': 0.07691234231316556, 'left_hip_pitch': -0.1508004296650294, 'left_knee': 0.737914879554754, 'left_ankle': -0.5002092270122876, 'neck_pitch': -0.00014650529827118036, 'head_pitch': -8.113406909632949e-05, 'head_yaw': 5.24007316640369e-06, 'head_roll': 3.1548197389333287e-06, 'left_antenna': 1.0947757521027012e-07, 'right_antenna': -1.1587403430728602e-07, 'right_hip_yaw': 0.047723089820247096, 'right_hip_roll': -0.029051215821507007, 'right_hip_pitch': 0.2964067682733741, 'right_knee': 1.0861277494285748, 'right_ankle': -0.7030056538707278}\n",
      "## period: 0.54\n",
      "center_y_pos: -0.08\n",
      "recorded 300 frames\n",
      "avg lin_vel_x 0.0401\n",
      "avg lin_vel_y 0.1181\n",
      "avg yaw -0.0011\n",
      "DONE, saving 85.json\n"
     ]
    },
    {
     "name": "stderr",
     "output_type": "stream",
     "text": [
      "<frozen importlib._bootstrap>:219: RuntimeWarning: to-Python converter for std::vector<std::__cxx11::basic_string<char, std::char_traits<char>, std::allocator<char> >, std::allocator<std::__cxx11::basic_string<char, std::char_traits<char>, std::allocator<char> > > > already registered; second conversion method ignored.\n",
      "<frozen importlib._bootstrap>:219: RuntimeWarning: to-Python converter for std::vector<double, std::allocator<double> > already registered; second conversion method ignored.\n",
      "<frozen importlib._bootstrap>:219: RuntimeWarning: to-Python converter for std::vector<int, std::allocator<int> > already registered; second conversion method ignored.\n"
     ]
    },
    {
     "name": "stdout",
     "output_type": "stream",
     "text": [
      "gait_parameters {'dx': 0.04, 'dy': -0.01, 'dtheta': 0.2, 'duration': 8, 'hardware': True, 'double_support_ratio': 0.5, 'startend_double_support_ratio': 1.0, 'planned_timesteps': 48, 'replan_timesteps': 10, 'walk_com_height': 0.19, 'walk_foot_height': 0.03, 'walk_trunk_pitch': 5, 'walk_foot_rise_ratio': 0.02, 'single_support_duration': 0.18, 'single_support_timesteps': 10, 'foot_length': 0.06, 'feet_spacing': 0.16, 'zmp_margin': 0.0, 'foot_zmp_target_x': 0.0, 'foot_zmp_target_y': -0.03, 'walk_max_dtheta': 1.0, 'walk_max_dy': 0.1, 'walk_max_dx_forward': 0.08, 'walk_max_dx_backward': 0.03, 'joints': ['left_hip_yaw', 'left_hip_roll', 'left_hip_pitch', 'left_knee', 'left_ankle', 'neck_pitch', 'head_pitch', 'head_yaw', 'head_roll', 'left_antenna', 'right_antenna', 'right_hip_yaw', 'right_hip_roll', 'right_hip_pitch', 'right_knee', 'right_ankle'], 'joint_angles': {'neck_pitch': 0, 'head_pitch': 0, 'head_yaw': 0, 'head_roll': 0, 'left_antenna': 0, 'right_antenna': 0}}\n"
     ]
    },
    {
     "name": "stderr",
     "output_type": "stream",
     "text": [
      "WARNING: Robot has the following self collisions in neutral position:\n",
      "  -head_assembly_5 collides with left_antenna_holder_1\n",
      "  -head_assembly_6 collides with right_antenna_holder_0\n",
      "WARNING: Can't find head frames in the model, camera_look_at won't work\n"
     ]
    },
    {
     "name": "stdout",
     "output_type": "stream",
     "text": [
      "Placing the robot in the initial position...\n",
      "Initial position reached\n",
      "{'left_hip_yaw': 0.03856073916697742, 'left_hip_roll': 0.07691234231316556, 'left_hip_pitch': -0.1508004296650294, 'left_knee': 0.737914879554754, 'left_ankle': -0.5002092270122876, 'neck_pitch': -0.00014650529827118036, 'head_pitch': -8.113406909632949e-05, 'head_yaw': 5.24007316640369e-06, 'head_roll': 3.1548197389333287e-06, 'left_antenna': 1.0947757521027012e-07, 'right_antenna': -1.1587403430728602e-07, 'right_hip_yaw': 0.047723089820247096, 'right_hip_roll': -0.029051215821507007, 'right_hip_pitch': 0.2964067682733741, 'right_knee': 1.0861277494285748, 'right_ankle': -0.7030056538707278}\n",
      "## period: 0.54\n",
      "center_y_pos: -0.08\n",
      "recorded 300 frames\n",
      "avg lin_vel_x 0.1228\n",
      "avg lin_vel_y 0.0294\n",
      "avg yaw 0.0238\n",
      "DONE, saving 86.json\n"
     ]
    },
    {
     "name": "stderr",
     "output_type": "stream",
     "text": [
      "<frozen importlib._bootstrap>:219: RuntimeWarning: to-Python converter for std::vector<std::__cxx11::basic_string<char, std::char_traits<char>, std::allocator<char> >, std::allocator<std::__cxx11::basic_string<char, std::char_traits<char>, std::allocator<char> > > > already registered; second conversion method ignored.\n",
      "<frozen importlib._bootstrap>:219: RuntimeWarning: to-Python converter for std::vector<double, std::allocator<double> > already registered; second conversion method ignored.\n",
      "<frozen importlib._bootstrap>:219: RuntimeWarning: to-Python converter for std::vector<int, std::allocator<int> > already registered; second conversion method ignored.\n"
     ]
    },
    {
     "name": "stdout",
     "output_type": "stream",
     "text": [
      "gait_parameters {'dx': -0.01, 'dy': -0.05, 'dtheta': 0.18, 'duration': 8, 'hardware': True, 'double_support_ratio': 0.5, 'startend_double_support_ratio': 1.0, 'planned_timesteps': 48, 'replan_timesteps': 10, 'walk_com_height': 0.19, 'walk_foot_height': 0.03, 'walk_trunk_pitch': -3, 'walk_foot_rise_ratio': 0.02, 'single_support_duration': 0.22, 'single_support_timesteps': 10, 'foot_length': 0.06, 'feet_spacing': 0.16, 'zmp_margin': 0.0, 'foot_zmp_target_x': 0.0, 'foot_zmp_target_y': -0.03, 'walk_max_dtheta': 1.0, 'walk_max_dy': 0.1, 'walk_max_dx_forward': 0.08, 'walk_max_dx_backward': 0.03, 'joints': ['left_hip_yaw', 'left_hip_roll', 'left_hip_pitch', 'left_knee', 'left_ankle', 'neck_pitch', 'head_pitch', 'head_yaw', 'head_roll', 'left_antenna', 'right_antenna', 'right_hip_yaw', 'right_hip_roll', 'right_hip_pitch', 'right_knee', 'right_ankle'], 'joint_angles': {'neck_pitch': 0, 'head_pitch': 0, 'head_yaw': 0, 'head_roll': 0, 'left_antenna': 0, 'right_antenna': 0}}\n"
     ]
    },
    {
     "name": "stderr",
     "output_type": "stream",
     "text": [
      "WARNING: Robot has the following self collisions in neutral position:\n",
      "  -head_assembly_5 collides with left_antenna_holder_1\n",
      "  -head_assembly_6 collides with right_antenna_holder_0\n",
      "WARNING: Can't find head frames in the model, camera_look_at won't work\n"
     ]
    },
    {
     "name": "stdout",
     "output_type": "stream",
     "text": [
      "Placing the robot in the initial position...\n",
      "Initial position reached\n",
      "{'left_hip_yaw': 0.04384448495867586, 'left_hip_roll': 0.08227996528371245, 'left_hip_pitch': -0.4319707158813395, 'left_knee': 0.8340599878238436, 'left_ankle': -0.45531071231336245, 'neck_pitch': -5.040117786021889e-05, 'head_pitch': -4.725233687447016e-05, 'head_yaw': 3.2485822468381597e-06, 'head_roll': 2.1419222210315492e-06, 'left_antenna': 1.8133491084059128e-07, 'right_antenna': -1.8591539899450453e-07, 'right_hip_yaw': 0.038234121045090934, 'right_hip_roll': -0.022202701579960495, 'right_hip_pitch': 0.5520527357704211, 'right_knee': 1.1206501538861333, 'right_ankle': -0.6216497736939007}\n",
      "## period: 0.6599999999999999\n",
      "center_y_pos: -0.08\n",
      "recorded 300 frames\n",
      "avg lin_vel_x -0.1079\n",
      "avg lin_vel_y 0.0559\n",
      "avg yaw 0.0111\n",
      "DONE, saving 87.json\n"
     ]
    },
    {
     "name": "stderr",
     "output_type": "stream",
     "text": [
      "<frozen importlib._bootstrap>:219: RuntimeWarning: to-Python converter for std::vector<std::__cxx11::basic_string<char, std::char_traits<char>, std::allocator<char> >, std::allocator<std::__cxx11::basic_string<char, std::char_traits<char>, std::allocator<char> > > > already registered; second conversion method ignored.\n",
      "<frozen importlib._bootstrap>:219: RuntimeWarning: to-Python converter for std::vector<double, std::allocator<double> > already registered; second conversion method ignored.\n",
      "<frozen importlib._bootstrap>:219: RuntimeWarning: to-Python converter for std::vector<int, std::allocator<int> > already registered; second conversion method ignored.\n"
     ]
    },
    {
     "name": "stdout",
     "output_type": "stream",
     "text": [
      "gait_parameters {'dx': 0.04, 'dy': 0.0, 'dtheta': 0.09, 'duration': 8, 'hardware': True, 'double_support_ratio': 0.5, 'startend_double_support_ratio': 1.0, 'planned_timesteps': 48, 'replan_timesteps': 10, 'walk_com_height': 0.19, 'walk_foot_height': 0.03, 'walk_trunk_pitch': 5, 'walk_foot_rise_ratio': 0.02, 'single_support_duration': 0.18, 'single_support_timesteps': 10, 'foot_length': 0.06, 'feet_spacing': 0.16, 'zmp_margin': 0.0, 'foot_zmp_target_x': 0.0, 'foot_zmp_target_y': -0.03, 'walk_max_dtheta': 1.0, 'walk_max_dy': 0.1, 'walk_max_dx_forward': 0.08, 'walk_max_dx_backward': 0.03, 'joints': ['left_hip_yaw', 'left_hip_roll', 'left_hip_pitch', 'left_knee', 'left_ankle', 'neck_pitch', 'head_pitch', 'head_yaw', 'head_roll', 'left_antenna', 'right_antenna', 'right_hip_yaw', 'right_hip_roll', 'right_hip_pitch', 'right_knee', 'right_ankle'], 'joint_angles': {'neck_pitch': 0, 'head_pitch': 0, 'head_yaw': 0, 'head_roll': 0, 'left_antenna': 0, 'right_antenna': 0}}\n"
     ]
    },
    {
     "name": "stderr",
     "output_type": "stream",
     "text": [
      "WARNING: Robot has the following self collisions in neutral position:\n",
      "  -head_assembly_5 collides with left_antenna_holder_1\n",
      "  -head_assembly_6 collides with right_antenna_holder_0\n",
      "WARNING: Can't find head frames in the model, camera_look_at won't work\n"
     ]
    },
    {
     "name": "stdout",
     "output_type": "stream",
     "text": [
      "Placing the robot in the initial position...\n",
      "Initial position reached\n",
      "{'left_hip_yaw': 0.03856073916697742, 'left_hip_roll': 0.07691234231316556, 'left_hip_pitch': -0.1508004296650294, 'left_knee': 0.737914879554754, 'left_ankle': -0.5002092270122876, 'neck_pitch': -0.00014650529827118036, 'head_pitch': -8.113406909632949e-05, 'head_yaw': 5.24007316640369e-06, 'head_roll': 3.1548197389333287e-06, 'left_antenna': 1.0947757521027012e-07, 'right_antenna': -1.1587403430728602e-07, 'right_hip_yaw': 0.047723089820247096, 'right_hip_roll': -0.029051215821507007, 'right_hip_pitch': 0.2964067682733741, 'right_knee': 1.0861277494285748, 'right_ankle': -0.7030056538707278}\n",
      "## period: 0.54\n",
      "center_y_pos: -0.08\n",
      "recorded 300 frames\n",
      "avg lin_vel_x -0.1444\n",
      "avg lin_vel_y -0.0138\n",
      "avg yaw 0.0054\n",
      "DONE, saving 88.json\n"
     ]
    },
    {
     "name": "stderr",
     "output_type": "stream",
     "text": [
      "<frozen importlib._bootstrap>:219: RuntimeWarning: to-Python converter for std::vector<std::__cxx11::basic_string<char, std::char_traits<char>, std::allocator<char> >, std::allocator<std::__cxx11::basic_string<char, std::char_traits<char>, std::allocator<char> > > > already registered; second conversion method ignored.\n",
      "<frozen importlib._bootstrap>:219: RuntimeWarning: to-Python converter for std::vector<double, std::allocator<double> > already registered; second conversion method ignored.\n",
      "<frozen importlib._bootstrap>:219: RuntimeWarning: to-Python converter for std::vector<int, std::allocator<int> > already registered; second conversion method ignored.\n"
     ]
    },
    {
     "name": "stdout",
     "output_type": "stream",
     "text": [
      "gait_parameters {'dx': 0.03, 'dy': -0.04, 'dtheta': -0.08, 'duration': 8, 'hardware': True, 'double_support_ratio': 0.5, 'startend_double_support_ratio': 1.0, 'planned_timesteps': 48, 'replan_timesteps': 10, 'walk_com_height': 0.19, 'walk_foot_height': 0.03, 'walk_trunk_pitch': 5, 'walk_foot_rise_ratio': 0.02, 'single_support_duration': 0.18, 'single_support_timesteps': 10, 'foot_length': 0.06, 'feet_spacing': 0.16, 'zmp_margin': 0.0, 'foot_zmp_target_x': 0.0, 'foot_zmp_target_y': -0.03, 'walk_max_dtheta': 1.0, 'walk_max_dy': 0.1, 'walk_max_dx_forward': 0.08, 'walk_max_dx_backward': 0.03, 'joints': ['left_hip_yaw', 'left_hip_roll', 'left_hip_pitch', 'left_knee', 'left_ankle', 'neck_pitch', 'head_pitch', 'head_yaw', 'head_roll', 'left_antenna', 'right_antenna', 'right_hip_yaw', 'right_hip_roll', 'right_hip_pitch', 'right_knee', 'right_ankle'], 'joint_angles': {'neck_pitch': 0, 'head_pitch': 0, 'head_yaw': 0, 'head_roll': 0, 'left_antenna': 0, 'right_antenna': 0}}\n"
     ]
    },
    {
     "name": "stderr",
     "output_type": "stream",
     "text": [
      "WARNING: Robot has the following self collisions in neutral position:\n",
      "  -head_assembly_5 collides with left_antenna_holder_1\n",
      "  -head_assembly_6 collides with right_antenna_holder_0\n",
      "WARNING: Can't find head frames in the model, camera_look_at won't work\n"
     ]
    },
    {
     "name": "stdout",
     "output_type": "stream",
     "text": [
      "Placing the robot in the initial position...\n",
      "Initial position reached\n",
      "{'left_hip_yaw': 0.03856073916697742, 'left_hip_roll': 0.07691234231316556, 'left_hip_pitch': -0.1508004296650294, 'left_knee': 0.737914879554754, 'left_ankle': -0.5002092270122876, 'neck_pitch': -0.00014650529827118036, 'head_pitch': -8.113406909632949e-05, 'head_yaw': 5.24007316640369e-06, 'head_roll': 3.1548197389333287e-06, 'left_antenna': 1.0947757521027012e-07, 'right_antenna': -1.1587403430728602e-07, 'right_hip_yaw': 0.047723089820247096, 'right_hip_roll': -0.029051215821507007, 'right_hip_pitch': 0.2964067682733741, 'right_knee': 1.0861277494285748, 'right_ankle': -0.7030056538707278}\n",
      "## period: 0.54\n",
      "center_y_pos: -0.08\n",
      "recorded 300 frames\n",
      "avg lin_vel_x -0.1907\n",
      "avg lin_vel_y 0.0001\n",
      "avg yaw -0.0027\n",
      "DONE, saving 89.json\n"
     ]
    },
    {
     "name": "stderr",
     "output_type": "stream",
     "text": [
      "<frozen importlib._bootstrap>:219: RuntimeWarning: to-Python converter for std::vector<std::__cxx11::basic_string<char, std::char_traits<char>, std::allocator<char> >, std::allocator<std::__cxx11::basic_string<char, std::char_traits<char>, std::allocator<char> > > > already registered; second conversion method ignored.\n",
      "<frozen importlib._bootstrap>:219: RuntimeWarning: to-Python converter for std::vector<double, std::allocator<double> > already registered; second conversion method ignored.\n",
      "<frozen importlib._bootstrap>:219: RuntimeWarning: to-Python converter for std::vector<int, std::allocator<int> > already registered; second conversion method ignored.\n"
     ]
    },
    {
     "name": "stdout",
     "output_type": "stream",
     "text": [
      "gait_parameters {'dx': -0.02, 'dy': -0.01, 'dtheta': 0.22, 'duration': 8, 'hardware': True, 'double_support_ratio': 0.5, 'startend_double_support_ratio': 1.0, 'planned_timesteps': 48, 'replan_timesteps': 10, 'walk_com_height': 0.19, 'walk_foot_height': 0.03, 'walk_trunk_pitch': -3, 'walk_foot_rise_ratio': 0.02, 'single_support_duration': 0.22, 'single_support_timesteps': 10, 'foot_length': 0.06, 'feet_spacing': 0.16, 'zmp_margin': 0.0, 'foot_zmp_target_x': 0.0, 'foot_zmp_target_y': -0.03, 'walk_max_dtheta': 1.0, 'walk_max_dy': 0.1, 'walk_max_dx_forward': 0.08, 'walk_max_dx_backward': 0.03, 'joints': ['left_hip_yaw', 'left_hip_roll', 'left_hip_pitch', 'left_knee', 'left_ankle', 'neck_pitch', 'head_pitch', 'head_yaw', 'head_roll', 'left_antenna', 'right_antenna', 'right_hip_yaw', 'right_hip_roll', 'right_hip_pitch', 'right_knee', 'right_ankle'], 'joint_angles': {'neck_pitch': 0, 'head_pitch': 0, 'head_yaw': 0, 'head_roll': 0, 'left_antenna': 0, 'right_antenna': 0}}\n"
     ]
    },
    {
     "name": "stderr",
     "output_type": "stream",
     "text": [
      "WARNING: Robot has the following self collisions in neutral position:\n",
      "  -head_assembly_5 collides with left_antenna_holder_1\n",
      "  -head_assembly_6 collides with right_antenna_holder_0\n",
      "WARNING: Can't find head frames in the model, camera_look_at won't work\n"
     ]
    },
    {
     "name": "stdout",
     "output_type": "stream",
     "text": [
      "Placing the robot in the initial position...\n",
      "Initial position reached\n",
      "{'left_hip_yaw': 0.04384448495867586, 'left_hip_roll': 0.08227996528371245, 'left_hip_pitch': -0.4319707158813395, 'left_knee': 0.8340599878238436, 'left_ankle': -0.45531071231336245, 'neck_pitch': -5.040117786021889e-05, 'head_pitch': -4.725233687447016e-05, 'head_yaw': 3.2485822468381597e-06, 'head_roll': 2.1419222210315492e-06, 'left_antenna': 1.8133491084059128e-07, 'right_antenna': -1.8591539899450453e-07, 'right_hip_yaw': 0.038234121045090934, 'right_hip_roll': -0.022202701579960495, 'right_hip_pitch': 0.5520527357704211, 'right_knee': 1.1206501538861333, 'right_ankle': -0.6216497736939007}\n",
      "## period: 0.6599999999999999\n",
      "center_y_pos: -0.08\n",
      "recorded 300 frames\n",
      "avg lin_vel_x -0.0393\n",
      "avg lin_vel_y 0.0081\n",
      "avg yaw 0.02\n",
      "DONE, saving 90.json\n"
     ]
    },
    {
     "name": "stderr",
     "output_type": "stream",
     "text": [
      "<frozen importlib._bootstrap>:219: RuntimeWarning: to-Python converter for std::vector<std::__cxx11::basic_string<char, std::char_traits<char>, std::allocator<char> >, std::allocator<std::__cxx11::basic_string<char, std::char_traits<char>, std::allocator<char> > > > already registered; second conversion method ignored.\n",
      "<frozen importlib._bootstrap>:219: RuntimeWarning: to-Python converter for std::vector<double, std::allocator<double> > already registered; second conversion method ignored.\n",
      "<frozen importlib._bootstrap>:219: RuntimeWarning: to-Python converter for std::vector<int, std::allocator<int> > already registered; second conversion method ignored.\n"
     ]
    },
    {
     "name": "stdout",
     "output_type": "stream",
     "text": [
      "gait_parameters {'dx': 0.03, 'dy': -0.03, 'dtheta': 0.1, 'duration': 8, 'hardware': True, 'double_support_ratio': 0.5, 'startend_double_support_ratio': 1.0, 'planned_timesteps': 48, 'replan_timesteps': 10, 'walk_com_height': 0.19, 'walk_foot_height': 0.03, 'walk_trunk_pitch': 5, 'walk_foot_rise_ratio': 0.02, 'single_support_duration': 0.18, 'single_support_timesteps': 10, 'foot_length': 0.06, 'feet_spacing': 0.16, 'zmp_margin': 0.0, 'foot_zmp_target_x': 0.0, 'foot_zmp_target_y': -0.03, 'walk_max_dtheta': 1.0, 'walk_max_dy': 0.1, 'walk_max_dx_forward': 0.08, 'walk_max_dx_backward': 0.03, 'joints': ['left_hip_yaw', 'left_hip_roll', 'left_hip_pitch', 'left_knee', 'left_ankle', 'neck_pitch', 'head_pitch', 'head_yaw', 'head_roll', 'left_antenna', 'right_antenna', 'right_hip_yaw', 'right_hip_roll', 'right_hip_pitch', 'right_knee', 'right_ankle'], 'joint_angles': {'neck_pitch': 0, 'head_pitch': 0, 'head_yaw': 0, 'head_roll': 0, 'left_antenna': 0, 'right_antenna': 0}}\n"
     ]
    },
    {
     "name": "stderr",
     "output_type": "stream",
     "text": [
      "WARNING: Robot has the following self collisions in neutral position:\n",
      "  -head_assembly_5 collides with left_antenna_holder_1\n",
      "  -head_assembly_6 collides with right_antenna_holder_0\n",
      "WARNING: Can't find head frames in the model, camera_look_at won't work\n"
     ]
    },
    {
     "name": "stdout",
     "output_type": "stream",
     "text": [
      "Placing the robot in the initial position...\n",
      "Initial position reached\n",
      "{'left_hip_yaw': 0.03856073916697742, 'left_hip_roll': 0.07691234231316556, 'left_hip_pitch': -0.1508004296650294, 'left_knee': 0.737914879554754, 'left_ankle': -0.5002092270122876, 'neck_pitch': -0.00014650529827118036, 'head_pitch': -8.113406909632949e-05, 'head_yaw': 5.24007316640369e-06, 'head_roll': 3.1548197389333287e-06, 'left_antenna': 1.0947757521027012e-07, 'right_antenna': -1.1587403430728602e-07, 'right_hip_yaw': 0.047723089820247096, 'right_hip_roll': -0.029051215821507007, 'right_hip_pitch': 0.2964067682733741, 'right_knee': 1.0861277494285748, 'right_ankle': -0.7030056538707278}\n",
      "## period: 0.54\n",
      "center_y_pos: -0.08\n",
      "recorded 300 frames\n",
      "avg lin_vel_x -0.1318\n",
      "avg lin_vel_y 0.0584\n",
      "avg yaw 0.0065\n",
      "DONE, saving 91.json\n"
     ]
    },
    {
     "name": "stderr",
     "output_type": "stream",
     "text": [
      "<frozen importlib._bootstrap>:219: RuntimeWarning: to-Python converter for std::vector<std::__cxx11::basic_string<char, std::char_traits<char>, std::allocator<char> >, std::allocator<std::__cxx11::basic_string<char, std::char_traits<char>, std::allocator<char> > > > already registered; second conversion method ignored.\n",
      "<frozen importlib._bootstrap>:219: RuntimeWarning: to-Python converter for std::vector<double, std::allocator<double> > already registered; second conversion method ignored.\n",
      "<frozen importlib._bootstrap>:219: RuntimeWarning: to-Python converter for std::vector<int, std::allocator<int> > already registered; second conversion method ignored.\n"
     ]
    },
    {
     "name": "stdout",
     "output_type": "stream",
     "text": [
      "gait_parameters {'dx': -0.01, 'dy': -0.02, 'dtheta': -0.03, 'duration': 8, 'hardware': True, 'double_support_ratio': 0.5, 'startend_double_support_ratio': 1.0, 'planned_timesteps': 48, 'replan_timesteps': 10, 'walk_com_height': 0.19, 'walk_foot_height': 0.03, 'walk_trunk_pitch': -3, 'walk_foot_rise_ratio': 0.02, 'single_support_duration': 0.22, 'single_support_timesteps': 10, 'foot_length': 0.06, 'feet_spacing': 0.16, 'zmp_margin': 0.0, 'foot_zmp_target_x': 0.0, 'foot_zmp_target_y': -0.03, 'walk_max_dtheta': 1.0, 'walk_max_dy': 0.1, 'walk_max_dx_forward': 0.08, 'walk_max_dx_backward': 0.03, 'joints': ['left_hip_yaw', 'left_hip_roll', 'left_hip_pitch', 'left_knee', 'left_ankle', 'neck_pitch', 'head_pitch', 'head_yaw', 'head_roll', 'left_antenna', 'right_antenna', 'right_hip_yaw', 'right_hip_roll', 'right_hip_pitch', 'right_knee', 'right_ankle'], 'joint_angles': {'neck_pitch': 0, 'head_pitch': 0, 'head_yaw': 0, 'head_roll': 0, 'left_antenna': 0, 'right_antenna': 0}}\n"
     ]
    },
    {
     "name": "stderr",
     "output_type": "stream",
     "text": [
      "WARNING: Robot has the following self collisions in neutral position:\n",
      "  -head_assembly_5 collides with left_antenna_holder_1\n",
      "  -head_assembly_6 collides with right_antenna_holder_0\n",
      "WARNING: Can't find head frames in the model, camera_look_at won't work\n"
     ]
    },
    {
     "name": "stdout",
     "output_type": "stream",
     "text": [
      "Placing the robot in the initial position...\n",
      "Initial position reached\n",
      "{'left_hip_yaw': 0.04384448495867586, 'left_hip_roll': 0.08227996528371245, 'left_hip_pitch': -0.4319707158813395, 'left_knee': 0.8340599878238436, 'left_ankle': -0.45531071231336245, 'neck_pitch': -5.040117786021889e-05, 'head_pitch': -4.725233687447016e-05, 'head_yaw': 3.2485822468381597e-06, 'head_roll': 2.1419222210315492e-06, 'left_antenna': 1.8133491084059128e-07, 'right_antenna': -1.8591539899450453e-07, 'right_hip_yaw': 0.038234121045090934, 'right_hip_roll': -0.022202701579960495, 'right_hip_pitch': 0.5520527357704211, 'right_knee': 1.1206501538861333, 'right_ankle': -0.6216497736939007}\n",
      "## period: 0.6599999999999999\n",
      "center_y_pos: -0.08\n",
      "recorded 300 frames\n",
      "avg lin_vel_x -0.0596\n",
      "avg lin_vel_y -0.0399\n",
      "avg yaw -0.0002\n",
      "DONE, saving 92.json\n"
     ]
    },
    {
     "name": "stderr",
     "output_type": "stream",
     "text": [
      "<frozen importlib._bootstrap>:219: RuntimeWarning: to-Python converter for std::vector<std::__cxx11::basic_string<char, std::char_traits<char>, std::allocator<char> >, std::allocator<std::__cxx11::basic_string<char, std::char_traits<char>, std::allocator<char> > > > already registered; second conversion method ignored.\n",
      "<frozen importlib._bootstrap>:219: RuntimeWarning: to-Python converter for std::vector<double, std::allocator<double> > already registered; second conversion method ignored.\n",
      "<frozen importlib._bootstrap>:219: RuntimeWarning: to-Python converter for std::vector<int, std::allocator<int> > already registered; second conversion method ignored.\n"
     ]
    },
    {
     "name": "stdout",
     "output_type": "stream",
     "text": [
      "gait_parameters {'dx': -0.04, 'dy': -0.02, 'dtheta': 0.02, 'duration': 8, 'hardware': True, 'double_support_ratio': 0.5, 'startend_double_support_ratio': 1.0, 'planned_timesteps': 48, 'replan_timesteps': 10, 'walk_com_height': 0.19, 'walk_foot_height': 0.03, 'walk_trunk_pitch': -3, 'walk_foot_rise_ratio': 0.02, 'single_support_duration': 0.22, 'single_support_timesteps': 10, 'foot_length': 0.06, 'feet_spacing': 0.16, 'zmp_margin': 0.0, 'foot_zmp_target_x': 0.0, 'foot_zmp_target_y': -0.03, 'walk_max_dtheta': 1.0, 'walk_max_dy': 0.1, 'walk_max_dx_forward': 0.08, 'walk_max_dx_backward': 0.03, 'joints': ['left_hip_yaw', 'left_hip_roll', 'left_hip_pitch', 'left_knee', 'left_ankle', 'neck_pitch', 'head_pitch', 'head_yaw', 'head_roll', 'left_antenna', 'right_antenna', 'right_hip_yaw', 'right_hip_roll', 'right_hip_pitch', 'right_knee', 'right_ankle'], 'joint_angles': {'neck_pitch': 0, 'head_pitch': 0, 'head_yaw': 0, 'head_roll': 0, 'left_antenna': 0, 'right_antenna': 0}}\n"
     ]
    },
    {
     "name": "stderr",
     "output_type": "stream",
     "text": [
      "WARNING: Robot has the following self collisions in neutral position:\n",
      "  -head_assembly_5 collides with left_antenna_holder_1\n",
      "  -head_assembly_6 collides with right_antenna_holder_0\n",
      "WARNING: Can't find head frames in the model, camera_look_at won't work\n"
     ]
    },
    {
     "name": "stdout",
     "output_type": "stream",
     "text": [
      "Placing the robot in the initial position...\n",
      "Initial position reached\n",
      "{'left_hip_yaw': 0.04384448495867586, 'left_hip_roll': 0.08227996528371245, 'left_hip_pitch': -0.4319707158813395, 'left_knee': 0.8340599878238436, 'left_ankle': -0.45531071231336245, 'neck_pitch': -5.040117786021889e-05, 'head_pitch': -4.725233687447016e-05, 'head_yaw': 3.2485822468381597e-06, 'head_roll': 2.1419222210315492e-06, 'left_antenna': 1.8133491084059128e-07, 'right_antenna': -1.8591539899450453e-07, 'right_hip_yaw': 0.038234121045090934, 'right_hip_roll': -0.022202701579960495, 'right_hip_pitch': 0.5520527357704211, 'right_knee': 1.1206501538861333, 'right_ankle': -0.6216497736939007}\n",
      "## period: 0.6599999999999999\n",
      "center_y_pos: -0.08\n",
      "recorded 300 frames\n",
      "avg lin_vel_x -0.0518\n",
      "avg lin_vel_y -0.0845\n",
      "avg yaw 0.0002\n",
      "DONE, saving 93.json\n"
     ]
    },
    {
     "name": "stderr",
     "output_type": "stream",
     "text": [
      "<frozen importlib._bootstrap>:219: RuntimeWarning: to-Python converter for std::vector<std::__cxx11::basic_string<char, std::char_traits<char>, std::allocator<char> >, std::allocator<std::__cxx11::basic_string<char, std::char_traits<char>, std::allocator<char> > > > already registered; second conversion method ignored.\n",
      "<frozen importlib._bootstrap>:219: RuntimeWarning: to-Python converter for std::vector<double, std::allocator<double> > already registered; second conversion method ignored.\n",
      "<frozen importlib._bootstrap>:219: RuntimeWarning: to-Python converter for std::vector<int, std::allocator<int> > already registered; second conversion method ignored.\n"
     ]
    },
    {
     "name": "stdout",
     "output_type": "stream",
     "text": [
      "gait_parameters {'dx': -0.04, 'dy': -0.05, 'dtheta': 0.16, 'duration': 8, 'hardware': True, 'double_support_ratio': 0.5, 'startend_double_support_ratio': 1.0, 'planned_timesteps': 48, 'replan_timesteps': 10, 'walk_com_height': 0.19, 'walk_foot_height': 0.03, 'walk_trunk_pitch': 5, 'walk_foot_rise_ratio': 0.02, 'single_support_duration': 0.18, 'single_support_timesteps': 10, 'foot_length': 0.06, 'feet_spacing': 0.16, 'zmp_margin': 0.0, 'foot_zmp_target_x': 0.0, 'foot_zmp_target_y': -0.03, 'walk_max_dtheta': 1.0, 'walk_max_dy': 0.1, 'walk_max_dx_forward': 0.08, 'walk_max_dx_backward': 0.03, 'joints': ['left_hip_yaw', 'left_hip_roll', 'left_hip_pitch', 'left_knee', 'left_ankle', 'neck_pitch', 'head_pitch', 'head_yaw', 'head_roll', 'left_antenna', 'right_antenna', 'right_hip_yaw', 'right_hip_roll', 'right_hip_pitch', 'right_knee', 'right_ankle'], 'joint_angles': {'neck_pitch': 0, 'head_pitch': 0, 'head_yaw': 0, 'head_roll': 0, 'left_antenna': 0, 'right_antenna': 0}}\n"
     ]
    },
    {
     "name": "stderr",
     "output_type": "stream",
     "text": [
      "WARNING: Robot has the following self collisions in neutral position:\n",
      "  -head_assembly_5 collides with left_antenna_holder_1\n",
      "  -head_assembly_6 collides with right_antenna_holder_0\n",
      "WARNING: Can't find head frames in the model, camera_look_at won't work\n"
     ]
    },
    {
     "name": "stdout",
     "output_type": "stream",
     "text": [
      "Placing the robot in the initial position...\n",
      "Initial position reached\n",
      "{'left_hip_yaw': 0.03856073916697818, 'left_hip_roll': 0.07691234231315709, 'left_hip_pitch': -0.1508004296649631, 'left_knee': 0.7379148795546253, 'left_ankle': -0.500209227012225, 'neck_pitch': -0.00014650529827119025, 'head_pitch': -8.113406909633472e-05, 'head_yaw': 5.240073166405441e-06, 'head_roll': 3.154819738933434e-06, 'left_antenna': 1.0947757521027228e-07, 'right_antenna': -1.158740343072918e-07, 'right_hip_yaw': 0.04772308982024767, 'right_hip_roll': -0.02905121582151385, 'right_hip_pitch': 0.29640676827336243, 'right_knee': 1.0861277494285568, 'right_ankle': -0.7030056538707216}\n",
      "## period: 0.54\n",
      "center_y_pos: -0.08\n",
      "recorded 300 frames\n",
      "avg lin_vel_x 0.0249\n",
      "avg lin_vel_y 0.154\n",
      "avg yaw 0.0076\n",
      "DONE, saving 94.json\n"
     ]
    },
    {
     "name": "stderr",
     "output_type": "stream",
     "text": [
      "<frozen importlib._bootstrap>:219: RuntimeWarning: to-Python converter for std::vector<std::__cxx11::basic_string<char, std::char_traits<char>, std::allocator<char> >, std::allocator<std::__cxx11::basic_string<char, std::char_traits<char>, std::allocator<char> > > > already registered; second conversion method ignored.\n",
      "<frozen importlib._bootstrap>:219: RuntimeWarning: to-Python converter for std::vector<double, std::allocator<double> > already registered; second conversion method ignored.\n",
      "<frozen importlib._bootstrap>:219: RuntimeWarning: to-Python converter for std::vector<int, std::allocator<int> > already registered; second conversion method ignored.\n"
     ]
    },
    {
     "name": "stdout",
     "output_type": "stream",
     "text": [
      "gait_parameters {'dx': 0.02, 'dy': 0.03, 'dtheta': -0.23, 'duration': 8, 'hardware': True, 'double_support_ratio': 0.5, 'startend_double_support_ratio': 1.0, 'planned_timesteps': 48, 'replan_timesteps': 10, 'walk_com_height': 0.19, 'walk_foot_height': 0.03, 'walk_trunk_pitch': 5, 'walk_foot_rise_ratio': 0.02, 'single_support_duration': 0.18, 'single_support_timesteps': 10, 'foot_length': 0.06, 'feet_spacing': 0.16, 'zmp_margin': 0.0, 'foot_zmp_target_x': 0.0, 'foot_zmp_target_y': -0.03, 'walk_max_dtheta': 1.0, 'walk_max_dy': 0.1, 'walk_max_dx_forward': 0.08, 'walk_max_dx_backward': 0.03, 'joints': ['left_hip_yaw', 'left_hip_roll', 'left_hip_pitch', 'left_knee', 'left_ankle', 'neck_pitch', 'head_pitch', 'head_yaw', 'head_roll', 'left_antenna', 'right_antenna', 'right_hip_yaw', 'right_hip_roll', 'right_hip_pitch', 'right_knee', 'right_ankle'], 'joint_angles': {'neck_pitch': 0, 'head_pitch': 0, 'head_yaw': 0, 'head_roll': 0, 'left_antenna': 0, 'right_antenna': 0}}\n"
     ]
    },
    {
     "name": "stderr",
     "output_type": "stream",
     "text": [
      "WARNING: Robot has the following self collisions in neutral position:\n",
      "  -head_assembly_5 collides with left_antenna_holder_1\n",
      "  -head_assembly_6 collides with right_antenna_holder_0\n",
      "WARNING: Can't find head frames in the model, camera_look_at won't work\n"
     ]
    },
    {
     "name": "stdout",
     "output_type": "stream",
     "text": [
      "Placing the robot in the initial position...\n",
      "Initial position reached\n",
      "{'left_hip_yaw': 0.03856073916697742, 'left_hip_roll': 0.07691234231316556, 'left_hip_pitch': -0.1508004296650294, 'left_knee': 0.737914879554754, 'left_ankle': -0.5002092270122876, 'neck_pitch': -0.00014650529827118036, 'head_pitch': -8.113406909632949e-05, 'head_yaw': 5.24007316640369e-06, 'head_roll': 3.1548197389333287e-06, 'left_antenna': 1.0947757521027012e-07, 'right_antenna': -1.1587403430728602e-07, 'right_hip_yaw': 0.047723089820247096, 'right_hip_roll': -0.029051215821507007, 'right_hip_pitch': 0.2964067682733741, 'right_knee': 1.0861277494285748, 'right_ankle': -0.7030056538707278}\n",
      "## period: 0.54\n",
      "center_y_pos: -0.08\n",
      "recorded 300 frames\n",
      "avg lin_vel_x 0.1152\n",
      "avg lin_vel_y 0.0209\n",
      "avg yaw -0.0263\n",
      "DONE, saving 95.json\n"
     ]
    },
    {
     "name": "stderr",
     "output_type": "stream",
     "text": [
      "<frozen importlib._bootstrap>:219: RuntimeWarning: to-Python converter for std::vector<std::__cxx11::basic_string<char, std::char_traits<char>, std::allocator<char> >, std::allocator<std::__cxx11::basic_string<char, std::char_traits<char>, std::allocator<char> > > > already registered; second conversion method ignored.\n",
      "<frozen importlib._bootstrap>:219: RuntimeWarning: to-Python converter for std::vector<double, std::allocator<double> > already registered; second conversion method ignored.\n",
      "<frozen importlib._bootstrap>:219: RuntimeWarning: to-Python converter for std::vector<int, std::allocator<int> > already registered; second conversion method ignored.\n"
     ]
    },
    {
     "name": "stdout",
     "output_type": "stream",
     "text": [
      "gait_parameters {'dx': -0.01, 'dy': 0.03, 'dtheta': 0.1, 'duration': 8, 'hardware': True, 'double_support_ratio': 0.5, 'startend_double_support_ratio': 1.0, 'planned_timesteps': 48, 'replan_timesteps': 10, 'walk_com_height': 0.19, 'walk_foot_height': 0.03, 'walk_trunk_pitch': 5, 'walk_foot_rise_ratio': 0.02, 'single_support_duration': 0.18, 'single_support_timesteps': 10, 'foot_length': 0.06, 'feet_spacing': 0.16, 'zmp_margin': 0.0, 'foot_zmp_target_x': 0.0, 'foot_zmp_target_y': -0.03, 'walk_max_dtheta': 1.0, 'walk_max_dy': 0.1, 'walk_max_dx_forward': 0.08, 'walk_max_dx_backward': 0.03, 'joints': ['left_hip_yaw', 'left_hip_roll', 'left_hip_pitch', 'left_knee', 'left_ankle', 'neck_pitch', 'head_pitch', 'head_yaw', 'head_roll', 'left_antenna', 'right_antenna', 'right_hip_yaw', 'right_hip_roll', 'right_hip_pitch', 'right_knee', 'right_ankle'], 'joint_angles': {'neck_pitch': 0, 'head_pitch': 0, 'head_yaw': 0, 'head_roll': 0, 'left_antenna': 0, 'right_antenna': 0}}\n"
     ]
    },
    {
     "name": "stderr",
     "output_type": "stream",
     "text": [
      "WARNING: Robot has the following self collisions in neutral position:\n",
      "  -head_assembly_5 collides with left_antenna_holder_1\n",
      "  -head_assembly_6 collides with right_antenna_holder_0\n",
      "WARNING: Can't find head frames in the model, camera_look_at won't work\n"
     ]
    },
    {
     "name": "stdout",
     "output_type": "stream",
     "text": [
      "Placing the robot in the initial position...\n",
      "Initial position reached\n",
      "{'left_hip_yaw': 0.03856073916697742, 'left_hip_roll': 0.07691234231316556, 'left_hip_pitch': -0.1508004296650294, 'left_knee': 0.737914879554754, 'left_ankle': -0.5002092270122876, 'neck_pitch': -0.00014650529827118036, 'head_pitch': -8.113406909632949e-05, 'head_yaw': 5.24007316640369e-06, 'head_roll': 3.1548197389333287e-06, 'left_antenna': 1.0947757521027012e-07, 'right_antenna': -1.1587403430728602e-07, 'right_hip_yaw': 0.047723089820247096, 'right_hip_roll': -0.029051215821507007, 'right_hip_pitch': 0.2964067682733741, 'right_knee': 1.0861277494285748, 'right_ankle': -0.7030056538707278}\n",
      "## period: 0.54\n",
      "center_y_pos: -0.08\n",
      "recorded 300 frames\n",
      "avg lin_vel_x 0.0794\n",
      "avg lin_vel_y -0.1041\n",
      "avg yaw 0.0065\n",
      "DONE, saving 96.json\n"
     ]
    },
    {
     "name": "stderr",
     "output_type": "stream",
     "text": [
      "<frozen importlib._bootstrap>:219: RuntimeWarning: to-Python converter for std::vector<std::__cxx11::basic_string<char, std::char_traits<char>, std::allocator<char> >, std::allocator<std::__cxx11::basic_string<char, std::char_traits<char>, std::allocator<char> > > > already registered; second conversion method ignored.\n",
      "<frozen importlib._bootstrap>:219: RuntimeWarning: to-Python converter for std::vector<double, std::allocator<double> > already registered; second conversion method ignored.\n",
      "<frozen importlib._bootstrap>:219: RuntimeWarning: to-Python converter for std::vector<int, std::allocator<int> > already registered; second conversion method ignored.\n"
     ]
    },
    {
     "name": "stdout",
     "output_type": "stream",
     "text": [
      "gait_parameters {'dx': -0.04, 'dy': -0.04, 'dtheta': 0.15, 'duration': 8, 'hardware': True, 'double_support_ratio': 0.5, 'startend_double_support_ratio': 1.0, 'planned_timesteps': 48, 'replan_timesteps': 10, 'walk_com_height': 0.19, 'walk_foot_height': 0.03, 'walk_trunk_pitch': -3, 'walk_foot_rise_ratio': 0.02, 'single_support_duration': 0.22, 'single_support_timesteps': 10, 'foot_length': 0.06, 'feet_spacing': 0.16, 'zmp_margin': 0.0, 'foot_zmp_target_x': 0.0, 'foot_zmp_target_y': -0.03, 'walk_max_dtheta': 1.0, 'walk_max_dy': 0.1, 'walk_max_dx_forward': 0.08, 'walk_max_dx_backward': 0.03, 'joints': ['left_hip_yaw', 'left_hip_roll', 'left_hip_pitch', 'left_knee', 'left_ankle', 'neck_pitch', 'head_pitch', 'head_yaw', 'head_roll', 'left_antenna', 'right_antenna', 'right_hip_yaw', 'right_hip_roll', 'right_hip_pitch', 'right_knee', 'right_ankle'], 'joint_angles': {'neck_pitch': 0, 'head_pitch': 0, 'head_yaw': 0, 'head_roll': 0, 'left_antenna': 0, 'right_antenna': 0}}\n"
     ]
    },
    {
     "name": "stderr",
     "output_type": "stream",
     "text": [
      "WARNING: Robot has the following self collisions in neutral position:\n",
      "  -head_assembly_5 collides with left_antenna_holder_1\n",
      "  -head_assembly_6 collides with right_antenna_holder_0\n",
      "WARNING: Can't find head frames in the model, camera_look_at won't work\n"
     ]
    },
    {
     "name": "stdout",
     "output_type": "stream",
     "text": [
      "Placing the robot in the initial position...\n",
      "Initial position reached\n",
      "{'left_hip_yaw': 0.04384448495867586, 'left_hip_roll': 0.08227996528371245, 'left_hip_pitch': -0.4319707158813395, 'left_knee': 0.8340599878238436, 'left_ankle': -0.45531071231336245, 'neck_pitch': -5.040117786021889e-05, 'head_pitch': -4.725233687447016e-05, 'head_yaw': 3.2485822468381597e-06, 'head_roll': 2.1419222210315492e-06, 'left_antenna': 1.8133491084059128e-07, 'right_antenna': -1.8591539899450453e-07, 'right_hip_yaw': 0.038234121045090934, 'right_hip_roll': -0.022202701579960495, 'right_hip_pitch': 0.5520527357704211, 'right_knee': 1.1206501538861333, 'right_ankle': -0.6216497736939007}\n",
      "## period: 0.6599999999999999\n",
      "center_y_pos: -0.08\n",
      "recorded 300 frames\n",
      "avg lin_vel_x 0.0921\n",
      "avg lin_vel_y 0.0546\n",
      "avg yaw 0.0049\n",
      "DONE, saving 97.json\n"
     ]
    },
    {
     "name": "stderr",
     "output_type": "stream",
     "text": [
      "<frozen importlib._bootstrap>:219: RuntimeWarning: to-Python converter for std::vector<std::__cxx11::basic_string<char, std::char_traits<char>, std::allocator<char> >, std::allocator<std::__cxx11::basic_string<char, std::char_traits<char>, std::allocator<char> > > > already registered; second conversion method ignored.\n",
      "<frozen importlib._bootstrap>:219: RuntimeWarning: to-Python converter for std::vector<double, std::allocator<double> > already registered; second conversion method ignored.\n",
      "<frozen importlib._bootstrap>:219: RuntimeWarning: to-Python converter for std::vector<int, std::allocator<int> > already registered; second conversion method ignored.\n"
     ]
    },
    {
     "name": "stdout",
     "output_type": "stream",
     "text": [
      "gait_parameters {'dx': -0.02, 'dy': 0.01, 'dtheta': 0.1, 'duration': 8, 'hardware': True, 'double_support_ratio': 0.5, 'startend_double_support_ratio': 1.0, 'planned_timesteps': 48, 'replan_timesteps': 10, 'walk_com_height': 0.19, 'walk_foot_height': 0.03, 'walk_trunk_pitch': 5, 'walk_foot_rise_ratio': 0.02, 'single_support_duration': 0.18, 'single_support_timesteps': 10, 'foot_length': 0.06, 'feet_spacing': 0.16, 'zmp_margin': 0.0, 'foot_zmp_target_x': 0.0, 'foot_zmp_target_y': -0.03, 'walk_max_dtheta': 1.0, 'walk_max_dy': 0.1, 'walk_max_dx_forward': 0.08, 'walk_max_dx_backward': 0.03, 'joints': ['left_hip_yaw', 'left_hip_roll', 'left_hip_pitch', 'left_knee', 'left_ankle', 'neck_pitch', 'head_pitch', 'head_yaw', 'head_roll', 'left_antenna', 'right_antenna', 'right_hip_yaw', 'right_hip_roll', 'right_hip_pitch', 'right_knee', 'right_ankle'], 'joint_angles': {'neck_pitch': 0, 'head_pitch': 0, 'head_yaw': 0, 'head_roll': 0, 'left_antenna': 0, 'right_antenna': 0}}\n"
     ]
    },
    {
     "name": "stderr",
     "output_type": "stream",
     "text": [
      "WARNING: Robot has the following self collisions in neutral position:\n",
      "  -head_assembly_5 collides with left_antenna_holder_1\n",
      "  -head_assembly_6 collides with right_antenna_holder_0\n",
      "WARNING: Can't find head frames in the model, camera_look_at won't work\n"
     ]
    },
    {
     "name": "stdout",
     "output_type": "stream",
     "text": [
      "Placing the robot in the initial position...\n",
      "Initial position reached\n",
      "{'left_hip_yaw': 0.03856073916697742, 'left_hip_roll': 0.07691234231316556, 'left_hip_pitch': -0.1508004296650294, 'left_knee': 0.737914879554754, 'left_ankle': -0.5002092270122876, 'neck_pitch': -0.00014650529827118036, 'head_pitch': -8.113406909632949e-05, 'head_yaw': 5.24007316640369e-06, 'head_roll': 3.1548197389333287e-06, 'left_antenna': 1.0947757521027012e-07, 'right_antenna': -1.1587403430728602e-07, 'right_hip_yaw': 0.047723089820247096, 'right_hip_roll': -0.029051215821507007, 'right_hip_pitch': 0.2964067682733741, 'right_knee': 1.0861277494285748, 'right_ankle': -0.7030056538707278}\n",
      "## period: 0.54\n",
      "center_y_pos: -0.08\n",
      "recorded 300 frames\n",
      "avg lin_vel_x 0.0908\n",
      "avg lin_vel_y -0.0223\n",
      "avg yaw 0.0065\n",
      "DONE, saving 98.json\n"
     ]
    },
    {
     "name": "stderr",
     "output_type": "stream",
     "text": [
      "<frozen importlib._bootstrap>:219: RuntimeWarning: to-Python converter for std::vector<std::__cxx11::basic_string<char, std::char_traits<char>, std::allocator<char> >, std::allocator<std::__cxx11::basic_string<char, std::char_traits<char>, std::allocator<char> > > > already registered; second conversion method ignored.\n",
      "<frozen importlib._bootstrap>:219: RuntimeWarning: to-Python converter for std::vector<double, std::allocator<double> > already registered; second conversion method ignored.\n",
      "<frozen importlib._bootstrap>:219: RuntimeWarning: to-Python converter for std::vector<int, std::allocator<int> > already registered; second conversion method ignored.\n"
     ]
    },
    {
     "name": "stdout",
     "output_type": "stream",
     "text": [
      "gait_parameters {'dx': 0.05, 'dy': -0.04, 'dtheta': 0.17, 'duration': 8, 'hardware': True, 'double_support_ratio': 0.5, 'startend_double_support_ratio': 1.0, 'planned_timesteps': 48, 'replan_timesteps': 10, 'walk_com_height': 0.19, 'walk_foot_height': 0.03, 'walk_trunk_pitch': -3, 'walk_foot_rise_ratio': 0.02, 'single_support_duration': 0.22, 'single_support_timesteps': 10, 'foot_length': 0.06, 'feet_spacing': 0.16, 'zmp_margin': 0.0, 'foot_zmp_target_x': 0.0, 'foot_zmp_target_y': -0.03, 'walk_max_dtheta': 1.0, 'walk_max_dy': 0.1, 'walk_max_dx_forward': 0.08, 'walk_max_dx_backward': 0.03, 'joints': ['left_hip_yaw', 'left_hip_roll', 'left_hip_pitch', 'left_knee', 'left_ankle', 'neck_pitch', 'head_pitch', 'head_yaw', 'head_roll', 'left_antenna', 'right_antenna', 'right_hip_yaw', 'right_hip_roll', 'right_hip_pitch', 'right_knee', 'right_ankle'], 'joint_angles': {'neck_pitch': 0, 'head_pitch': 0, 'head_yaw': 0, 'head_roll': 0, 'left_antenna': 0, 'right_antenna': 0}}\n"
     ]
    },
    {
     "name": "stderr",
     "output_type": "stream",
     "text": [
      "WARNING: Robot has the following self collisions in neutral position:\n",
      "  -head_assembly_5 collides with left_antenna_holder_1\n",
      "  -head_assembly_6 collides with right_antenna_holder_0\n",
      "WARNING: Can't find head frames in the model, camera_look_at won't work\n"
     ]
    },
    {
     "name": "stdout",
     "output_type": "stream",
     "text": [
      "Placing the robot in the initial position...\n",
      "Initial position reached\n",
      "{'left_hip_yaw': 0.04384448495867586, 'left_hip_roll': 0.08227996528371245, 'left_hip_pitch': -0.4319707158813395, 'left_knee': 0.8340599878238436, 'left_ankle': -0.45531071231336245, 'neck_pitch': -5.040117786021889e-05, 'head_pitch': -4.725233687447016e-05, 'head_yaw': 3.2485822468381597e-06, 'head_roll': 2.1419222210315492e-06, 'left_antenna': 1.8133491084059128e-07, 'right_antenna': -1.8591539899450453e-07, 'right_hip_yaw': 0.038234121045090934, 'right_hip_roll': -0.022202701579960495, 'right_hip_pitch': 0.5520527357704211, 'right_knee': 1.1206501538861333, 'right_ankle': -0.6216497736939007}\n",
      "## period: 0.6599999999999999\n",
      "center_y_pos: -0.08\n",
      "recorded 300 frames\n",
      "avg lin_vel_x -0.1214\n",
      "avg lin_vel_y -0.1423\n",
      "avg yaw 0.0122\n",
      "DONE, saving 99.json\n"
     ]
    }
   ],
   "source": [
    "bdx_type = [\"go_bdx\", \"mini_bdx\", \"mini2_bdx\"][2]\n",
    "\n",
    "dx_max = [0, 0.05]\n",
    "dy_max = [0, 0.05]\n",
    "dtheta_max = [0, 0.25]\n",
    "\n",
    "presets_dir = f\"../awd/data/assets/{bdx_type}/placo_presets\"\n",
    "tmp_dir = os.path.join(presets_dir, \"tmp\")\n",
    "os.makedirs(tmp_dir, exist_ok=True)\n",
    "\n",
    "preset_speeds = [\"medium\", \"fast\"]\n",
    "\n",
    "for i in range(100):\n",
    "    # Randomly select a preset speed\n",
    "    selected_speed = np.random.choice(preset_speeds)\n",
    "    #selected_speed = \"medium\"\n",
    "    # Load the selected preset\n",
    "    with open(os.path.join(presets_dir, f\"{selected_speed}.json\")) as file:\n",
    "        data = json.load(file)\n",
    "\n",
    "    # data[\"dx\"] = 0.3\n",
    "    # data[\"dy\"] = 0.0\n",
    "    # data[\"dtheta\"] = 0.0\n",
    "\n",
    "    # Modify dx, dy, dtheta randomly\n",
    "    data[\"dx\"] = round(np.random.uniform(dx_max[0], dx_max[1]) * np.random.choice([-1, 1]), 2)\n",
    "    data[\"dy\"] = round(np.random.uniform(dy_max[0], dy_max[1]) * np.random.choice([-1, 1]), 2)\n",
    "    data[\"dtheta\"] = round(np.random.uniform(dtheta_max[0], dtheta_max[1]) * np.random.choice([-1, 1]), 2)\n",
    "\n",
    "    tmp_preset = os.path.join(tmp_dir, f\"{selected_speed}.json\")\n",
    "    with open(tmp_preset, 'w') as file:\n",
    "        json.dump(data, file, indent=4)\n",
    "\n",
    "    if bdx_type in [\"mini_bdx\", \"mini2_bdx\"]:\n",
    "        subprocess.run(['python', \"gait_generator.py\", \"--preset\", f\"{tmp_preset}\", \"--name\", f\"{i}\", f\"--{bdx_type.split('_')[0]}\"])\n",
    "    else:\n",
    "        subprocess.run(['python', \"gait_generator.py\", \"--preset\", f\"{tmp_preset}\", \"--name\", f\"{i}\"])"
   ]
  },
  {
   "cell_type": "code",
   "execution_count": 18,
   "metadata": {},
   "outputs": [
    {
     "name": "stdout",
     "output_type": "stream",
     "text": [
      "0.17973068741870432 fast\n",
      "0.12472217124473098 fast\n",
      "0.12731272520844097 medium\n",
      "0.13622114373326924 fast\n",
      "0.1759730092940392 fast\n",
      "0.1281721498610365 fast\n",
      "0.14186930605314174 fast\n",
      "0.16207930157796213 fast\n",
      "0.10086476094256111 medium\n",
      "0.08654646151056668 medium\n",
      "0.07172286943506931 medium\n",
      "0.14214985050994602 medium\n",
      "0.10354718731090673 medium\n",
      "0.06361894371961861 medium\n",
      "0.11434181212487407 fast\n",
      "0.13593248324076185 medium\n",
      "0.10492787999383195 fast\n",
      "0.05283710817219277 medium\n",
      "0.0991135207728996 medium\n",
      "0.1107964800884938 fast\n",
      "0.14161232291011963 fast\n",
      "0.14915914319947002 fast\n",
      "0.12152045095373865 medium\n",
      "0.12010149874168931 fast\n",
      "0.11586233210150743 medium\n",
      "0.11630515895694395 medium\n",
      "0.1048057727417722 medium\n",
      "0.1275595939159419 medium\n",
      "0.1645802235993134 fast\n",
      "0.13510181345933148 medium\n",
      "0.1159572766151396 medium\n",
      "0.09348010483520008 medium\n",
      "0.19070002621919066 fast\n",
      "0.1359154148726332 fast\n",
      "0.13573363621446233 medium\n",
      "0.11708052784301921 fast\n",
      "0.13092429109985662 fast\n",
      "0.09875834141985172 medium\n",
      "0.15432695811166627 fast\n",
      "0.17256885582282802 fast\n",
      "0.11052058631766301 medium\n",
      "0.1128817079955827 fast\n",
      "0.1626065804326504 fast\n",
      "0.13258269117799654 medium\n",
      "0.11023837807224851 fast\n",
      "0.13912070298844814 fast\n",
      "0.14133382468468048 medium\n",
      "0.19659259904686138 fast\n",
      "0.14415894006269608 fast\n",
      "0.10785327996866856 medium\n",
      "0.1222244656359765 fast\n",
      "0.10706806246495731 medium\n",
      "0.12432461542269092 medium\n",
      "0.05200403830473168 medium\n",
      "0.12627034489538708 fast\n",
      "0.11045361017187261 fast\n",
      "0.07071810235010552 medium\n",
      "0.12282483462231894 medium\n",
      "0.16117285751639449 fast\n",
      "0.14309692519407954 fast\n",
      "0.11973341221229769 fast\n",
      "0.11455605614719809 fast\n",
      "0.1467005453295931 medium\n",
      "0.056008302955901104 medium\n",
      "0.11453174232499913 medium\n",
      "0.1861213851227204 fast\n",
      "0.14505791946667373 fast\n",
      "0.09802244640897308 medium\n",
      "0.10702261443265157 fast\n",
      "0.09261258013898545 medium\n",
      "0.13596782707684932 medium\n",
      "0.11421120785632205 medium\n",
      "0.11767688813016768 medium\n",
      "0.1262826195483765 fast\n",
      "0.052365351139852 medium\n",
      "0.12230862602449591 medium\n",
      "0.10728587977921418 medium\n",
      "0.15600003205127877 fast\n",
      "0.18554797223359787 fast\n"
     ]
    }
   ],
   "source": [
    "# Directory containing the JSON files\n",
    "data_dir = \"../recordings\"\n",
    "\n",
    "# Lists to store the data\n",
    "speeds = []\n",
    "preset_names = []\n",
    "\n",
    "# Iterate through all JSON files in the directory\n",
    "files = os.listdir(data_dir)\n",
    "for filename in files:\n",
    "    if filename.endswith(\".json\"):\n",
    "        file_path = os.path.join(data_dir, filename)\n",
    "        with open(file_path, 'r') as file:\n",
    "            data = json.load(file)\n",
    "            \n",
    "        # Extract the relevant information\n",
    "        placo_data = data.get(\"Placo\", {})\n",
    "        avg_x_vel = placo_data.get(\"avg_x_lin_vel\", 0)\n",
    "        avg_y_vel = placo_data.get(\"avg_y_lin_vel\", 0)\n",
    "        preset_name = placo_data.get(\"preset_name\", \"unknown\")\n",
    "        \n",
    "        # Calculate the total speed\n",
    "        total_speed = np.sqrt(avg_x_vel**2 + avg_y_vel**2)\n",
    "\n",
    "        print(total_speed, preset_name)\n",
    "        \n",
    "\n",
    "    if (preset_name == 'slow' and total_speed > slow) or \\\n",
    "       (preset_name == 'medium' and (total_speed <= slow or total_speed > fast)) or \\\n",
    "       (preset_name == 'fast' and total_speed <= medium):\n",
    "    \n",
    "        # delete the file\n",
    "        os.remove(file_path)\n",
    "\n",
    "        print(f\"Deleted {file_path}\")"
   ]
  },
  {
   "cell_type": "code",
   "execution_count": 39,
   "metadata": {},
   "outputs": [],
   "source": [
    "gait_speeds = {\"slow\": 0.05,\n",
    "                \"medium\": 0.1,\n",
    "                \"fast\": 0.2}\n",
    "\n",
    "presets_dir = \"awd/data/assets/go_bdx/placo_presets\"\n",
    "gait_motions = [\"standing\", \"forward\", \"backward\", \"left\", \"right\", \"ang_left\", \"ang_right\", \"dia_forward\", \"dia_backward\"]"
   ]
  },
  {
   "cell_type": "code",
   "execution_count": null,
   "metadata": {},
   "outputs": [],
   "source": [
    "tmp_dir = os.path.join(presets_dir, \"tmp\")\n",
    "os.makedirs(tmp_dir, exist_ok=True)\n",
    "\n",
    "for gait_speed in gait_speeds:\n",
    "    gait_speed_val = gait_speeds[gait_speed]\n",
    "    \n",
    "    for gait_motion in gait_motions:\n",
    "        with open(os.path.join(presets_dir, f\"{gait_speed}.json\")) as file:\n",
    "            data = json.load(file)\n",
    "                \n",
    "        if gait_speed == \"slow\" and gait_motion == \"standing\":\n",
    "            pass\n",
    "        elif gait_motion == \"forward\":\n",
    "            data[\"dx\"] = gait_speed_val\n",
    "        elif gait_motion == \"backward\":\n",
    "            data[\"dx\"] = -gait_speed_val\n",
    "        elif gait_motion == \"left\":\n",
    "            data[\"dy\"] = gait_speed_val\n",
    "        elif gait_motion == \"right\":\n",
    "            data[\"dy\"] = -gait_speed_val\n",
    "        elif gait_motion == \"dia_forward\":\n",
    "            data[\"dx\"] = gait_speed_val/2\n",
    "            data[\"dy\"] = gait_speed_val/2\n",
    "        elif gait_motion == \"dia_backward\":\n",
    "            data[\"dx\"] = -gait_speed_val/2\n",
    "            data[\"dy\"] = -gait_speed_val/2\n",
    "        elif gait_motion == \"ang_left\":\n",
    "            data[\"dtheta\"] = gait_speed_val\n",
    "        elif gait_motion == \"ang_right\":\n",
    "            data[\"dtheta\"] = -gait_speed_val\n",
    "\n",
    "        tmp_preset = os.path.join(tmp_dir, \"preset.json\")\n",
    "        with open(tmp_preset, 'w') as file:\n",
    "            json.dump(data, file, indent=4)\n",
    "\n",
    "        subprocess.run(['python', \"gait_generator.py\", \"--preset\", f\"{tmp_preset}\", \"--name\", f\"{gait_motion}_{gait_speed}\"])"
   ]
  },
  {
   "cell_type": "code",
   "execution_count": 8,
   "metadata": {},
   "outputs": [],
   "source": [
    "import matplotlib.pyplot as plt\n",
    "import numpy as np"
   ]
  },
  {
   "cell_type": "code",
   "execution_count": 9,
   "metadata": {},
   "outputs": [],
   "source": [
    "anim = np.load(\"../anim.npy\")\n",
    "sim = np.load(\"../sim.npy\")"
   ]
  },
  {
   "cell_type": "code",
   "execution_count": 10,
   "metadata": {},
   "outputs": [
    {
     "data": {
      "text/plain": [
       "(3038, 50, 2, 3)"
      ]
     },
     "execution_count": 10,
     "metadata": {},
     "output_type": "execute_result"
    }
   ],
   "source": [
    "anim.shape"
   ]
  },
  {
   "cell_type": "code",
   "execution_count": 11,
   "metadata": {},
   "outputs": [
    {
     "data": {
      "text/plain": [
       "[<matplotlib.lines.Line2D at 0x7f2dc0bd5790>]"
      ]
     },
     "execution_count": 11,
     "metadata": {},
     "output_type": "execute_result"
    },
    {
     "data": {
      "image/png": "[encoded data removed]",
      "text/plain": [
       "<Figure size 640x480 with 1 Axes>"
      ]
     },
     "metadata": {},
     "output_type": "display_data"
    }
   ],
   "source": [
    "plt.plot(anim[:, 0, 0, 2])\n",
    "plt.plot(sim[:, 0, 0, 2])"
   ]
  },
  {
   "cell_type": "code",
   "execution_count": null,
   "metadata": {},
   "outputs": [],
   "source": []
  }
 ],
 "metadata": {
  "kernelspec": {
   "display_name": "usr",
   "language": "python",
   "name": "python3"
  },
  "language_info": {
   "codemirror_mode": {
    "name": "ipython",
    "version": 3
   },
   "file_extension": ".py",
   "mimetype": "text/x-python",
   "name": "python",
   "nbconvert_exporter": "python",
   "pygments_lexer": "ipython3",
   "version": "3.8.10"
  }
 },
 "nbformat": 4,
 "nbformat_minor": 2
}
